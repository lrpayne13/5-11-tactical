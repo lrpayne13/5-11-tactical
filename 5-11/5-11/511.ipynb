{
 "cells": [
  {
   "cell_type": "code",
   "execution_count": 30,
   "metadata": {},
   "outputs": [],
   "source": [
    "import numpy as np\n",
    "import pandas as pd\n",
    "import os\n",
    "import matplotlib.pyplot as plt\n",
    "from sklearn.linear_model import LinearRegression\n",
    "from sklearn.metrics import mean_squared_error, r2_score\n",
    "import seaborn as sns\n",
    "import ipywidgets as widgets\n",
    "from IPython.display import display"
   ]
  },
  {
   "cell_type": "code",
   "execution_count": 31,
   "metadata": {},
   "outputs": [],
   "source": [
    "df_countries = pd.read_csv('./Countries.csv')\n",
    "df_devices = pd.read_csv('./Devices.csv')\n",
    "df_queries = pd.read_csv('./Queries.csv')\n",
    "df_dates = pd.read_csv('./Dates.csv')\n",
    "df_pages = pd.read_csv('./Pages.csv')\n",
    "df_search_appearance = pd.read_csv('./Search_appearance.csv')\n"
   ]
  },
  {
   "cell_type": "code",
   "execution_count": 32,
   "metadata": {},
   "outputs": [
    {
     "data": {
      "text/html": [
       "<div>\n",
       "<style scoped>\n",
       "    .dataframe tbody tr th:only-of-type {\n",
       "        vertical-align: middle;\n",
       "    }\n",
       "\n",
       "    .dataframe tbody tr th {\n",
       "        vertical-align: top;\n",
       "    }\n",
       "\n",
       "    .dataframe thead th {\n",
       "        text-align: right;\n",
       "    }\n",
       "</style>\n",
       "<table border=\"1\" class=\"dataframe\">\n",
       "  <thead>\n",
       "    <tr style=\"text-align: right;\">\n",
       "      <th></th>\n",
       "      <th>Top queries</th>\n",
       "      <th>Clicks</th>\n",
       "      <th>Impressions</th>\n",
       "      <th>CTR</th>\n",
       "      <th>Position</th>\n",
       "    </tr>\n",
       "  </thead>\n",
       "  <tbody>\n",
       "    <tr>\n",
       "      <th>0</th>\n",
       "      <td>5.11</td>\n",
       "      <td>9127</td>\n",
       "      <td>33849</td>\n",
       "      <td>26.96%</td>\n",
       "      <td>1.42</td>\n",
       "    </tr>\n",
       "    <tr>\n",
       "      <th>1</th>\n",
       "      <td>5.11 tactical</td>\n",
       "      <td>6667</td>\n",
       "      <td>26504</td>\n",
       "      <td>25.15%</td>\n",
       "      <td>1.05</td>\n",
       "    </tr>\n",
       "    <tr>\n",
       "      <th>2</th>\n",
       "      <td>511 tactical</td>\n",
       "      <td>4406</td>\n",
       "      <td>17789</td>\n",
       "      <td>24.77%</td>\n",
       "      <td>1.04</td>\n",
       "    </tr>\n",
       "    <tr>\n",
       "      <th>3</th>\n",
       "      <td>511</td>\n",
       "      <td>1779</td>\n",
       "      <td>19985</td>\n",
       "      <td>8.90%</td>\n",
       "      <td>2.99</td>\n",
       "    </tr>\n",
       "    <tr>\n",
       "      <th>4</th>\n",
       "      <td>5.11 tactical pants</td>\n",
       "      <td>309</td>\n",
       "      <td>2045</td>\n",
       "      <td>15.11%</td>\n",
       "      <td>1.04</td>\n",
       "    </tr>\n",
       "    <tr>\n",
       "      <th>...</th>\n",
       "      <td>...</td>\n",
       "      <td>...</td>\n",
       "      <td>...</td>\n",
       "      <td>...</td>\n",
       "      <td>...</td>\n",
       "    </tr>\n",
       "    <tr>\n",
       "      <th>12109</th>\n",
       "      <td>شورت</td>\n",
       "      <td>0</td>\n",
       "      <td>10</td>\n",
       "      <td>0.00%</td>\n",
       "      <td>83.50</td>\n",
       "    </tr>\n",
       "    <tr>\n",
       "      <th>12110</th>\n",
       "      <td>قبعة</td>\n",
       "      <td>0</td>\n",
       "      <td>8</td>\n",
       "      <td>0.00%</td>\n",
       "      <td>62.88</td>\n",
       "    </tr>\n",
       "    <tr>\n",
       "      <th>12111</th>\n",
       "      <td>قفازات</td>\n",
       "      <td>0</td>\n",
       "      <td>7</td>\n",
       "      <td>0.00%</td>\n",
       "      <td>56.14</td>\n",
       "    </tr>\n",
       "    <tr>\n",
       "      <th>12112</th>\n",
       "      <td>موديلات يونيفورم</td>\n",
       "      <td>0</td>\n",
       "      <td>6</td>\n",
       "      <td>0.00%</td>\n",
       "      <td>86.83</td>\n",
       "    </tr>\n",
       "    <tr>\n",
       "      <th>12113</th>\n",
       "      <td>٥١١</td>\n",
       "      <td>0</td>\n",
       "      <td>6</td>\n",
       "      <td>0.00%</td>\n",
       "      <td>5.67</td>\n",
       "    </tr>\n",
       "  </tbody>\n",
       "</table>\n",
       "<p>12114 rows × 5 columns</p>\n",
       "</div>"
      ],
      "text/plain": [
       "               Top queries  Clicks  Impressions     CTR  Position\n",
       "0                     5.11    9127        33849  26.96%      1.42\n",
       "1            5.11 tactical    6667        26504  25.15%      1.05\n",
       "2             511 tactical    4406        17789  24.77%      1.04\n",
       "3                      511    1779        19985   8.90%      2.99\n",
       "4      5.11 tactical pants     309         2045  15.11%      1.04\n",
       "...                    ...     ...          ...     ...       ...\n",
       "12109                 شورت       0           10   0.00%     83.50\n",
       "12110                 قبعة       0            8   0.00%     62.88\n",
       "12111               قفازات       0            7   0.00%     56.14\n",
       "12112     موديلات يونيفورم       0            6   0.00%     86.83\n",
       "12113                  ٥١١       0            6   0.00%      5.67\n",
       "\n",
       "[12114 rows x 5 columns]"
      ]
     },
     "execution_count": 32,
     "metadata": {},
     "output_type": "execute_result"
    }
   ],
   "source": [
    "df_queries"
   ]
  },
  {
   "cell_type": "code",
   "execution_count": 21,
   "metadata": {},
   "outputs": [
    {
     "data": {
      "text/html": [
       "<div>\n",
       "<style scoped>\n",
       "    .dataframe tbody tr th:only-of-type {\n",
       "        vertical-align: middle;\n",
       "    }\n",
       "\n",
       "    .dataframe tbody tr th {\n",
       "        vertical-align: top;\n",
       "    }\n",
       "\n",
       "    .dataframe thead th {\n",
       "        text-align: right;\n",
       "    }\n",
       "</style>\n",
       "<table border=\"1\" class=\"dataframe\">\n",
       "  <thead>\n",
       "    <tr style=\"text-align: right;\">\n",
       "      <th></th>\n",
       "      <th>Top queries</th>\n",
       "      <th>Clicks</th>\n",
       "      <th>Impressions</th>\n",
       "      <th>CTR</th>\n",
       "      <th>Position</th>\n",
       "    </tr>\n",
       "  </thead>\n",
       "  <tbody>\n",
       "    <tr>\n",
       "      <th>6056</th>\n",
       "      <td>rush12 bag</td>\n",
       "      <td>1</td>\n",
       "      <td>1</td>\n",
       "      <td>100.00%</td>\n",
       "      <td>1.00</td>\n",
       "    </tr>\n",
       "    <tr>\n",
       "      <th>2134</th>\n",
       "      <td>5.11 polo 71049</td>\n",
       "      <td>2</td>\n",
       "      <td>4</td>\n",
       "      <td>50.00%</td>\n",
       "      <td>1.00</td>\n",
       "    </tr>\n",
       "    <tr>\n",
       "      <th>4142</th>\n",
       "      <td>5.11 upland</td>\n",
       "      <td>1</td>\n",
       "      <td>2</td>\n",
       "      <td>50.00%</td>\n",
       "      <td>1.00</td>\n",
       "    </tr>\n",
       "    <tr>\n",
       "      <th>2136</th>\n",
       "      <td>5.11 prime plate carrier</td>\n",
       "      <td>2</td>\n",
       "      <td>4</td>\n",
       "      <td>50.00%</td>\n",
       "      <td>1.00</td>\n",
       "    </tr>\n",
       "    <tr>\n",
       "      <th>2137</th>\n",
       "      <td>5.11 pt-r gym backpack 30l</td>\n",
       "      <td>2</td>\n",
       "      <td>2</td>\n",
       "      <td>100.00%</td>\n",
       "      <td>1.00</td>\n",
       "    </tr>\n",
       "    <tr>\n",
       "      <th>...</th>\n",
       "      <td>...</td>\n",
       "      <td>...</td>\n",
       "      <td>...</td>\n",
       "      <td>...</td>\n",
       "      <td>...</td>\n",
       "    </tr>\n",
       "    <tr>\n",
       "      <th>4927</th>\n",
       "      <td>bulletproof backpack</td>\n",
       "      <td>1</td>\n",
       "      <td>3</td>\n",
       "      <td>33.33%</td>\n",
       "      <td>167.33</td>\n",
       "    </tr>\n",
       "    <tr>\n",
       "      <th>6226</th>\n",
       "      <td>t shirt in usa</td>\n",
       "      <td>1</td>\n",
       "      <td>1</td>\n",
       "      <td>100.00%</td>\n",
       "      <td>168.00</td>\n",
       "    </tr>\n",
       "    <tr>\n",
       "      <th>12066</th>\n",
       "      <td>workplace costume ideas</td>\n",
       "      <td>0</td>\n",
       "      <td>6</td>\n",
       "      <td>0.00%</td>\n",
       "      <td>172.17</td>\n",
       "    </tr>\n",
       "    <tr>\n",
       "      <th>8704</th>\n",
       "      <td>germany christmas sales</td>\n",
       "      <td>0</td>\n",
       "      <td>15</td>\n",
       "      <td>0.00%</td>\n",
       "      <td>183.00</td>\n",
       "    </tr>\n",
       "    <tr>\n",
       "      <th>5381</th>\n",
       "      <td>hat shop</td>\n",
       "      <td>1</td>\n",
       "      <td>1</td>\n",
       "      <td>100.00%</td>\n",
       "      <td>305.00</td>\n",
       "    </tr>\n",
       "  </tbody>\n",
       "</table>\n",
       "<p>12114 rows × 5 columns</p>\n",
       "</div>"
      ],
      "text/plain": [
       "                      Top queries  Clicks  Impressions      CTR  Position\n",
       "6056                   rush12 bag       1            1  100.00%      1.00\n",
       "2134              5.11 polo 71049       2            4   50.00%      1.00\n",
       "4142                  5.11 upland       1            2   50.00%      1.00\n",
       "2136     5.11 prime plate carrier       2            4   50.00%      1.00\n",
       "2137   5.11 pt-r gym backpack 30l       2            2  100.00%      1.00\n",
       "...                           ...     ...          ...      ...       ...\n",
       "4927         bulletproof backpack       1            3   33.33%    167.33\n",
       "6226               t shirt in usa       1            1  100.00%    168.00\n",
       "12066     workplace costume ideas       0            6    0.00%    172.17\n",
       "8704      germany christmas sales       0           15    0.00%    183.00\n",
       "5381                     hat shop       1            1  100.00%    305.00\n",
       "\n",
       "[12114 rows x 5 columns]"
      ]
     },
     "execution_count": 21,
     "metadata": {},
     "output_type": "execute_result"
    }
   ],
   "source": [
    "df_queries_position = df_queries.sort_values('Position', ascending=True)\n",
    "df_queries_position"
   ]
  },
  {
   "cell_type": "code",
   "execution_count": 25,
   "metadata": {},
   "outputs": [
    {
     "data": {
      "text/html": [
       "<div>\n",
       "<style scoped>\n",
       "    .dataframe tbody tr th:only-of-type {\n",
       "        vertical-align: middle;\n",
       "    }\n",
       "\n",
       "    .dataframe tbody tr th {\n",
       "        vertical-align: top;\n",
       "    }\n",
       "\n",
       "    .dataframe thead th {\n",
       "        text-align: right;\n",
       "    }\n",
       "</style>\n",
       "<table border=\"1\" class=\"dataframe\">\n",
       "  <thead>\n",
       "    <tr style=\"text-align: right;\">\n",
       "      <th></th>\n",
       "      <th>Top queries</th>\n",
       "      <th>Clicks</th>\n",
       "      <th>Impressions</th>\n",
       "      <th>CTR</th>\n",
       "      <th>Position</th>\n",
       "    </tr>\n",
       "  </thead>\n",
       "  <tbody>\n",
       "    <tr>\n",
       "      <th>145</th>\n",
       "      <td>bop uniform shop</td>\n",
       "      <td>23</td>\n",
       "      <td>233</td>\n",
       "      <td>9.87%</td>\n",
       "      <td>2.74</td>\n",
       "    </tr>\n",
       "    <tr>\n",
       "      <th>125</th>\n",
       "      <td>rush 24</td>\n",
       "      <td>26</td>\n",
       "      <td>267</td>\n",
       "      <td>9.74%</td>\n",
       "      <td>3.79</td>\n",
       "    </tr>\n",
       "    <tr>\n",
       "      <th>572</th>\n",
       "      <td>5.11 tactical plate carrier</td>\n",
       "      <td>7</td>\n",
       "      <td>72</td>\n",
       "      <td>9.72%</td>\n",
       "      <td>1.04</td>\n",
       "    </tr>\n",
       "    <tr>\n",
       "      <th>1609</th>\n",
       "      <td>511 maverick battle belt</td>\n",
       "      <td>3</td>\n",
       "      <td>31</td>\n",
       "      <td>9.68%</td>\n",
       "      <td>1.32</td>\n",
       "    </tr>\n",
       "    <tr>\n",
       "      <th>1705</th>\n",
       "      <td>concealed carry shirts for men</td>\n",
       "      <td>3</td>\n",
       "      <td>31</td>\n",
       "      <td>9.68%</td>\n",
       "      <td>3.32</td>\n",
       "    </tr>\n",
       "    <tr>\n",
       "      <th>...</th>\n",
       "      <td>...</td>\n",
       "      <td>...</td>\n",
       "      <td>...</td>\n",
       "      <td>...</td>\n",
       "      <td>...</td>\n",
       "    </tr>\n",
       "    <tr>\n",
       "      <th>8623</th>\n",
       "      <td>flex ar</td>\n",
       "      <td>0</td>\n",
       "      <td>8</td>\n",
       "      <td>0.00%</td>\n",
       "      <td>9.12</td>\n",
       "    </tr>\n",
       "    <tr>\n",
       "      <th>8622</th>\n",
       "      <td>fleece neck warmer</td>\n",
       "      <td>0</td>\n",
       "      <td>11</td>\n",
       "      <td>0.00%</td>\n",
       "      <td>63.27</td>\n",
       "    </tr>\n",
       "    <tr>\n",
       "      <th>8621</th>\n",
       "      <td>fleece neck gaiter</td>\n",
       "      <td>0</td>\n",
       "      <td>44</td>\n",
       "      <td>0.00%</td>\n",
       "      <td>59.41</td>\n",
       "    </tr>\n",
       "    <tr>\n",
       "      <th>8620</th>\n",
       "      <td>fleece jackets near me</td>\n",
       "      <td>0</td>\n",
       "      <td>2327</td>\n",
       "      <td>0.00%</td>\n",
       "      <td>57.76</td>\n",
       "    </tr>\n",
       "    <tr>\n",
       "      <th>12113</th>\n",
       "      <td>٥١١</td>\n",
       "      <td>0</td>\n",
       "      <td>6</td>\n",
       "      <td>0.00%</td>\n",
       "      <td>5.67</td>\n",
       "    </tr>\n",
       "  </tbody>\n",
       "</table>\n",
       "<p>12114 rows × 5 columns</p>\n",
       "</div>"
      ],
      "text/plain": [
       "                          Top queries  Clicks  Impressions    CTR  Position\n",
       "145                  bop uniform shop      23          233  9.87%      2.74\n",
       "125                           rush 24      26          267  9.74%      3.79\n",
       "572       5.11 tactical plate carrier       7           72  9.72%      1.04\n",
       "1609         511 maverick battle belt       3           31  9.68%      1.32\n",
       "1705   concealed carry shirts for men       3           31  9.68%      3.32\n",
       "...                               ...     ...          ...    ...       ...\n",
       "8623                          flex ar       0            8  0.00%      9.12\n",
       "8622               fleece neck warmer       0           11  0.00%     63.27\n",
       "8621               fleece neck gaiter       0           44  0.00%     59.41\n",
       "8620           fleece jackets near me       0         2327  0.00%     57.76\n",
       "12113                             ٥١١       0            6  0.00%      5.67\n",
       "\n",
       "[12114 rows x 5 columns]"
      ]
     },
     "execution_count": 25,
     "metadata": {},
     "output_type": "execute_result"
    }
   ],
   "source": [
    "df_queries_CTR = df_queries.sort_values('CTR', ascending=False)\n",
    "df_queries_CTR"
   ]
  },
  {
   "cell_type": "code",
   "execution_count": 26,
   "metadata": {},
   "outputs": [
    {
     "data": {
      "text/html": [
       "<div>\n",
       "<style scoped>\n",
       "    .dataframe tbody tr th:only-of-type {\n",
       "        vertical-align: middle;\n",
       "    }\n",
       "\n",
       "    .dataframe tbody tr th {\n",
       "        vertical-align: top;\n",
       "    }\n",
       "\n",
       "    .dataframe thead th {\n",
       "        text-align: right;\n",
       "    }\n",
       "</style>\n",
       "<table border=\"1\" class=\"dataframe\">\n",
       "  <thead>\n",
       "    <tr style=\"text-align: right;\">\n",
       "      <th></th>\n",
       "      <th>Top queries</th>\n",
       "      <th>Clicks</th>\n",
       "      <th>Impressions</th>\n",
       "      <th>CTR</th>\n",
       "      <th>Position</th>\n",
       "    </tr>\n",
       "  </thead>\n",
       "  <tbody>\n",
       "    <tr>\n",
       "      <th>0</th>\n",
       "      <td>5.11</td>\n",
       "      <td>9127</td>\n",
       "      <td>33849</td>\n",
       "      <td>26.96%</td>\n",
       "      <td>1.42</td>\n",
       "    </tr>\n",
       "    <tr>\n",
       "      <th>1</th>\n",
       "      <td>5.11 tactical</td>\n",
       "      <td>6667</td>\n",
       "      <td>26504</td>\n",
       "      <td>25.15%</td>\n",
       "      <td>1.05</td>\n",
       "    </tr>\n",
       "    <tr>\n",
       "      <th>2</th>\n",
       "      <td>511 tactical</td>\n",
       "      <td>4406</td>\n",
       "      <td>17789</td>\n",
       "      <td>24.77%</td>\n",
       "      <td>1.04</td>\n",
       "    </tr>\n",
       "    <tr>\n",
       "      <th>3</th>\n",
       "      <td>511</td>\n",
       "      <td>1779</td>\n",
       "      <td>19985</td>\n",
       "      <td>8.90%</td>\n",
       "      <td>2.99</td>\n",
       "    </tr>\n",
       "    <tr>\n",
       "      <th>4</th>\n",
       "      <td>5.11 tactical pants</td>\n",
       "      <td>309</td>\n",
       "      <td>2045</td>\n",
       "      <td>15.11%</td>\n",
       "      <td>1.04</td>\n",
       "    </tr>\n",
       "    <tr>\n",
       "      <th>...</th>\n",
       "      <td>...</td>\n",
       "      <td>...</td>\n",
       "      <td>...</td>\n",
       "      <td>...</td>\n",
       "      <td>...</td>\n",
       "    </tr>\n",
       "    <tr>\n",
       "      <th>8623</th>\n",
       "      <td>flex ar</td>\n",
       "      <td>0</td>\n",
       "      <td>8</td>\n",
       "      <td>0.00%</td>\n",
       "      <td>9.12</td>\n",
       "    </tr>\n",
       "    <tr>\n",
       "      <th>8622</th>\n",
       "      <td>fleece neck warmer</td>\n",
       "      <td>0</td>\n",
       "      <td>11</td>\n",
       "      <td>0.00%</td>\n",
       "      <td>63.27</td>\n",
       "    </tr>\n",
       "    <tr>\n",
       "      <th>8621</th>\n",
       "      <td>fleece neck gaiter</td>\n",
       "      <td>0</td>\n",
       "      <td>44</td>\n",
       "      <td>0.00%</td>\n",
       "      <td>59.41</td>\n",
       "    </tr>\n",
       "    <tr>\n",
       "      <th>8620</th>\n",
       "      <td>fleece jackets near me</td>\n",
       "      <td>0</td>\n",
       "      <td>2327</td>\n",
       "      <td>0.00%</td>\n",
       "      <td>57.76</td>\n",
       "    </tr>\n",
       "    <tr>\n",
       "      <th>12113</th>\n",
       "      <td>٥١١</td>\n",
       "      <td>0</td>\n",
       "      <td>6</td>\n",
       "      <td>0.00%</td>\n",
       "      <td>5.67</td>\n",
       "    </tr>\n",
       "  </tbody>\n",
       "</table>\n",
       "<p>12114 rows × 5 columns</p>\n",
       "</div>"
      ],
      "text/plain": [
       "                  Top queries  Clicks  Impressions     CTR  Position\n",
       "0                        5.11    9127        33849  26.96%      1.42\n",
       "1               5.11 tactical    6667        26504  25.15%      1.05\n",
       "2                511 tactical    4406        17789  24.77%      1.04\n",
       "3                         511    1779        19985   8.90%      2.99\n",
       "4         5.11 tactical pants     309         2045  15.11%      1.04\n",
       "...                       ...     ...          ...     ...       ...\n",
       "8623                  flex ar       0            8   0.00%      9.12\n",
       "8622       fleece neck warmer       0           11   0.00%     63.27\n",
       "8621       fleece neck gaiter       0           44   0.00%     59.41\n",
       "8620   fleece jackets near me       0         2327   0.00%     57.76\n",
       "12113                     ٥١١       0            6   0.00%      5.67\n",
       "\n",
       "[12114 rows x 5 columns]"
      ]
     },
     "execution_count": 26,
     "metadata": {},
     "output_type": "execute_result"
    }
   ],
   "source": [
    "df_queries_Clicks = df_queries.sort_values('Clicks', ascending=False)\n",
    "df_queries_Clicks"
   ]
  },
  {
   "cell_type": "code",
   "execution_count": 22,
   "metadata": {},
   "outputs": [
    {
     "data": {
      "image/png": "[encoded data removed]",
      "text/plain": [
       "<Figure size 640x480 with 1 Axes>"
      ]
     },
     "metadata": {},
     "output_type": "display_data"
    }
   ],
   "source": [
    "sns.barplot(data=df_devices, x='Device', y='Clicks')\n",
    "plt.title('Clicks by Device Type')\n",
    "plt.show()\n",
    "\n"
   ]
  },
  {
   "cell_type": "code",
   "execution_count": 23,
   "metadata": {},
   "outputs": [
    {
     "data": {
      "image/png": "[encoded data removed]",
      "text/plain": [
       "<Figure size 640x480 with 1 Axes>"
      ]
     },
     "metadata": {},
     "output_type": "display_data"
    }
   ],
   "source": [
    "df_dates['Date'] = pd.to_datetime(df_dates['Date'])\n",
    "df_dates.set_index('Date', inplace=True)\n",
    "df_dates['Clicks'].plot()\n",
    "plt.title('Clicks Over Time')\n",
    "plt.xlabel('Date')\n",
    "plt.ylabel('Clicks')\n",
    "plt.show()\n"
   ]
  },
  {
   "cell_type": "code",
   "execution_count": 24,
   "metadata": {},
   "outputs": [
    {
     "name": "stderr",
     "output_type": "stream",
     "text": [
      "2024-05-13 11:36:03.051 \n",
      "  \u001b[33m\u001b[1mWarning:\u001b[0m to view this Streamlit app on a browser, run it with the following\n",
      "  command:\n",
      "\n",
      "    streamlit run c:\\Users\\lrpay\\anaconda3\\envs\\dev\\lib\\site-packages\\ipykernel_launcher.py [ARGUMENTS]\n"
     ]
    },
    {
     "data": {
      "text/plain": [
       "DeltaGenerator()"
      ]
     },
     "execution_count": 24,
     "metadata": {},
     "output_type": "execute_result"
    }
   ],
   "source": [
    "import streamlit as st\n",
    "\n",
    "st.title('5.11 Tactical GSC Performance Analysis')\n",
    "\n",
    "st.header('Clicks by Country')\n",
    "st.bar_chart(df_countries.set_index('Country')['Clicks'])\n",
    "\n",
    "st.header('Clicks by Device')\n",
    "st.bar_chart(df_devices.set_index('Device')['Clicks'])\n",
    "\n",
    "st.header('Clicks Over Time')\n",
    "st.line_chart(df_dates['Clicks'])\n"
   ]
  },
  {
   "cell_type": "code",
   "execution_count": 3,
   "metadata": {},
   "outputs": [
    {
     "name": "stdout",
     "output_type": "stream",
     "text": [
      "           Top queries  Clicks  Impressions     CTR  Position\n",
      "0                 5.11    9127        33849  26.96%      1.42\n",
      "1        5.11 tactical    6667        26504  25.15%      1.05\n",
      "2         511 tactical    4406        17789  24.77%      1.04\n",
      "3                  511    1779        19985   8.90%      2.99\n",
      "4  5.11 tactical pants     309         2045  15.11%      1.04\n"
     ]
    },
    {
     "data": {
      "image/png": "[encoded data removed]",
      "text/plain": [
       "<Figure size 1000x800 with 2 Axes>"
      ]
     },
     "metadata": {},
     "output_type": "display_data"
    }
   ],
   "source": [
    "import pandas as pd\n",
    "import matplotlib.pyplot as plt\n",
    "import seaborn as sns\n",
    "\n",
    "df = df_queries\n",
    "print(df.head())\n",
    "\n",
    "numeric_df = df.select_dtypes(include='number')\n",
    "plt.figure(figsize=(10, 8))\n",
    "sns.heatmap(numeric_df.corr(), annot=True, cmap='coolwarm', fmt=\".2f\")\n",
    "plt.title('Correlation Heatmap')\n",
    "plt.show()\n",
    "\n"
   ]
  },
  {
   "cell_type": "code",
   "execution_count": 10,
   "metadata": {},
   "outputs": [
    {
     "data": {
      "text/html": [
       "<div>\n",
       "<style scoped>\n",
       "    .dataframe tbody tr th:only-of-type {\n",
       "        vertical-align: middle;\n",
       "    }\n",
       "\n",
       "    .dataframe tbody tr th {\n",
       "        vertical-align: top;\n",
       "    }\n",
       "\n",
       "    .dataframe thead th {\n",
       "        text-align: right;\n",
       "    }\n",
       "</style>\n",
       "<table border=\"1\" class=\"dataframe\">\n",
       "  <thead>\n",
       "    <tr style=\"text-align: right;\">\n",
       "      <th></th>\n",
       "      <th>Date</th>\n",
       "      <th>Clicks</th>\n",
       "      <th>Impressions</th>\n",
       "      <th>CTR</th>\n",
       "      <th>Position</th>\n",
       "    </tr>\n",
       "  </thead>\n",
       "  <tbody>\n",
       "    <tr>\n",
       "      <th>0</th>\n",
       "      <td>2024-05-07</td>\n",
       "      <td>14097</td>\n",
       "      <td>207833</td>\n",
       "      <td>6.78%</td>\n",
       "      <td>28.23</td>\n",
       "    </tr>\n",
       "    <tr>\n",
       "      <th>1</th>\n",
       "      <td>2024-05-06</td>\n",
       "      <td>10906</td>\n",
       "      <td>180478</td>\n",
       "      <td>6.04%</td>\n",
       "      <td>26.57</td>\n",
       "    </tr>\n",
       "    <tr>\n",
       "      <th>2</th>\n",
       "      <td>2024-05-05</td>\n",
       "      <td>9779</td>\n",
       "      <td>187288</td>\n",
       "      <td>5.22%</td>\n",
       "      <td>29.86</td>\n",
       "    </tr>\n",
       "    <tr>\n",
       "      <th>3</th>\n",
       "      <td>2024-05-04</td>\n",
       "      <td>9733</td>\n",
       "      <td>185967</td>\n",
       "      <td>5.23%</td>\n",
       "      <td>30.15</td>\n",
       "    </tr>\n",
       "    <tr>\n",
       "      <th>4</th>\n",
       "      <td>2024-05-03</td>\n",
       "      <td>10358</td>\n",
       "      <td>195984</td>\n",
       "      <td>5.29%</td>\n",
       "      <td>29.76</td>\n",
       "    </tr>\n",
       "    <tr>\n",
       "      <th>5</th>\n",
       "      <td>2024-05-02</td>\n",
       "      <td>10673</td>\n",
       "      <td>218708</td>\n",
       "      <td>4.88%</td>\n",
       "      <td>35.02</td>\n",
       "    </tr>\n",
       "  </tbody>\n",
       "</table>\n",
       "</div>"
      ],
      "text/plain": [
       "         Date  Clicks  Impressions    CTR  Position\n",
       "0  2024-05-07   14097       207833  6.78%     28.23\n",
       "1  2024-05-06   10906       180478  6.04%     26.57\n",
       "2  2024-05-05    9779       187288  5.22%     29.86\n",
       "3  2024-05-04    9733       185967  5.23%     30.15\n",
       "4  2024-05-03   10358       195984  5.29%     29.76\n",
       "5  2024-05-02   10673       218708  4.88%     35.02"
      ]
     },
     "execution_count": 10,
     "metadata": {},
     "output_type": "execute_result"
    }
   ],
   "source": [
    "file_path = './Dates.csv'\n",
    "df_dates = pd.read_csv(file_path)\n",
    "df=df_dates\n",
    "df"
   ]
  },
  {
   "cell_type": "code",
   "execution_count": 11,
   "metadata": {},
   "outputs": [
    {
     "data": {
      "image/png": "[encoded data removed]",
      "text/plain": [
       "<Figure size 1000x600 with 1 Axes>"
      ]
     },
     "metadata": {},
     "output_type": "display_data"
    }
   ],
   "source": [
    "\n",
    "df['Date'] = pd.to_datetime(df['Date']) \n",
    "df.set_index('Date', inplace=True)\n",
    "\n",
    "# Plot Clicks over time\n",
    "plt.figure(figsize=(10, 6))\n",
    "df['Clicks'].plot()\n",
    "plt.xlabel('Date')\n",
    "plt.ylabel('Clicks')\n",
    "plt.title('Clicks Over Time')\n",
    "plt.grid(True)\n",
    "plt.show()\n"
   ]
  },
  {
   "cell_type": "code",
   "execution_count": 13,
   "metadata": {},
   "outputs": [
    {
     "data": {
      "image/png": "[encoded data removed]",
      "text/plain": [
       "<Figure size 1200x800 with 2 Axes>"
      ]
     },
     "metadata": {},
     "output_type": "display_data"
    }
   ],
   "source": [
    "# Group by Date and Position to create a pivot table\n",
    "heatmap_data = df.pivot_table(index='Date', columns='Position', values='Clicks', aggfunc='sum')\n",
    "\n",
    "# Plot the heatmap\n",
    "plt.figure(figsize=(12, 8))\n",
    "sns.heatmap(heatmap_data, cmap='coolwarm', annot=True, fmt=\".1f\")\n",
    "plt.title('Clicks Heatmap Over Time (by Position)')\n",
    "plt.xlabel('Position')\n",
    "plt.ylabel('Date')\n",
    "plt.show()\n"
   ]
  },
  {
   "cell_type": "code",
   "execution_count": 14,
   "metadata": {},
   "outputs": [
    {
     "data": {
      "image/png": "[encoded data removed]",
      "text/plain": [
       "<Figure size 1000x600 with 1 Axes>"
      ]
     },
     "metadata": {},
     "output_type": "display_data"
    }
   ],
   "source": [
    "plt.figure(figsize=(10, 6))\n",
    "sns.histplot(df['Clicks'], kde=True, bins=20)  # kde=True adds a density plot overlay\n",
    "plt.xlabel('Clicks')\n",
    "plt.ylabel('Frequency')\n",
    "plt.title('Distribution of Clicks')\n",
    "plt.show()\n"
   ]
  },
  {
   "cell_type": "code",
   "execution_count": null,
   "metadata": {},
   "outputs": [],
   "source": [
    "########################################################################################"
   ]
  },
  {
   "cell_type": "code",
   "execution_count": null,
   "metadata": {},
   "outputs": [],
   "source": [
    "import sweetviz as sv\n",
    "\n",
    "\n",
    "# Generate the report\n",
    "#report = sv.analyze(df_pages)\n",
    "\n",
    "df_mens = df_combined[df_combined['Top pages'].str.contains('https://www.511tactical.com/mens/')]\n",
    "df_womens = df_combined[df_combined['Top pages'].str.contains('https://www.511tactical.com/womens/')]\n",
    "\n",
    "report = sv.compare_intra(df_combined, df_combined['Top pages'].str.contains('https://www.511tactical.com/mens/'), ['Mens', 'Womens'])\n",
    "\n",
    "# To generate and show the report\n",
    "report.show_html('comparison_report.html')"
   ]
  },
  {
   "cell_type": "code",
   "execution_count": 7,
   "metadata": {},
   "outputs": [],
   "source": [
    "df_queries_position['CTR'] = df_queries_position['CTR'].str.rstrip('%').astype('float') / 100.0\n",
    "average_position = df_queries_position['Position'].mean()\n",
    "average_ctr = df_queries_position['CTR'].mean()\n"
   ]
  },
  {
   "cell_type": "code",
   "execution_count": 8,
   "metadata": {},
   "outputs": [
    {
     "name": "stderr",
     "output_type": "stream",
     "text": [
      "C:\\Users\\lrpay\\AppData\\Local\\Temp\\ipykernel_31244\\2563490600.py:2: SettingWithCopyWarning: \n",
      "A value is trying to be set on a copy of a slice from a DataFrame.\n",
      "Try using .loc[row_indexer,col_indexer] = value instead\n",
      "\n",
      "See the caveats in the documentation: https://pandas.pydata.org/pandas-docs/stable/user_guide/indexing.html#returning-a-view-versus-a-copy\n",
      "  top_df_queries_CTR['CTR'] = top_df_queries_CTR['CTR'].str.rstrip('%').astype('float') / 100.0\n"
     ]
    }
   ],
   "source": [
    "top_df_queries_CTR = df_queries_CTR.head(20)\n",
    "top_df_queries_CTR['CTR'] = top_df_queries_CTR['CTR'].str.rstrip('%').astype('float') / 100.0\n"
   ]
  },
  {
   "cell_type": "code",
   "execution_count": 9,
   "metadata": {},
   "outputs": [
    {
     "name": "stderr",
     "output_type": "stream",
     "text": [
      "C:\\Users\\lrpay\\AppData\\Local\\Temp\\ipykernel_31244\\1351984373.py:7: SettingWithCopyWarning: \n",
      "A value is trying to be set on a copy of a slice from a DataFrame.\n",
      "Try using .loc[row_indexer,col_indexer] = value instead\n",
      "\n",
      "See the caveats in the documentation: https://pandas.pydata.org/pandas-docs/stable/user_guide/indexing.html#returning-a-view-versus-a-copy\n",
      "  df_filtered['CTR'] = df_filtered['CTR'].str.rstrip('%').astype('float') / 100.0\n"
     ]
    },
    {
     "data": {
      "text/html": [
       "<div>\n",
       "<style scoped>\n",
       "    .dataframe tbody tr th:only-of-type {\n",
       "        vertical-align: middle;\n",
       "    }\n",
       "\n",
       "    .dataframe tbody tr th {\n",
       "        vertical-align: top;\n",
       "    }\n",
       "\n",
       "    .dataframe thead th {\n",
       "        text-align: right;\n",
       "    }\n",
       "</style>\n",
       "<table border=\"1\" class=\"dataframe\">\n",
       "  <thead>\n",
       "    <tr style=\"text-align: right;\">\n",
       "      <th></th>\n",
       "      <th>Top queries</th>\n",
       "      <th>Clicks</th>\n",
       "      <th>Impressions</th>\n",
       "      <th>CTR</th>\n",
       "      <th>Position</th>\n",
       "    </tr>\n",
       "  </thead>\n",
       "  <tbody>\n",
       "    <tr>\n",
       "      <th>145</th>\n",
       "      <td>bop uniform shop</td>\n",
       "      <td>23</td>\n",
       "      <td>233</td>\n",
       "      <td>0.0987</td>\n",
       "      <td>2.74</td>\n",
       "    </tr>\n",
       "    <tr>\n",
       "      <th>125</th>\n",
       "      <td>rush 24</td>\n",
       "      <td>26</td>\n",
       "      <td>267</td>\n",
       "      <td>0.0974</td>\n",
       "      <td>3.79</td>\n",
       "    </tr>\n",
       "    <tr>\n",
       "      <th>1705</th>\n",
       "      <td>concealed carry shirts for men</td>\n",
       "      <td>3</td>\n",
       "      <td>31</td>\n",
       "      <td>0.0968</td>\n",
       "      <td>3.32</td>\n",
       "    </tr>\n",
       "    <tr>\n",
       "      <th>183</th>\n",
       "      <td>rush 12</td>\n",
       "      <td>19</td>\n",
       "      <td>199</td>\n",
       "      <td>0.0955</td>\n",
       "      <td>4.42</td>\n",
       "    </tr>\n",
       "    <tr>\n",
       "      <th>3070</th>\n",
       "      <td>تاكتيكال</td>\n",
       "      <td>2</td>\n",
       "      <td>21</td>\n",
       "      <td>0.0952</td>\n",
       "      <td>8.62</td>\n",
       "    </tr>\n",
       "    <tr>\n",
       "      <th>...</th>\n",
       "      <td>...</td>\n",
       "      <td>...</td>\n",
       "      <td>...</td>\n",
       "      <td>...</td>\n",
       "      <td>...</td>\n",
       "    </tr>\n",
       "    <tr>\n",
       "      <th>8623</th>\n",
       "      <td>flex ar</td>\n",
       "      <td>0</td>\n",
       "      <td>8</td>\n",
       "      <td>0.0000</td>\n",
       "      <td>9.12</td>\n",
       "    </tr>\n",
       "    <tr>\n",
       "      <th>8622</th>\n",
       "      <td>fleece neck warmer</td>\n",
       "      <td>0</td>\n",
       "      <td>11</td>\n",
       "      <td>0.0000</td>\n",
       "      <td>63.27</td>\n",
       "    </tr>\n",
       "    <tr>\n",
       "      <th>8621</th>\n",
       "      <td>fleece neck gaiter</td>\n",
       "      <td>0</td>\n",
       "      <td>44</td>\n",
       "      <td>0.0000</td>\n",
       "      <td>59.41</td>\n",
       "    </tr>\n",
       "    <tr>\n",
       "      <th>8620</th>\n",
       "      <td>fleece jackets near me</td>\n",
       "      <td>0</td>\n",
       "      <td>2327</td>\n",
       "      <td>0.0000</td>\n",
       "      <td>57.76</td>\n",
       "    </tr>\n",
       "    <tr>\n",
       "      <th>12113</th>\n",
       "      <td>٥١١</td>\n",
       "      <td>0</td>\n",
       "      <td>6</td>\n",
       "      <td>0.0000</td>\n",
       "      <td>5.67</td>\n",
       "    </tr>\n",
       "  </tbody>\n",
       "</table>\n",
       "<p>7992 rows × 5 columns</p>\n",
       "</div>"
      ],
      "text/plain": [
       "                          Top queries  Clicks  Impressions     CTR  Position\n",
       "145                  bop uniform shop      23          233  0.0987      2.74\n",
       "125                           rush 24      26          267  0.0974      3.79\n",
       "1705   concealed carry shirts for men       3           31  0.0968      3.32\n",
       "183                           rush 12      19          199  0.0955      4.42\n",
       "3070                         تاكتيكال       2           21  0.0952      8.62\n",
       "...                               ...     ...          ...     ...       ...\n",
       "8623                          flex ar       0            8  0.0000      9.12\n",
       "8622               fleece neck warmer       0           11  0.0000     63.27\n",
       "8621               fleece neck gaiter       0           44  0.0000     59.41\n",
       "8620           fleece jackets near me       0         2327  0.0000     57.76\n",
       "12113                             ٥١١       0            6  0.0000      5.67\n",
       "\n",
       "[7992 rows x 5 columns]"
      ]
     },
     "execution_count": 9,
     "metadata": {},
     "output_type": "execute_result"
    }
   ],
   "source": [
    "# Create a boolean mask where True indicates rows where the 'Top queries' column\n",
    "# contains \"5.11\", \"511\", or \"5 eleven\"\n",
    "mask = df_queries_CTR['Top queries'].str.contains('5.11|511|5 eleven', case=False, na=False)\n",
    "\n",
    "# Invert the mask to keep rows where the condition is False (i.e., do not contain the strings)\n",
    "df_filtered = df_queries_CTR[~mask]\n",
    "df_filtered['CTR'] = df_filtered['CTR'].str.rstrip('%').astype('float') / 100.0\n",
    "\n",
    "# df_filtered will now contain the DataFrame without the rows with \"5.11\", \"511\", or \"5 eleven\".\n",
    "# Note: This operation is case-insensitive due to case=False. If you want it to be case-sensitive, remove that argument.\n",
    "df_filtered  # Display the first few rows of the filtered DataFrame to verify\n"
   ]
  },
  {
   "cell_type": "code",
   "execution_count": 10,
   "metadata": {},
   "outputs": [
    {
     "data": {
      "text/html": [
       "<div>\n",
       "<style scoped>\n",
       "    .dataframe tbody tr th:only-of-type {\n",
       "        vertical-align: middle;\n",
       "    }\n",
       "\n",
       "    .dataframe tbody tr th {\n",
       "        vertical-align: top;\n",
       "    }\n",
       "\n",
       "    .dataframe thead th {\n",
       "        text-align: right;\n",
       "    }\n",
       "</style>\n",
       "<table border=\"1\" class=\"dataframe\">\n",
       "  <thead>\n",
       "    <tr style=\"text-align: right;\">\n",
       "      <th></th>\n",
       "      <th>Top queries</th>\n",
       "      <th>CTR</th>\n",
       "    </tr>\n",
       "  </thead>\n",
       "  <tbody>\n",
       "    <tr>\n",
       "      <th>145</th>\n",
       "      <td>bop uniform shop</td>\n",
       "      <td>0.0987</td>\n",
       "    </tr>\n",
       "    <tr>\n",
       "      <th>125</th>\n",
       "      <td>rush 24</td>\n",
       "      <td>0.0974</td>\n",
       "    </tr>\n",
       "    <tr>\n",
       "      <th>1705</th>\n",
       "      <td>concealed carry shirts for men</td>\n",
       "      <td>0.0968</td>\n",
       "    </tr>\n",
       "    <tr>\n",
       "      <th>183</th>\n",
       "      <td>rush 12</td>\n",
       "      <td>0.0955</td>\n",
       "    </tr>\n",
       "    <tr>\n",
       "      <th>3070</th>\n",
       "      <td>تاكتيكال</td>\n",
       "      <td>0.0952</td>\n",
       "    </tr>\n",
       "    <tr>\n",
       "      <th>...</th>\n",
       "      <td>...</td>\n",
       "      <td>...</td>\n",
       "    </tr>\n",
       "    <tr>\n",
       "      <th>8623</th>\n",
       "      <td>flex ar</td>\n",
       "      <td>0.0000</td>\n",
       "    </tr>\n",
       "    <tr>\n",
       "      <th>8622</th>\n",
       "      <td>fleece neck warmer</td>\n",
       "      <td>0.0000</td>\n",
       "    </tr>\n",
       "    <tr>\n",
       "      <th>8621</th>\n",
       "      <td>fleece neck gaiter</td>\n",
       "      <td>0.0000</td>\n",
       "    </tr>\n",
       "    <tr>\n",
       "      <th>8620</th>\n",
       "      <td>fleece jackets near me</td>\n",
       "      <td>0.0000</td>\n",
       "    </tr>\n",
       "    <tr>\n",
       "      <th>12113</th>\n",
       "      <td>٥١١</td>\n",
       "      <td>0.0000</td>\n",
       "    </tr>\n",
       "  </tbody>\n",
       "</table>\n",
       "<p>7992 rows × 2 columns</p>\n",
       "</div>"
      ],
      "text/plain": [
       "                          Top queries     CTR\n",
       "145                  bop uniform shop  0.0987\n",
       "125                           rush 24  0.0974\n",
       "1705   concealed carry shirts for men  0.0968\n",
       "183                           rush 12  0.0955\n",
       "3070                         تاكتيكال  0.0952\n",
       "...                               ...     ...\n",
       "8623                          flex ar  0.0000\n",
       "8622               fleece neck warmer  0.0000\n",
       "8621               fleece neck gaiter  0.0000\n",
       "8620           fleece jackets near me  0.0000\n",
       "12113                             ٥١١  0.0000\n",
       "\n",
       "[7992 rows x 2 columns]"
      ]
     },
     "execution_count": 10,
     "metadata": {},
     "output_type": "execute_result"
    }
   ],
   "source": [
    "df_Top_n_CTR = df_filtered.drop(['Clicks', 'Impressions', 'Position'], axis=1)\n",
    "df_Top_n_CTR"
   ]
  },
  {
   "cell_type": "code",
   "execution_count": 11,
   "metadata": {},
   "outputs": [
    {
     "data": {
      "text/html": [
       "<div>\n",
       "<style scoped>\n",
       "    .dataframe tbody tr th:only-of-type {\n",
       "        vertical-align: middle;\n",
       "    }\n",
       "\n",
       "    .dataframe tbody tr th {\n",
       "        vertical-align: top;\n",
       "    }\n",
       "\n",
       "    .dataframe thead th {\n",
       "        text-align: right;\n",
       "    }\n",
       "</style>\n",
       "<table border=\"1\" class=\"dataframe\">\n",
       "  <thead>\n",
       "    <tr style=\"text-align: right;\">\n",
       "      <th></th>\n",
       "      <th>Top queries</th>\n",
       "      <th>Clicks</th>\n",
       "      <th>Impressions</th>\n",
       "      <th>CTR</th>\n",
       "      <th>Position</th>\n",
       "    </tr>\n",
       "  </thead>\n",
       "  <tbody>\n",
       "    <tr>\n",
       "      <th>145</th>\n",
       "      <td>bop uniform shop</td>\n",
       "      <td>23</td>\n",
       "      <td>233</td>\n",
       "      <td>0.0987</td>\n",
       "      <td>2.74</td>\n",
       "    </tr>\n",
       "    <tr>\n",
       "      <th>125</th>\n",
       "      <td>rush 24</td>\n",
       "      <td>26</td>\n",
       "      <td>267</td>\n",
       "      <td>0.0974</td>\n",
       "      <td>3.79</td>\n",
       "    </tr>\n",
       "    <tr>\n",
       "      <th>1705</th>\n",
       "      <td>concealed carry shirts for men</td>\n",
       "      <td>3</td>\n",
       "      <td>31</td>\n",
       "      <td>0.0968</td>\n",
       "      <td>3.32</td>\n",
       "    </tr>\n",
       "    <tr>\n",
       "      <th>183</th>\n",
       "      <td>rush 12</td>\n",
       "      <td>19</td>\n",
       "      <td>199</td>\n",
       "      <td>0.0955</td>\n",
       "      <td>4.42</td>\n",
       "    </tr>\n",
       "    <tr>\n",
       "      <th>3070</th>\n",
       "      <td>تاكتيكال</td>\n",
       "      <td>2</td>\n",
       "      <td>21</td>\n",
       "      <td>0.0952</td>\n",
       "      <td>8.62</td>\n",
       "    </tr>\n",
       "    <tr>\n",
       "      <th>2704</th>\n",
       "      <td>crossbody sling bag men</td>\n",
       "      <td>2</td>\n",
       "      <td>21</td>\n",
       "      <td>0.0952</td>\n",
       "      <td>39.76</td>\n",
       "    </tr>\n",
       "    <tr>\n",
       "      <th>1727</th>\n",
       "      <td>gloves for shooting</td>\n",
       "      <td>3</td>\n",
       "      <td>32</td>\n",
       "      <td>0.0938</td>\n",
       "      <td>7.47</td>\n",
       "    </tr>\n",
       "    <tr>\n",
       "      <th>390</th>\n",
       "      <td>shooting range bag</td>\n",
       "      <td>10</td>\n",
       "      <td>107</td>\n",
       "      <td>0.0935</td>\n",
       "      <td>8.87</td>\n",
       "    </tr>\n",
       "    <tr>\n",
       "      <th>925</th>\n",
       "      <td>lv8 sling pack 8l</td>\n",
       "      <td>5</td>\n",
       "      <td>54</td>\n",
       "      <td>0.0926</td>\n",
       "      <td>2.76</td>\n",
       "    </tr>\n",
       "    <tr>\n",
       "      <th>732</th>\n",
       "      <td>police store near me</td>\n",
       "      <td>6</td>\n",
       "      <td>65</td>\n",
       "      <td>0.0923</td>\n",
       "      <td>9.52</td>\n",
       "    </tr>\n",
       "    <tr>\n",
       "      <th>4865</th>\n",
       "      <td>best trauma shears</td>\n",
       "      <td>1</td>\n",
       "      <td>11</td>\n",
       "      <td>0.0909</td>\n",
       "      <td>17.64</td>\n",
       "    </tr>\n",
       "    <tr>\n",
       "      <th>5453</th>\n",
       "      <td>ifak meaning</td>\n",
       "      <td>1</td>\n",
       "      <td>11</td>\n",
       "      <td>0.0909</td>\n",
       "      <td>33.27</td>\n",
       "    </tr>\n",
       "    <tr>\n",
       "      <th>5718</th>\n",
       "      <td>molle compatible pouches</td>\n",
       "      <td>1</td>\n",
       "      <td>11</td>\n",
       "      <td>0.0909</td>\n",
       "      <td>30.09</td>\n",
       "    </tr>\n",
       "    <tr>\n",
       "      <th>2811</th>\n",
       "      <td>military gear websites</td>\n",
       "      <td>2</td>\n",
       "      <td>22</td>\n",
       "      <td>0.0909</td>\n",
       "      <td>9.45</td>\n",
       "    </tr>\n",
       "    <tr>\n",
       "      <th>4837</th>\n",
       "      <td>best shotgun shell pouch</td>\n",
       "      <td>1</td>\n",
       "      <td>11</td>\n",
       "      <td>0.0909</td>\n",
       "      <td>12.82</td>\n",
       "    </tr>\n",
       "    <tr>\n",
       "      <th>5427</th>\n",
       "      <td>how to conceal carry with gym shorts</td>\n",
       "      <td>1</td>\n",
       "      <td>11</td>\n",
       "      <td>0.0909</td>\n",
       "      <td>5.91</td>\n",
       "    </tr>\n",
       "    <tr>\n",
       "      <th>5536</th>\n",
       "      <td>leather police duty belt</td>\n",
       "      <td>1</td>\n",
       "      <td>11</td>\n",
       "      <td>0.0909</td>\n",
       "      <td>34.18</td>\n",
       "    </tr>\n",
       "    <tr>\n",
       "      <th>5554</th>\n",
       "      <td>lv 6</td>\n",
       "      <td>1</td>\n",
       "      <td>11</td>\n",
       "      <td>0.0909</td>\n",
       "      <td>3.91</td>\n",
       "    </tr>\n",
       "    <tr>\n",
       "      <th>5750</th>\n",
       "      <td>molle webbing accessories</td>\n",
       "      <td>1</td>\n",
       "      <td>11</td>\n",
       "      <td>0.0909</td>\n",
       "      <td>9.91</td>\n",
       "    </tr>\n",
       "    <tr>\n",
       "      <th>1740</th>\n",
       "      <td>holster t shirt</td>\n",
       "      <td>3</td>\n",
       "      <td>33</td>\n",
       "      <td>0.0909</td>\n",
       "      <td>2.30</td>\n",
       "    </tr>\n",
       "  </tbody>\n",
       "</table>\n",
       "</div>"
      ],
      "text/plain": [
       "                               Top queries  Clicks  Impressions     CTR  \\\n",
       "145                       bop uniform shop      23          233  0.0987   \n",
       "125                                rush 24      26          267  0.0974   \n",
       "1705        concealed carry shirts for men       3           31  0.0968   \n",
       "183                                rush 12      19          199  0.0955   \n",
       "3070                              تاكتيكال       2           21  0.0952   \n",
       "2704               crossbody sling bag men       2           21  0.0952   \n",
       "1727                   gloves for shooting       3           32  0.0938   \n",
       "390                     shooting range bag      10          107  0.0935   \n",
       "925                      lv8 sling pack 8l       5           54  0.0926   \n",
       "732                   police store near me       6           65  0.0923   \n",
       "4865                    best trauma shears       1           11  0.0909   \n",
       "5453                          ifak meaning       1           11  0.0909   \n",
       "5718              molle compatible pouches       1           11  0.0909   \n",
       "2811                military gear websites       2           22  0.0909   \n",
       "4837              best shotgun shell pouch       1           11  0.0909   \n",
       "5427  how to conceal carry with gym shorts       1           11  0.0909   \n",
       "5536              leather police duty belt       1           11  0.0909   \n",
       "5554                                  lv 6       1           11  0.0909   \n",
       "5750             molle webbing accessories       1           11  0.0909   \n",
       "1740                       holster t shirt       3           33  0.0909   \n",
       "\n",
       "      Position  \n",
       "145       2.74  \n",
       "125       3.79  \n",
       "1705      3.32  \n",
       "183       4.42  \n",
       "3070      8.62  \n",
       "2704     39.76  \n",
       "1727      7.47  \n",
       "390       8.87  \n",
       "925       2.76  \n",
       "732       9.52  \n",
       "4865     17.64  \n",
       "5453     33.27  \n",
       "5718     30.09  \n",
       "2811      9.45  \n",
       "4837     12.82  \n",
       "5427      5.91  \n",
       "5536     34.18  \n",
       "5554      3.91  \n",
       "5750      9.91  \n",
       "1740      2.30  "
      ]
     },
     "execution_count": 11,
     "metadata": {},
     "output_type": "execute_result"
    }
   ],
   "source": [
    "top_df_queries_CTR_filtered = df_filtered.head(20)\n",
    "top_df_queries_CTR_filtered=top_df_queries_CTR_filtered.sort_values('CTR', ascending=False)\n",
    "top_df_queries_CTR_filtered"
   ]
  },
  {
   "cell_type": "code",
   "execution_count": 13,
   "metadata": {},
   "outputs": [
    {
     "name": "stdout",
     "output_type": "stream",
     "text": [
      "float64\n"
     ]
    },
    {
     "data": {
      "text/html": [
       "<div>\n",
       "<style scoped>\n",
       "    .dataframe tbody tr th:only-of-type {\n",
       "        vertical-align: middle;\n",
       "    }\n",
       "\n",
       "    .dataframe tbody tr th {\n",
       "        vertical-align: top;\n",
       "    }\n",
       "\n",
       "    .dataframe thead th {\n",
       "        text-align: right;\n",
       "    }\n",
       "</style>\n",
       "<table border=\"1\" class=\"dataframe\">\n",
       "  <thead>\n",
       "    <tr style=\"text-align: right;\">\n",
       "      <th></th>\n",
       "      <th>Top queries</th>\n",
       "      <th>Clicks</th>\n",
       "      <th>Impressions</th>\n",
       "      <th>CTR</th>\n",
       "      <th>Position</th>\n",
       "    </tr>\n",
       "  </thead>\n",
       "  <tbody>\n",
       "    <tr>\n",
       "      <th>145</th>\n",
       "      <td>bop uniform shop</td>\n",
       "      <td>23</td>\n",
       "      <td>233</td>\n",
       "      <td>0.0987</td>\n",
       "      <td>2.74</td>\n",
       "    </tr>\n",
       "    <tr>\n",
       "      <th>125</th>\n",
       "      <td>rush 24</td>\n",
       "      <td>26</td>\n",
       "      <td>267</td>\n",
       "      <td>0.0974</td>\n",
       "      <td>3.79</td>\n",
       "    </tr>\n",
       "    <tr>\n",
       "      <th>572</th>\n",
       "      <td>5.11 tactical plate carrier</td>\n",
       "      <td>7</td>\n",
       "      <td>72</td>\n",
       "      <td>0.0972</td>\n",
       "      <td>1.04</td>\n",
       "    </tr>\n",
       "    <tr>\n",
       "      <th>1609</th>\n",
       "      <td>511 maverick battle belt</td>\n",
       "      <td>3</td>\n",
       "      <td>31</td>\n",
       "      <td>0.0968</td>\n",
       "      <td>1.32</td>\n",
       "    </tr>\n",
       "    <tr>\n",
       "      <th>1705</th>\n",
       "      <td>concealed carry shirts for men</td>\n",
       "      <td>3</td>\n",
       "      <td>31</td>\n",
       "      <td>0.0968</td>\n",
       "      <td>3.32</td>\n",
       "    </tr>\n",
       "  </tbody>\n",
       "</table>\n",
       "</div>"
      ],
      "text/plain": [
       "                         Top queries  Clicks  Impressions     CTR  Position\n",
       "145                 bop uniform shop      23          233  0.0987      2.74\n",
       "125                          rush 24      26          267  0.0974      3.79\n",
       "572      5.11 tactical plate carrier       7           72  0.0972      1.04\n",
       "1609        511 maverick battle belt       3           31  0.0968      1.32\n",
       "1705  concealed carry shirts for men       3           31  0.0968      3.32"
      ]
     },
     "execution_count": 13,
     "metadata": {},
     "output_type": "execute_result"
    }
   ],
   "source": [
    "df_queries_CTR['CTR'] = df_queries_CTR['CTR'].str.rstrip('%').astype('float') / 100\n",
    "\n",
    "# Confirm the conversion by checking the data type of the 'CTR' column\n",
    "print(df_queries_CTR['CTR'].dtype)\n",
    "\n",
    "# Optionally, view the first few rows to confirm proper formatting\n",
    "df_queries_CTR.head()"
   ]
  },
  {
   "cell_type": "code",
   "execution_count": 14,
   "metadata": {},
   "outputs": [],
   "source": [
    "import pandas as pd\n",
    "import matplotlib.pyplot as plt\n",
    "import seaborn as sns\n",
    "import ipywidgets as widgets\n",
    "import re \n"
   ]
  },
  {
   "cell_type": "code",
   "execution_count": 27,
   "metadata": {},
   "outputs": [
    {
     "ename": "KeyboardInterrupt",
     "evalue": "",
     "output_type": "error",
     "traceback": [
      "\u001b[1;31m---------------------------------------------------------------------------\u001b[0m",
      "\u001b[1;31mKeyboardInterrupt\u001b[0m                         Traceback (most recent call last)",
      "Cell \u001b[1;32mIn[27], line 14\u001b[0m\n\u001b[0;32m     11\u001b[0m plt\u001b[38;5;241m.\u001b[39mxticks(rotation\u001b[38;5;241m=\u001b[39m\u001b[38;5;241m45\u001b[39m, ha\u001b[38;5;241m=\u001b[39m\u001b[38;5;124m'\u001b[39m\u001b[38;5;124mright\u001b[39m\u001b[38;5;124m'\u001b[39m)\n\u001b[0;32m     13\u001b[0m \u001b[38;5;66;03m# Improve layout\u001b[39;00m\n\u001b[1;32m---> 14\u001b[0m \u001b[43mplt\u001b[49m\u001b[38;5;241;43m.\u001b[39;49m\u001b[43mtight_layout\u001b[49m\u001b[43m(\u001b[49m\u001b[43m)\u001b[49m\n\u001b[0;32m     16\u001b[0m \u001b[38;5;66;03m# Display the plot\u001b[39;00m\n\u001b[0;32m     17\u001b[0m plt\u001b[38;5;241m.\u001b[39mshow()\n",
      "File \u001b[1;32mc:\\Users\\lrpay\\anaconda3\\envs\\dev\\lib\\site-packages\\matplotlib\\pyplot.py:2349\u001b[0m, in \u001b[0;36mtight_layout\u001b[1;34m(pad, h_pad, w_pad, rect)\u001b[0m\n\u001b[0;32m   2347\u001b[0m \u001b[38;5;129m@_copy_docstring_and_deprecators\u001b[39m(Figure\u001b[38;5;241m.\u001b[39mtight_layout)\n\u001b[0;32m   2348\u001b[0m \u001b[38;5;28;01mdef\u001b[39;00m \u001b[38;5;21mtight_layout\u001b[39m(\u001b[38;5;241m*\u001b[39m, pad\u001b[38;5;241m=\u001b[39m\u001b[38;5;241m1.08\u001b[39m, h_pad\u001b[38;5;241m=\u001b[39m\u001b[38;5;28;01mNone\u001b[39;00m, w_pad\u001b[38;5;241m=\u001b[39m\u001b[38;5;28;01mNone\u001b[39;00m, rect\u001b[38;5;241m=\u001b[39m\u001b[38;5;28;01mNone\u001b[39;00m):\n\u001b[1;32m-> 2349\u001b[0m     \u001b[38;5;28;01mreturn\u001b[39;00m \u001b[43mgcf\u001b[49m\u001b[43m(\u001b[49m\u001b[43m)\u001b[49m\u001b[38;5;241;43m.\u001b[39;49m\u001b[43mtight_layout\u001b[49m\u001b[43m(\u001b[49m\u001b[43mpad\u001b[49m\u001b[38;5;241;43m=\u001b[39;49m\u001b[43mpad\u001b[49m\u001b[43m,\u001b[49m\u001b[43m \u001b[49m\u001b[43mh_pad\u001b[49m\u001b[38;5;241;43m=\u001b[39;49m\u001b[43mh_pad\u001b[49m\u001b[43m,\u001b[49m\u001b[43m \u001b[49m\u001b[43mw_pad\u001b[49m\u001b[38;5;241;43m=\u001b[39;49m\u001b[43mw_pad\u001b[49m\u001b[43m,\u001b[49m\u001b[43m \u001b[49m\u001b[43mrect\u001b[49m\u001b[38;5;241;43m=\u001b[39;49m\u001b[43mrect\u001b[49m\u001b[43m)\u001b[49m\n",
      "File \u001b[1;32mc:\\Users\\lrpay\\anaconda3\\envs\\dev\\lib\\site-packages\\matplotlib\\figure.py:3544\u001b[0m, in \u001b[0;36mFigure.tight_layout\u001b[1;34m(self, pad, h_pad, w_pad, rect)\u001b[0m\n\u001b[0;32m   3542\u001b[0m previous_engine \u001b[38;5;241m=\u001b[39m \u001b[38;5;28mself\u001b[39m\u001b[38;5;241m.\u001b[39mget_layout_engine()\n\u001b[0;32m   3543\u001b[0m \u001b[38;5;28mself\u001b[39m\u001b[38;5;241m.\u001b[39mset_layout_engine(engine)\n\u001b[1;32m-> 3544\u001b[0m \u001b[43mengine\u001b[49m\u001b[38;5;241;43m.\u001b[39;49m\u001b[43mexecute\u001b[49m\u001b[43m(\u001b[49m\u001b[38;5;28;43mself\u001b[39;49m\u001b[43m)\u001b[49m\n\u001b[0;32m   3545\u001b[0m \u001b[38;5;28;01mif\u001b[39;00m \u001b[38;5;129;01mnot\u001b[39;00m \u001b[38;5;28misinstance\u001b[39m(previous_engine, TightLayoutEngine) \\\n\u001b[0;32m   3546\u001b[0m         \u001b[38;5;129;01mand\u001b[39;00m previous_engine \u001b[38;5;129;01mis\u001b[39;00m \u001b[38;5;129;01mnot\u001b[39;00m \u001b[38;5;28;01mNone\u001b[39;00m:\n\u001b[0;32m   3547\u001b[0m     _api\u001b[38;5;241m.\u001b[39mwarn_external(\u001b[38;5;124m'\u001b[39m\u001b[38;5;124mThe figure layout has changed to tight\u001b[39m\u001b[38;5;124m'\u001b[39m)\n",
      "File \u001b[1;32mc:\\Users\\lrpay\\anaconda3\\envs\\dev\\lib\\site-packages\\matplotlib\\layout_engine.py:184\u001b[0m, in \u001b[0;36mTightLayoutEngine.execute\u001b[1;34m(self, fig)\u001b[0m\n\u001b[0;32m    182\u001b[0m renderer \u001b[38;5;241m=\u001b[39m fig\u001b[38;5;241m.\u001b[39m_get_renderer()\n\u001b[0;32m    183\u001b[0m \u001b[38;5;28;01mwith\u001b[39;00m \u001b[38;5;28mgetattr\u001b[39m(renderer, \u001b[38;5;124m\"\u001b[39m\u001b[38;5;124m_draw_disabled\u001b[39m\u001b[38;5;124m\"\u001b[39m, nullcontext)():\n\u001b[1;32m--> 184\u001b[0m     kwargs \u001b[38;5;241m=\u001b[39m \u001b[43mget_tight_layout_figure\u001b[49m\u001b[43m(\u001b[49m\n\u001b[0;32m    185\u001b[0m \u001b[43m        \u001b[49m\u001b[43mfig\u001b[49m\u001b[43m,\u001b[49m\u001b[43m \u001b[49m\u001b[43mfig\u001b[49m\u001b[38;5;241;43m.\u001b[39;49m\u001b[43maxes\u001b[49m\u001b[43m,\u001b[49m\u001b[43m \u001b[49m\u001b[43mget_subplotspec_list\u001b[49m\u001b[43m(\u001b[49m\u001b[43mfig\u001b[49m\u001b[38;5;241;43m.\u001b[39;49m\u001b[43maxes\u001b[49m\u001b[43m)\u001b[49m\u001b[43m,\u001b[49m\u001b[43m \u001b[49m\u001b[43mrenderer\u001b[49m\u001b[43m,\u001b[49m\n\u001b[0;32m    186\u001b[0m \u001b[43m        \u001b[49m\u001b[43mpad\u001b[49m\u001b[38;5;241;43m=\u001b[39;49m\u001b[43minfo\u001b[49m\u001b[43m[\u001b[49m\u001b[38;5;124;43m'\u001b[39;49m\u001b[38;5;124;43mpad\u001b[39;49m\u001b[38;5;124;43m'\u001b[39;49m\u001b[43m]\u001b[49m\u001b[43m,\u001b[49m\u001b[43m \u001b[49m\u001b[43mh_pad\u001b[49m\u001b[38;5;241;43m=\u001b[39;49m\u001b[43minfo\u001b[49m\u001b[43m[\u001b[49m\u001b[38;5;124;43m'\u001b[39;49m\u001b[38;5;124;43mh_pad\u001b[39;49m\u001b[38;5;124;43m'\u001b[39;49m\u001b[43m]\u001b[49m\u001b[43m,\u001b[49m\u001b[43m \u001b[49m\u001b[43mw_pad\u001b[49m\u001b[38;5;241;43m=\u001b[39;49m\u001b[43minfo\u001b[49m\u001b[43m[\u001b[49m\u001b[38;5;124;43m'\u001b[39;49m\u001b[38;5;124;43mw_pad\u001b[39;49m\u001b[38;5;124;43m'\u001b[39;49m\u001b[43m]\u001b[49m\u001b[43m,\u001b[49m\n\u001b[0;32m    187\u001b[0m \u001b[43m        \u001b[49m\u001b[43mrect\u001b[49m\u001b[38;5;241;43m=\u001b[39;49m\u001b[43minfo\u001b[49m\u001b[43m[\u001b[49m\u001b[38;5;124;43m'\u001b[39;49m\u001b[38;5;124;43mrect\u001b[39;49m\u001b[38;5;124;43m'\u001b[39;49m\u001b[43m]\u001b[49m\u001b[43m)\u001b[49m\n\u001b[0;32m    188\u001b[0m \u001b[38;5;28;01mif\u001b[39;00m kwargs:\n\u001b[0;32m    189\u001b[0m     fig\u001b[38;5;241m.\u001b[39msubplots_adjust(\u001b[38;5;241m*\u001b[39m\u001b[38;5;241m*\u001b[39mkwargs)\n",
      "File \u001b[1;32mc:\\Users\\lrpay\\anaconda3\\envs\\dev\\lib\\site-packages\\matplotlib\\_tight_layout.py:266\u001b[0m, in \u001b[0;36mget_tight_layout_figure\u001b[1;34m(fig, axes_list, subplotspec_list, renderer, pad, h_pad, w_pad, rect)\u001b[0m\n\u001b[0;32m    261\u001b[0m         \u001b[38;5;28;01mreturn\u001b[39;00m {}\n\u001b[0;32m    262\u001b[0m     span_pairs\u001b[38;5;241m.\u001b[39mappend((\n\u001b[0;32m    263\u001b[0m         \u001b[38;5;28mslice\u001b[39m(ss\u001b[38;5;241m.\u001b[39mrowspan\u001b[38;5;241m.\u001b[39mstart \u001b[38;5;241m*\u001b[39m div_row, ss\u001b[38;5;241m.\u001b[39mrowspan\u001b[38;5;241m.\u001b[39mstop \u001b[38;5;241m*\u001b[39m div_row),\n\u001b[0;32m    264\u001b[0m         \u001b[38;5;28mslice\u001b[39m(ss\u001b[38;5;241m.\u001b[39mcolspan\u001b[38;5;241m.\u001b[39mstart \u001b[38;5;241m*\u001b[39m div_col, ss\u001b[38;5;241m.\u001b[39mcolspan\u001b[38;5;241m.\u001b[39mstop \u001b[38;5;241m*\u001b[39m div_col)))\n\u001b[1;32m--> 266\u001b[0m kwargs \u001b[38;5;241m=\u001b[39m \u001b[43m_auto_adjust_subplotpars\u001b[49m\u001b[43m(\u001b[49m\u001b[43mfig\u001b[49m\u001b[43m,\u001b[49m\u001b[43m \u001b[49m\u001b[43mrenderer\u001b[49m\u001b[43m,\u001b[49m\n\u001b[0;32m    267\u001b[0m \u001b[43m                                  \u001b[49m\u001b[43mshape\u001b[49m\u001b[38;5;241;43m=\u001b[39;49m\u001b[43m(\u001b[49m\u001b[43mmax_nrows\u001b[49m\u001b[43m,\u001b[49m\u001b[43m \u001b[49m\u001b[43mmax_ncols\u001b[49m\u001b[43m)\u001b[49m\u001b[43m,\u001b[49m\n\u001b[0;32m    268\u001b[0m \u001b[43m                                  \u001b[49m\u001b[43mspan_pairs\u001b[49m\u001b[38;5;241;43m=\u001b[39;49m\u001b[43mspan_pairs\u001b[49m\u001b[43m,\u001b[49m\n\u001b[0;32m    269\u001b[0m \u001b[43m                                  \u001b[49m\u001b[43msubplot_list\u001b[49m\u001b[38;5;241;43m=\u001b[39;49m\u001b[43msubplot_list\u001b[49m\u001b[43m,\u001b[49m\n\u001b[0;32m    270\u001b[0m \u001b[43m                                  \u001b[49m\u001b[43max_bbox_list\u001b[49m\u001b[38;5;241;43m=\u001b[39;49m\u001b[43max_bbox_list\u001b[49m\u001b[43m,\u001b[49m\n\u001b[0;32m    271\u001b[0m \u001b[43m                                  \u001b[49m\u001b[43mpad\u001b[49m\u001b[38;5;241;43m=\u001b[39;49m\u001b[43mpad\u001b[49m\u001b[43m,\u001b[49m\u001b[43m \u001b[49m\u001b[43mh_pad\u001b[49m\u001b[38;5;241;43m=\u001b[39;49m\u001b[43mh_pad\u001b[49m\u001b[43m,\u001b[49m\u001b[43m \u001b[49m\u001b[43mw_pad\u001b[49m\u001b[38;5;241;43m=\u001b[39;49m\u001b[43mw_pad\u001b[49m\u001b[43m)\u001b[49m\n\u001b[0;32m    273\u001b[0m \u001b[38;5;66;03m# kwargs can be none if tight_layout fails...\u001b[39;00m\n\u001b[0;32m    274\u001b[0m \u001b[38;5;28;01mif\u001b[39;00m rect \u001b[38;5;129;01mis\u001b[39;00m \u001b[38;5;129;01mnot\u001b[39;00m \u001b[38;5;28;01mNone\u001b[39;00m \u001b[38;5;129;01mand\u001b[39;00m kwargs \u001b[38;5;129;01mis\u001b[39;00m \u001b[38;5;129;01mnot\u001b[39;00m \u001b[38;5;28;01mNone\u001b[39;00m:\n\u001b[0;32m    275\u001b[0m     \u001b[38;5;66;03m# if rect is given, the whole subplots area (including\u001b[39;00m\n\u001b[0;32m    276\u001b[0m     \u001b[38;5;66;03m# labels) will fit into the rect instead of the\u001b[39;00m\n\u001b[1;32m   (...)\u001b[0m\n\u001b[0;32m    280\u001b[0m     \u001b[38;5;66;03m# auto_adjust_subplotpars twice, where the second run\u001b[39;00m\n\u001b[0;32m    281\u001b[0m     \u001b[38;5;66;03m# with adjusted rect parameters.\u001b[39;00m\n",
      "File \u001b[1;32mc:\\Users\\lrpay\\anaconda3\\envs\\dev\\lib\\site-packages\\matplotlib\\_tight_layout.py:82\u001b[0m, in \u001b[0;36m_auto_adjust_subplotpars\u001b[1;34m(fig, renderer, shape, span_pairs, subplot_list, ax_bbox_list, pad, h_pad, w_pad, rect)\u001b[0m\n\u001b[0;32m     80\u001b[0m \u001b[38;5;28;01mfor\u001b[39;00m ax \u001b[38;5;129;01min\u001b[39;00m subplots:\n\u001b[0;32m     81\u001b[0m     \u001b[38;5;28;01mif\u001b[39;00m ax\u001b[38;5;241m.\u001b[39mget_visible():\n\u001b[1;32m---> 82\u001b[0m         bb \u001b[38;5;241m+\u001b[39m\u001b[38;5;241m=\u001b[39m [\u001b[43mmartist\u001b[49m\u001b[38;5;241;43m.\u001b[39;49m\u001b[43m_get_tightbbox_for_layout_only\u001b[49m\u001b[43m(\u001b[49m\u001b[43max\u001b[49m\u001b[43m,\u001b[49m\u001b[43m \u001b[49m\u001b[43mrenderer\u001b[49m\u001b[43m)\u001b[49m]\n\u001b[0;32m     84\u001b[0m tight_bbox_raw \u001b[38;5;241m=\u001b[39m Bbox\u001b[38;5;241m.\u001b[39munion(bb)\n\u001b[0;32m     85\u001b[0m tight_bbox \u001b[38;5;241m=\u001b[39m fig\u001b[38;5;241m.\u001b[39mtransFigure\u001b[38;5;241m.\u001b[39minverted()\u001b[38;5;241m.\u001b[39mtransform_bbox(tight_bbox_raw)\n",
      "File \u001b[1;32mc:\\Users\\lrpay\\anaconda3\\envs\\dev\\lib\\site-packages\\matplotlib\\artist.py:1415\u001b[0m, in \u001b[0;36m_get_tightbbox_for_layout_only\u001b[1;34m(obj, *args, **kwargs)\u001b[0m\n\u001b[0;32m   1409\u001b[0m \u001b[38;5;250m\u001b[39m\u001b[38;5;124;03m\"\"\"\u001b[39;00m\n\u001b[0;32m   1410\u001b[0m \u001b[38;5;124;03mMatplotlib's `.Axes.get_tightbbox` and `.Axis.get_tightbbox` support a\u001b[39;00m\n\u001b[0;32m   1411\u001b[0m \u001b[38;5;124;03m*for_layout_only* kwarg; this helper tries to use the kwarg but skips it\u001b[39;00m\n\u001b[0;32m   1412\u001b[0m \u001b[38;5;124;03mwhen encountering third-party subclasses that do not support it.\u001b[39;00m\n\u001b[0;32m   1413\u001b[0m \u001b[38;5;124;03m\"\"\"\u001b[39;00m\n\u001b[0;32m   1414\u001b[0m \u001b[38;5;28;01mtry\u001b[39;00m:\n\u001b[1;32m-> 1415\u001b[0m     \u001b[38;5;28;01mreturn\u001b[39;00m obj\u001b[38;5;241m.\u001b[39mget_tightbbox(\u001b[38;5;241m*\u001b[39margs, \u001b[38;5;241m*\u001b[39m\u001b[38;5;241m*\u001b[39m{\u001b[38;5;241m*\u001b[39m\u001b[38;5;241m*\u001b[39mkwargs, \u001b[38;5;124m\"\u001b[39m\u001b[38;5;124mfor_layout_only\u001b[39m\u001b[38;5;124m\"\u001b[39m: \u001b[38;5;28;01mTrue\u001b[39;00m})\n\u001b[0;32m   1416\u001b[0m \u001b[38;5;28;01mexcept\u001b[39;00m \u001b[38;5;167;01mTypeError\u001b[39;00m:\n\u001b[0;32m   1417\u001b[0m     \u001b[38;5;28;01mreturn\u001b[39;00m obj\u001b[38;5;241m.\u001b[39mget_tightbbox(\u001b[38;5;241m*\u001b[39margs, \u001b[38;5;241m*\u001b[39m\u001b[38;5;241m*\u001b[39mkwargs)\n",
      "File \u001b[1;32mc:\\Users\\lrpay\\anaconda3\\envs\\dev\\lib\\site-packages\\matplotlib\\axes\\_base.py:4385\u001b[0m, in \u001b[0;36m_AxesBase.get_tightbbox\u001b[1;34m(self, renderer, call_axes_locator, bbox_extra_artists, for_layout_only)\u001b[0m\n\u001b[0;32m   4383\u001b[0m \u001b[38;5;28;01mfor\u001b[39;00m axis \u001b[38;5;129;01min\u001b[39;00m \u001b[38;5;28mself\u001b[39m\u001b[38;5;241m.\u001b[39m_axis_map\u001b[38;5;241m.\u001b[39mvalues():\n\u001b[0;32m   4384\u001b[0m     \u001b[38;5;28;01mif\u001b[39;00m \u001b[38;5;28mself\u001b[39m\u001b[38;5;241m.\u001b[39maxison \u001b[38;5;129;01mand\u001b[39;00m axis\u001b[38;5;241m.\u001b[39mget_visible():\n\u001b[1;32m-> 4385\u001b[0m         ba \u001b[38;5;241m=\u001b[39m \u001b[43mmartist\u001b[49m\u001b[38;5;241;43m.\u001b[39;49m\u001b[43m_get_tightbbox_for_layout_only\u001b[49m\u001b[43m(\u001b[49m\u001b[43maxis\u001b[49m\u001b[43m,\u001b[49m\u001b[43m \u001b[49m\u001b[43mrenderer\u001b[49m\u001b[43m)\u001b[49m\n\u001b[0;32m   4386\u001b[0m         \u001b[38;5;28;01mif\u001b[39;00m ba:\n\u001b[0;32m   4387\u001b[0m             bb\u001b[38;5;241m.\u001b[39mappend(ba)\n",
      "File \u001b[1;32mc:\\Users\\lrpay\\anaconda3\\envs\\dev\\lib\\site-packages\\matplotlib\\artist.py:1415\u001b[0m, in \u001b[0;36m_get_tightbbox_for_layout_only\u001b[1;34m(obj, *args, **kwargs)\u001b[0m\n\u001b[0;32m   1409\u001b[0m \u001b[38;5;250m\u001b[39m\u001b[38;5;124;03m\"\"\"\u001b[39;00m\n\u001b[0;32m   1410\u001b[0m \u001b[38;5;124;03mMatplotlib's `.Axes.get_tightbbox` and `.Axis.get_tightbbox` support a\u001b[39;00m\n\u001b[0;32m   1411\u001b[0m \u001b[38;5;124;03m*for_layout_only* kwarg; this helper tries to use the kwarg but skips it\u001b[39;00m\n\u001b[0;32m   1412\u001b[0m \u001b[38;5;124;03mwhen encountering third-party subclasses that do not support it.\u001b[39;00m\n\u001b[0;32m   1413\u001b[0m \u001b[38;5;124;03m\"\"\"\u001b[39;00m\n\u001b[0;32m   1414\u001b[0m \u001b[38;5;28;01mtry\u001b[39;00m:\n\u001b[1;32m-> 1415\u001b[0m     \u001b[38;5;28;01mreturn\u001b[39;00m obj\u001b[38;5;241m.\u001b[39mget_tightbbox(\u001b[38;5;241m*\u001b[39margs, \u001b[38;5;241m*\u001b[39m\u001b[38;5;241m*\u001b[39m{\u001b[38;5;241m*\u001b[39m\u001b[38;5;241m*\u001b[39mkwargs, \u001b[38;5;124m\"\u001b[39m\u001b[38;5;124mfor_layout_only\u001b[39m\u001b[38;5;124m\"\u001b[39m: \u001b[38;5;28;01mTrue\u001b[39;00m})\n\u001b[0;32m   1416\u001b[0m \u001b[38;5;28;01mexcept\u001b[39;00m \u001b[38;5;167;01mTypeError\u001b[39;00m:\n\u001b[0;32m   1417\u001b[0m     \u001b[38;5;28;01mreturn\u001b[39;00m obj\u001b[38;5;241m.\u001b[39mget_tightbbox(\u001b[38;5;241m*\u001b[39margs, \u001b[38;5;241m*\u001b[39m\u001b[38;5;241m*\u001b[39mkwargs)\n",
      "File \u001b[1;32mc:\\Users\\lrpay\\anaconda3\\envs\\dev\\lib\\site-packages\\matplotlib\\axis.py:1325\u001b[0m, in \u001b[0;36mAxis.get_tightbbox\u001b[1;34m(self, renderer, for_layout_only)\u001b[0m\n\u001b[0;32m   1322\u001b[0m     renderer \u001b[38;5;241m=\u001b[39m \u001b[38;5;28mself\u001b[39m\u001b[38;5;241m.\u001b[39mfigure\u001b[38;5;241m.\u001b[39m_get_renderer()\n\u001b[0;32m   1323\u001b[0m ticks_to_draw \u001b[38;5;241m=\u001b[39m \u001b[38;5;28mself\u001b[39m\u001b[38;5;241m.\u001b[39m_update_ticks()\n\u001b[1;32m-> 1325\u001b[0m \u001b[38;5;28;43mself\u001b[39;49m\u001b[38;5;241;43m.\u001b[39;49m\u001b[43m_update_label_position\u001b[49m\u001b[43m(\u001b[49m\u001b[43mrenderer\u001b[49m\u001b[43m)\u001b[49m\n\u001b[0;32m   1327\u001b[0m \u001b[38;5;66;03m# go back to just this axis's tick labels\u001b[39;00m\n\u001b[0;32m   1328\u001b[0m tlb1, tlb2 \u001b[38;5;241m=\u001b[39m \u001b[38;5;28mself\u001b[39m\u001b[38;5;241m.\u001b[39m_get_ticklabel_bboxes(ticks_to_draw, renderer)\n",
      "File \u001b[1;32mc:\\Users\\lrpay\\anaconda3\\envs\\dev\\lib\\site-packages\\matplotlib\\axis.py:2304\u001b[0m, in \u001b[0;36mXAxis._update_label_position\u001b[1;34m(self, renderer)\u001b[0m\n\u001b[0;32m   2300\u001b[0m     \u001b[38;5;28;01mreturn\u001b[39;00m\n\u001b[0;32m   2302\u001b[0m \u001b[38;5;66;03m# get bounding boxes for this axis and any siblings\u001b[39;00m\n\u001b[0;32m   2303\u001b[0m \u001b[38;5;66;03m# that have been set by `fig.align_xlabels()`\u001b[39;00m\n\u001b[1;32m-> 2304\u001b[0m bboxes, bboxes2 \u001b[38;5;241m=\u001b[39m \u001b[38;5;28;43mself\u001b[39;49m\u001b[38;5;241;43m.\u001b[39;49m\u001b[43m_get_tick_boxes_siblings\u001b[49m\u001b[43m(\u001b[49m\u001b[43mrenderer\u001b[49m\u001b[38;5;241;43m=\u001b[39;49m\u001b[43mrenderer\u001b[49m\u001b[43m)\u001b[49m\n\u001b[0;32m   2306\u001b[0m x, y \u001b[38;5;241m=\u001b[39m \u001b[38;5;28mself\u001b[39m\u001b[38;5;241m.\u001b[39mlabel\u001b[38;5;241m.\u001b[39mget_position()\n\u001b[0;32m   2307\u001b[0m \u001b[38;5;28;01mif\u001b[39;00m \u001b[38;5;28mself\u001b[39m\u001b[38;5;241m.\u001b[39mlabel_position \u001b[38;5;241m==\u001b[39m \u001b[38;5;124m'\u001b[39m\u001b[38;5;124mbottom\u001b[39m\u001b[38;5;124m'\u001b[39m:\n",
      "File \u001b[1;32mc:\\Users\\lrpay\\anaconda3\\envs\\dev\\lib\\site-packages\\matplotlib\\axis.py:2100\u001b[0m, in \u001b[0;36mAxis._get_tick_boxes_siblings\u001b[1;34m(self, renderer)\u001b[0m\n\u001b[0;32m   2098\u001b[0m axis \u001b[38;5;241m=\u001b[39m \u001b[38;5;28mgetattr\u001b[39m(ax, \u001b[38;5;124mf\u001b[39m\u001b[38;5;124m\"\u001b[39m\u001b[38;5;132;01m{\u001b[39;00maxis_name\u001b[38;5;132;01m}\u001b[39;00m\u001b[38;5;124maxis\u001b[39m\u001b[38;5;124m\"\u001b[39m)\n\u001b[0;32m   2099\u001b[0m ticks_to_draw \u001b[38;5;241m=\u001b[39m axis\u001b[38;5;241m.\u001b[39m_update_ticks()\n\u001b[1;32m-> 2100\u001b[0m tlb, tlb2 \u001b[38;5;241m=\u001b[39m \u001b[43maxis\u001b[49m\u001b[38;5;241;43m.\u001b[39;49m\u001b[43m_get_ticklabel_bboxes\u001b[49m\u001b[43m(\u001b[49m\u001b[43mticks_to_draw\u001b[49m\u001b[43m,\u001b[49m\u001b[43m \u001b[49m\u001b[43mrenderer\u001b[49m\u001b[43m)\u001b[49m\n\u001b[0;32m   2101\u001b[0m bboxes\u001b[38;5;241m.\u001b[39mextend(tlb)\n\u001b[0;32m   2102\u001b[0m bboxes2\u001b[38;5;241m.\u001b[39mextend(tlb2)\n",
      "File \u001b[1;32mc:\\Users\\lrpay\\anaconda3\\envs\\dev\\lib\\site-packages\\matplotlib\\axis.py:1304\u001b[0m, in \u001b[0;36mAxis._get_ticklabel_bboxes\u001b[1;34m(self, ticks, renderer)\u001b[0m\n\u001b[0;32m   1302\u001b[0m \u001b[38;5;28;01mif\u001b[39;00m renderer \u001b[38;5;129;01mis\u001b[39;00m \u001b[38;5;28;01mNone\u001b[39;00m:\n\u001b[0;32m   1303\u001b[0m     renderer \u001b[38;5;241m=\u001b[39m \u001b[38;5;28mself\u001b[39m\u001b[38;5;241m.\u001b[39mfigure\u001b[38;5;241m.\u001b[39m_get_renderer()\n\u001b[1;32m-> 1304\u001b[0m \u001b[38;5;28;01mreturn\u001b[39;00m ([tick\u001b[38;5;241m.\u001b[39mlabel1\u001b[38;5;241m.\u001b[39mget_window_extent(renderer)\n\u001b[0;32m   1305\u001b[0m          \u001b[38;5;28;01mfor\u001b[39;00m tick \u001b[38;5;129;01min\u001b[39;00m ticks \u001b[38;5;28;01mif\u001b[39;00m tick\u001b[38;5;241m.\u001b[39mlabel1\u001b[38;5;241m.\u001b[39mget_visible()],\n\u001b[0;32m   1306\u001b[0m         [tick\u001b[38;5;241m.\u001b[39mlabel2\u001b[38;5;241m.\u001b[39mget_window_extent(renderer)\n\u001b[0;32m   1307\u001b[0m          \u001b[38;5;28;01mfor\u001b[39;00m tick \u001b[38;5;129;01min\u001b[39;00m ticks \u001b[38;5;28;01mif\u001b[39;00m tick\u001b[38;5;241m.\u001b[39mlabel2\u001b[38;5;241m.\u001b[39mget_visible()])\n",
      "File \u001b[1;32mc:\\Users\\lrpay\\anaconda3\\envs\\dev\\lib\\site-packages\\matplotlib\\axis.py:1304\u001b[0m, in \u001b[0;36m<listcomp>\u001b[1;34m(.0)\u001b[0m\n\u001b[0;32m   1302\u001b[0m \u001b[38;5;28;01mif\u001b[39;00m renderer \u001b[38;5;129;01mis\u001b[39;00m \u001b[38;5;28;01mNone\u001b[39;00m:\n\u001b[0;32m   1303\u001b[0m     renderer \u001b[38;5;241m=\u001b[39m \u001b[38;5;28mself\u001b[39m\u001b[38;5;241m.\u001b[39mfigure\u001b[38;5;241m.\u001b[39m_get_renderer()\n\u001b[1;32m-> 1304\u001b[0m \u001b[38;5;28;01mreturn\u001b[39;00m ([\u001b[43mtick\u001b[49m\u001b[38;5;241;43m.\u001b[39;49m\u001b[43mlabel1\u001b[49m\u001b[38;5;241;43m.\u001b[39;49m\u001b[43mget_window_extent\u001b[49m\u001b[43m(\u001b[49m\u001b[43mrenderer\u001b[49m\u001b[43m)\u001b[49m\n\u001b[0;32m   1305\u001b[0m          \u001b[38;5;28;01mfor\u001b[39;00m tick \u001b[38;5;129;01min\u001b[39;00m ticks \u001b[38;5;28;01mif\u001b[39;00m tick\u001b[38;5;241m.\u001b[39mlabel1\u001b[38;5;241m.\u001b[39mget_visible()],\n\u001b[0;32m   1306\u001b[0m         [tick\u001b[38;5;241m.\u001b[39mlabel2\u001b[38;5;241m.\u001b[39mget_window_extent(renderer)\n\u001b[0;32m   1307\u001b[0m          \u001b[38;5;28;01mfor\u001b[39;00m tick \u001b[38;5;129;01min\u001b[39;00m ticks \u001b[38;5;28;01mif\u001b[39;00m tick\u001b[38;5;241m.\u001b[39mlabel2\u001b[38;5;241m.\u001b[39mget_visible()])\n",
      "File \u001b[1;32mc:\\Users\\lrpay\\anaconda3\\envs\\dev\\lib\\site-packages\\matplotlib\\text.py:959\u001b[0m, in \u001b[0;36mText.get_window_extent\u001b[1;34m(self, renderer, dpi)\u001b[0m\n\u001b[0;32m    954\u001b[0m     \u001b[38;5;28;01mraise\u001b[39;00m \u001b[38;5;167;01mRuntimeError\u001b[39;00m(\n\u001b[0;32m    955\u001b[0m         \u001b[38;5;124m\"\u001b[39m\u001b[38;5;124mCannot get window extent of text w/o renderer. You likely \u001b[39m\u001b[38;5;124m\"\u001b[39m\n\u001b[0;32m    956\u001b[0m         \u001b[38;5;124m\"\u001b[39m\u001b[38;5;124mwant to call \u001b[39m\u001b[38;5;124m'\u001b[39m\u001b[38;5;124mfigure.draw_without_rendering()\u001b[39m\u001b[38;5;124m'\u001b[39m\u001b[38;5;124m first.\u001b[39m\u001b[38;5;124m\"\u001b[39m)\n\u001b[0;32m    958\u001b[0m \u001b[38;5;28;01mwith\u001b[39;00m cbook\u001b[38;5;241m.\u001b[39m_setattr_cm(\u001b[38;5;28mself\u001b[39m\u001b[38;5;241m.\u001b[39mfigure, dpi\u001b[38;5;241m=\u001b[39mdpi):\n\u001b[1;32m--> 959\u001b[0m     bbox, info, descent \u001b[38;5;241m=\u001b[39m \u001b[38;5;28;43mself\u001b[39;49m\u001b[38;5;241;43m.\u001b[39;49m\u001b[43m_get_layout\u001b[49m\u001b[43m(\u001b[49m\u001b[38;5;28;43mself\u001b[39;49m\u001b[38;5;241;43m.\u001b[39;49m\u001b[43m_renderer\u001b[49m\u001b[43m)\u001b[49m\n\u001b[0;32m    960\u001b[0m     x, y \u001b[38;5;241m=\u001b[39m \u001b[38;5;28mself\u001b[39m\u001b[38;5;241m.\u001b[39mget_unitless_position()\n\u001b[0;32m    961\u001b[0m     x, y \u001b[38;5;241m=\u001b[39m \u001b[38;5;28mself\u001b[39m\u001b[38;5;241m.\u001b[39mget_transform()\u001b[38;5;241m.\u001b[39mtransform((x, y))\n",
      "File \u001b[1;32mc:\\Users\\lrpay\\anaconda3\\envs\\dev\\lib\\site-packages\\matplotlib\\text.py:386\u001b[0m, in \u001b[0;36mText._get_layout\u001b[1;34m(self, renderer)\u001b[0m\n\u001b[0;32m    384\u001b[0m clean_line, ismath \u001b[38;5;241m=\u001b[39m \u001b[38;5;28mself\u001b[39m\u001b[38;5;241m.\u001b[39m_preprocess_math(line)\n\u001b[0;32m    385\u001b[0m \u001b[38;5;28;01mif\u001b[39;00m clean_line:\n\u001b[1;32m--> 386\u001b[0m     w, h, d \u001b[38;5;241m=\u001b[39m \u001b[43m_get_text_metrics_with_cache\u001b[49m\u001b[43m(\u001b[49m\n\u001b[0;32m    387\u001b[0m \u001b[43m        \u001b[49m\u001b[43mrenderer\u001b[49m\u001b[43m,\u001b[49m\u001b[43m \u001b[49m\u001b[43mclean_line\u001b[49m\u001b[43m,\u001b[49m\u001b[43m \u001b[49m\u001b[38;5;28;43mself\u001b[39;49m\u001b[38;5;241;43m.\u001b[39;49m\u001b[43m_fontproperties\u001b[49m\u001b[43m,\u001b[49m\n\u001b[0;32m    388\u001b[0m \u001b[43m        \u001b[49m\u001b[43mismath\u001b[49m\u001b[38;5;241;43m=\u001b[39;49m\u001b[43mismath\u001b[49m\u001b[43m,\u001b[49m\u001b[43m \u001b[49m\u001b[43mdpi\u001b[49m\u001b[38;5;241;43m=\u001b[39;49m\u001b[38;5;28;43mself\u001b[39;49m\u001b[38;5;241;43m.\u001b[39;49m\u001b[43mfigure\u001b[49m\u001b[38;5;241;43m.\u001b[39;49m\u001b[43mdpi\u001b[49m\u001b[43m)\u001b[49m\n\u001b[0;32m    389\u001b[0m \u001b[38;5;28;01melse\u001b[39;00m:\n\u001b[0;32m    390\u001b[0m     w \u001b[38;5;241m=\u001b[39m h \u001b[38;5;241m=\u001b[39m d \u001b[38;5;241m=\u001b[39m \u001b[38;5;241m0\u001b[39m\n",
      "File \u001b[1;32mc:\\Users\\lrpay\\anaconda3\\envs\\dev\\lib\\site-packages\\matplotlib\\text.py:97\u001b[0m, in \u001b[0;36m_get_text_metrics_with_cache\u001b[1;34m(renderer, text, fontprop, ismath, dpi)\u001b[0m\n\u001b[0;32m     94\u001b[0m \u001b[38;5;250m\u001b[39m\u001b[38;5;124;03m\"\"\"Call ``renderer.get_text_width_height_descent``, caching the results.\"\"\"\u001b[39;00m\n\u001b[0;32m     95\u001b[0m \u001b[38;5;66;03m# Cached based on a copy of fontprop so that later in-place mutations of\u001b[39;00m\n\u001b[0;32m     96\u001b[0m \u001b[38;5;66;03m# the passed-in argument do not mess up the cache.\u001b[39;00m\n\u001b[1;32m---> 97\u001b[0m \u001b[38;5;28;01mreturn\u001b[39;00m \u001b[43m_get_text_metrics_with_cache_impl\u001b[49m\u001b[43m(\u001b[49m\n\u001b[0;32m     98\u001b[0m \u001b[43m    \u001b[49m\u001b[43mweakref\u001b[49m\u001b[38;5;241;43m.\u001b[39;49m\u001b[43mref\u001b[49m\u001b[43m(\u001b[49m\u001b[43mrenderer\u001b[49m\u001b[43m)\u001b[49m\u001b[43m,\u001b[49m\u001b[43m \u001b[49m\u001b[43mtext\u001b[49m\u001b[43m,\u001b[49m\u001b[43m \u001b[49m\u001b[43mfontprop\u001b[49m\u001b[38;5;241;43m.\u001b[39;49m\u001b[43mcopy\u001b[49m\u001b[43m(\u001b[49m\u001b[43m)\u001b[49m\u001b[43m,\u001b[49m\u001b[43m \u001b[49m\u001b[43mismath\u001b[49m\u001b[43m,\u001b[49m\u001b[43m \u001b[49m\u001b[43mdpi\u001b[49m\u001b[43m)\u001b[49m\n",
      "File \u001b[1;32mc:\\Users\\lrpay\\anaconda3\\envs\\dev\\lib\\site-packages\\matplotlib\\text.py:105\u001b[0m, in \u001b[0;36m_get_text_metrics_with_cache_impl\u001b[1;34m(renderer_ref, text, fontprop, ismath, dpi)\u001b[0m\n\u001b[0;32m    101\u001b[0m \u001b[38;5;129m@functools\u001b[39m\u001b[38;5;241m.\u001b[39mlru_cache(\u001b[38;5;241m4096\u001b[39m)\n\u001b[0;32m    102\u001b[0m \u001b[38;5;28;01mdef\u001b[39;00m \u001b[38;5;21m_get_text_metrics_with_cache_impl\u001b[39m(\n\u001b[0;32m    103\u001b[0m         renderer_ref, text, fontprop, ismath, dpi):\n\u001b[0;32m    104\u001b[0m     \u001b[38;5;66;03m# dpi is unused, but participates in cache invalidation (via the renderer).\u001b[39;00m\n\u001b[1;32m--> 105\u001b[0m     \u001b[38;5;28;01mreturn\u001b[39;00m \u001b[43mrenderer_ref\u001b[49m\u001b[43m(\u001b[49m\u001b[43m)\u001b[49m\u001b[38;5;241;43m.\u001b[39;49m\u001b[43mget_text_width_height_descent\u001b[49m\u001b[43m(\u001b[49m\u001b[43mtext\u001b[49m\u001b[43m,\u001b[49m\u001b[43m \u001b[49m\u001b[43mfontprop\u001b[49m\u001b[43m,\u001b[49m\u001b[43m \u001b[49m\u001b[43mismath\u001b[49m\u001b[43m)\u001b[49m\n",
      "File \u001b[1;32mc:\\Users\\lrpay\\anaconda3\\envs\\dev\\lib\\site-packages\\matplotlib\\backends\\backend_agg.py:234\u001b[0m, in \u001b[0;36mRendererAgg.get_text_width_height_descent\u001b[1;34m(self, s, prop, ismath)\u001b[0m\n\u001b[0;32m    231\u001b[0m     \u001b[38;5;28;01mreturn\u001b[39;00m width, height, descent\n\u001b[0;32m    233\u001b[0m font \u001b[38;5;241m=\u001b[39m \u001b[38;5;28mself\u001b[39m\u001b[38;5;241m.\u001b[39m_prepare_font(prop)\n\u001b[1;32m--> 234\u001b[0m \u001b[43mfont\u001b[49m\u001b[38;5;241;43m.\u001b[39;49m\u001b[43mset_text\u001b[49m\u001b[43m(\u001b[49m\u001b[43ms\u001b[49m\u001b[43m,\u001b[49m\u001b[43m \u001b[49m\u001b[38;5;241;43m0.0\u001b[39;49m\u001b[43m,\u001b[49m\u001b[43m \u001b[49m\u001b[43mflags\u001b[49m\u001b[38;5;241;43m=\u001b[39;49m\u001b[43mget_hinting_flag\u001b[49m\u001b[43m(\u001b[49m\u001b[43m)\u001b[49m\u001b[43m)\u001b[49m\n\u001b[0;32m    235\u001b[0m w, h \u001b[38;5;241m=\u001b[39m font\u001b[38;5;241m.\u001b[39mget_width_height()  \u001b[38;5;66;03m# width and height of unrotated string\u001b[39;00m\n\u001b[0;32m    236\u001b[0m d \u001b[38;5;241m=\u001b[39m font\u001b[38;5;241m.\u001b[39mget_descent()\n",
      "\u001b[1;31mKeyboardInterrupt\u001b[0m: "
     ]
    }
   ],
   "source": [
    "# Create a barplot\n",
    "plt.figure(figsize=(10, 8))  # You might need to adjust this size\n",
    "sns.barplot(x='Top queries', y='Clicks', data=df_queries_Clicks, palette='viridis')\n",
    "\n",
    "# Add titles and labels\n",
    "plt.xlabel('Top queries')\n",
    "plt.ylabel('Clicks')\n",
    "plt.title('Top 10 Clicks for Queries')\n",
    "\n",
    "# Rotate and align labels\n",
    "plt.xticks(rotation=45, ha='right')\n",
    "\n",
    "# Improve layout\n",
    "plt.tight_layout()\n",
    "\n",
    "# Display the plot\n",
    "plt.show()\n"
   ]
  },
  {
   "cell_type": "code",
   "execution_count": 62,
   "metadata": {},
   "outputs": [
    {
     "data": {
      "image/png": "[encoded data removed]",
      "text/plain": [
       "<Figure size 1000x800 with 1 Axes>"
      ]
     },
     "metadata": {},
     "output_type": "display_data"
    }
   ],
   "source": [
    "top_df_queries_position = df_queries_position.head(10)\n",
    "# Create a barplot\n",
    "plt.figure(figsize=(10, 8))\n",
    "sns.barplot(x='Position', y='CTR', data=top_df_queries_position, palette='viridis')\n",
    "\n",
    "# Add titles and labels\n",
    "plt.xlabel('Position')\n",
    "plt.ylabel('CTR')\n",
    "plt.title('Top 10')\n",
    "\n",
    "# Display the plot\n",
    "plt.tight_layout()\n",
    "plt.show()"
   ]
  },
  {
   "cell_type": "code",
   "execution_count": 63,
   "metadata": {},
   "outputs": [
    {
     "data": {
      "image/png": "[encoded data removed]",
      "text/plain": [
       "<Figure size 1400x600 with 1 Axes>"
      ]
     },
     "metadata": {},
     "output_type": "display_data"
    }
   ],
   "source": [
    "plt.figure(figsize=(14, 6))\n",
    "plt.subplot(1, 2, 1)\n",
    "plt.scatter(df_queries_position['Position'], df_queries_position['CTR'], color='blue')\n",
    "plt.title('Scatter Plot of CTR vs Position')\n",
    "plt.xlabel('Average Position')\n",
    "plt.ylabel('Click Through Rate (CTR)')\n",
    "plt.axhline(y=average_ctr, color='r', linestyle='-')\n",
    "plt.axvline(x=average_position, color='r', linestyle='-')\n",
    "plt.grid(True)\n"
   ]
  },
  {
   "cell_type": "code",
   "execution_count": 64,
   "metadata": {},
   "outputs": [
    {
     "data": {
      "image/png": "[encoded data removed]",
      "text/plain": [
       "<Figure size 800x550 with 1 Axes>"
      ]
     },
     "metadata": {},
     "output_type": "display_data"
    }
   ],
   "source": [
    "# Let's create the data for the regression line\n",
    "X = df_queries_position['Position'].values.reshape(-1, 1)  # Features\n",
    "y = df_queries_position['CTR'].values.reshape(-1, 1)  # Target variable\n",
    "# Create linear regression object\n",
    "regr = LinearRegression()\n",
    "\n",
    "# Fit the linear regression model\n",
    "regr.fit(X, y)\n",
    "\n",
    "# Make predictions using the testing set\n",
    "y_pred = regr.predict(X)\n",
    "\n",
    "# Scatter plot with the linear regression line\n",
    "plt.subplot(1, 2, 2)\n",
    "plt.scatter(X, y, color='blue')\n",
    "plt.plot(X, y_pred, color='red', linewidth=2)\n",
    "plt.title('Linear Regression of CTR vs Position')\n",
    "plt.xlabel('Average Position')\n",
    "plt.ylabel('Click Through Rate (CTR)')\n",
    "plt.grid(True)\n",
    "\n",
    "plt.show()\n"
   ]
  },
  {
   "cell_type": "code",
   "execution_count": 65,
   "metadata": {},
   "outputs": [
    {
     "name": "stdout",
     "output_type": "stream",
     "text": [
      "Coefficients: \n",
      " [[-0.01505862]]\n",
      "Mean squared error: 0.03\n",
      "Coefficient of determination: 0.15\n"
     ]
    }
   ],
   "source": [
    "# Coefficients\n",
    "print('Coefficients: \\n', regr.coef_)\n",
    "# The mean squared error\n",
    "print('Mean squared error: %.2f' % mean_squared_error(y, y_pred))\n",
    "# The coefficient of determination: 1 is perfect prediction\n",
    "print('Coefficient of determination: %.2f' % r2_score(y, y_pred))\n"
   ]
  },
  {
   "cell_type": "code",
   "execution_count": 66,
   "metadata": {},
   "outputs": [
    {
     "data": {
      "text/html": [
       "<div>\n",
       "<style scoped>\n",
       "    .dataframe tbody tr th:only-of-type {\n",
       "        vertical-align: middle;\n",
       "    }\n",
       "\n",
       "    .dataframe tbody tr th {\n",
       "        vertical-align: top;\n",
       "    }\n",
       "\n",
       "    .dataframe thead th {\n",
       "        text-align: right;\n",
       "    }\n",
       "</style>\n",
       "<table border=\"1\" class=\"dataframe\">\n",
       "  <thead>\n",
       "    <tr style=\"text-align: right;\">\n",
       "      <th></th>\n",
       "      <th>Top queries</th>\n",
       "      <th>CTR</th>\n",
       "    </tr>\n",
       "  </thead>\n",
       "  <tbody>\n",
       "    <tr>\n",
       "      <th>667</th>\n",
       "      <td>what is a grey man</td>\n",
       "      <td>0.0961</td>\n",
       "    </tr>\n",
       "    <tr>\n",
       "      <th>398</th>\n",
       "      <td>rifle range bag</td>\n",
       "      <td>0.0927</td>\n",
       "    </tr>\n",
       "    <tr>\n",
       "      <th>703</th>\n",
       "      <td>concealed carry joggers</td>\n",
       "      <td>0.0905</td>\n",
       "    </tr>\n",
       "    <tr>\n",
       "      <th>641</th>\n",
       "      <td>gray man theory</td>\n",
       "      <td>0.0842</td>\n",
       "    </tr>\n",
       "    <tr>\n",
       "      <th>795</th>\n",
       "      <td>concealed carry leggings</td>\n",
       "      <td>0.0819</td>\n",
       "    </tr>\n",
       "    <tr>\n",
       "      <th>...</th>\n",
       "      <td>...</td>\n",
       "      <td>...</td>\n",
       "    </tr>\n",
       "    <tr>\n",
       "      <th>683</th>\n",
       "      <td>tactical flashlight</td>\n",
       "      <td>0.0091</td>\n",
       "    </tr>\n",
       "    <tr>\n",
       "      <th>224</th>\n",
       "      <td>karambit knife</td>\n",
       "      <td>0.0078</td>\n",
       "    </tr>\n",
       "    <tr>\n",
       "      <th>567</th>\n",
       "      <td>weight vest</td>\n",
       "      <td>0.0074</td>\n",
       "    </tr>\n",
       "    <tr>\n",
       "      <th>934</th>\n",
       "      <td>tactical pen</td>\n",
       "      <td>0.0067</td>\n",
       "    </tr>\n",
       "    <tr>\n",
       "      <th>74</th>\n",
       "      <td>tactical</td>\n",
       "      <td>0.0064</td>\n",
       "    </tr>\n",
       "  </tbody>\n",
       "</table>\n",
       "<p>230 rows × 2 columns</p>\n",
       "</div>"
      ],
      "text/plain": [
       "                  Top queries     CTR\n",
       "667        what is a grey man  0.0961\n",
       "398           rifle range bag  0.0927\n",
       "703   concealed carry joggers  0.0905\n",
       "641           gray man theory  0.0842\n",
       "795  concealed carry leggings  0.0819\n",
       "..                        ...     ...\n",
       "683       tactical flashlight  0.0091\n",
       "224            karambit knife  0.0078\n",
       "567               weight vest  0.0074\n",
       "934              tactical pen  0.0067\n",
       "74                   tactical  0.0064\n",
       "\n",
       "[230 rows x 2 columns]"
      ]
     },
     "execution_count": 66,
     "metadata": {},
     "output_type": "execute_result"
    }
   ],
   "source": [
    "df_Top_n_CTR"
   ]
  },
  {
   "cell_type": "code",
   "execution_count": 67,
   "metadata": {},
   "outputs": [
    {
     "data": {
      "text/html": [
       "<style type=\"text/css\">\n",
       "#T_99dcb_row8_col1 {\n",
       "  background-color: lightgreen;\n",
       "}\n",
       "</style>\n",
       "<table id=\"T_99dcb\">\n",
       "  <thead>\n",
       "    <tr>\n",
       "      <th class=\"blank level0\" >&nbsp;</th>\n",
       "      <th id=\"T_99dcb_level0_col0\" class=\"col_heading level0 col0\" >Description</th>\n",
       "      <th id=\"T_99dcb_level0_col1\" class=\"col_heading level0 col1\" >Value</th>\n",
       "    </tr>\n",
       "  </thead>\n",
       "  <tbody>\n",
       "    <tr>\n",
       "      <th id=\"T_99dcb_level0_row0\" class=\"row_heading level0 row0\" >0</th>\n",
       "      <td id=\"T_99dcb_row0_col0\" class=\"data row0 col0\" >Session id</td>\n",
       "      <td id=\"T_99dcb_row0_col1\" class=\"data row0 col1\" >721</td>\n",
       "    </tr>\n",
       "    <tr>\n",
       "      <th id=\"T_99dcb_level0_row1\" class=\"row_heading level0 row1\" >1</th>\n",
       "      <td id=\"T_99dcb_row1_col0\" class=\"data row1 col0\" >Target</td>\n",
       "      <td id=\"T_99dcb_row1_col1\" class=\"data row1 col1\" >CTR</td>\n",
       "    </tr>\n",
       "    <tr>\n",
       "      <th id=\"T_99dcb_level0_row2\" class=\"row_heading level0 row2\" >2</th>\n",
       "      <td id=\"T_99dcb_row2_col0\" class=\"data row2 col0\" >Target type</td>\n",
       "      <td id=\"T_99dcb_row2_col1\" class=\"data row2 col1\" >Regression</td>\n",
       "    </tr>\n",
       "    <tr>\n",
       "      <th id=\"T_99dcb_level0_row3\" class=\"row_heading level0 row3\" >3</th>\n",
       "      <td id=\"T_99dcb_row3_col0\" class=\"data row3 col0\" >Original data shape</td>\n",
       "      <td id=\"T_99dcb_row3_col1\" class=\"data row3 col1\" >(230, 2)</td>\n",
       "    </tr>\n",
       "    <tr>\n",
       "      <th id=\"T_99dcb_level0_row4\" class=\"row_heading level0 row4\" >4</th>\n",
       "      <td id=\"T_99dcb_row4_col0\" class=\"data row4 col0\" >Transformed data shape</td>\n",
       "      <td id=\"T_99dcb_row4_col1\" class=\"data row4 col1\" >(230, 2)</td>\n",
       "    </tr>\n",
       "    <tr>\n",
       "      <th id=\"T_99dcb_level0_row5\" class=\"row_heading level0 row5\" >5</th>\n",
       "      <td id=\"T_99dcb_row5_col0\" class=\"data row5 col0\" >Transformed train set shape</td>\n",
       "      <td id=\"T_99dcb_row5_col1\" class=\"data row5 col1\" >(161, 2)</td>\n",
       "    </tr>\n",
       "    <tr>\n",
       "      <th id=\"T_99dcb_level0_row6\" class=\"row_heading level0 row6\" >6</th>\n",
       "      <td id=\"T_99dcb_row6_col0\" class=\"data row6 col0\" >Transformed test set shape</td>\n",
       "      <td id=\"T_99dcb_row6_col1\" class=\"data row6 col1\" >(69, 2)</td>\n",
       "    </tr>\n",
       "    <tr>\n",
       "      <th id=\"T_99dcb_level0_row7\" class=\"row_heading level0 row7\" >7</th>\n",
       "      <td id=\"T_99dcb_row7_col0\" class=\"data row7 col0\" >Categorical features</td>\n",
       "      <td id=\"T_99dcb_row7_col1\" class=\"data row7 col1\" >1</td>\n",
       "    </tr>\n",
       "    <tr>\n",
       "      <th id=\"T_99dcb_level0_row8\" class=\"row_heading level0 row8\" >8</th>\n",
       "      <td id=\"T_99dcb_row8_col0\" class=\"data row8 col0\" >Preprocess</td>\n",
       "      <td id=\"T_99dcb_row8_col1\" class=\"data row8 col1\" >True</td>\n",
       "    </tr>\n",
       "    <tr>\n",
       "      <th id=\"T_99dcb_level0_row9\" class=\"row_heading level0 row9\" >9</th>\n",
       "      <td id=\"T_99dcb_row9_col0\" class=\"data row9 col0\" >Imputation type</td>\n",
       "      <td id=\"T_99dcb_row9_col1\" class=\"data row9 col1\" >simple</td>\n",
       "    </tr>\n",
       "    <tr>\n",
       "      <th id=\"T_99dcb_level0_row10\" class=\"row_heading level0 row10\" >10</th>\n",
       "      <td id=\"T_99dcb_row10_col0\" class=\"data row10 col0\" >Numeric imputation</td>\n",
       "      <td id=\"T_99dcb_row10_col1\" class=\"data row10 col1\" >mean</td>\n",
       "    </tr>\n",
       "    <tr>\n",
       "      <th id=\"T_99dcb_level0_row11\" class=\"row_heading level0 row11\" >11</th>\n",
       "      <td id=\"T_99dcb_row11_col0\" class=\"data row11 col0\" >Categorical imputation</td>\n",
       "      <td id=\"T_99dcb_row11_col1\" class=\"data row11 col1\" >mode</td>\n",
       "    </tr>\n",
       "    <tr>\n",
       "      <th id=\"T_99dcb_level0_row12\" class=\"row_heading level0 row12\" >12</th>\n",
       "      <td id=\"T_99dcb_row12_col0\" class=\"data row12 col0\" >Maximum one-hot encoding</td>\n",
       "      <td id=\"T_99dcb_row12_col1\" class=\"data row12 col1\" >25</td>\n",
       "    </tr>\n",
       "    <tr>\n",
       "      <th id=\"T_99dcb_level0_row13\" class=\"row_heading level0 row13\" >13</th>\n",
       "      <td id=\"T_99dcb_row13_col0\" class=\"data row13 col0\" >Encoding method</td>\n",
       "      <td id=\"T_99dcb_row13_col1\" class=\"data row13 col1\" >None</td>\n",
       "    </tr>\n",
       "    <tr>\n",
       "      <th id=\"T_99dcb_level0_row14\" class=\"row_heading level0 row14\" >14</th>\n",
       "      <td id=\"T_99dcb_row14_col0\" class=\"data row14 col0\" >Fold Generator</td>\n",
       "      <td id=\"T_99dcb_row14_col1\" class=\"data row14 col1\" >KFold</td>\n",
       "    </tr>\n",
       "    <tr>\n",
       "      <th id=\"T_99dcb_level0_row15\" class=\"row_heading level0 row15\" >15</th>\n",
       "      <td id=\"T_99dcb_row15_col0\" class=\"data row15 col0\" >Fold Number</td>\n",
       "      <td id=\"T_99dcb_row15_col1\" class=\"data row15 col1\" >10</td>\n",
       "    </tr>\n",
       "    <tr>\n",
       "      <th id=\"T_99dcb_level0_row16\" class=\"row_heading level0 row16\" >16</th>\n",
       "      <td id=\"T_99dcb_row16_col0\" class=\"data row16 col0\" >CPU Jobs</td>\n",
       "      <td id=\"T_99dcb_row16_col1\" class=\"data row16 col1\" >-1</td>\n",
       "    </tr>\n",
       "    <tr>\n",
       "      <th id=\"T_99dcb_level0_row17\" class=\"row_heading level0 row17\" >17</th>\n",
       "      <td id=\"T_99dcb_row17_col0\" class=\"data row17 col0\" >Use GPU</td>\n",
       "      <td id=\"T_99dcb_row17_col1\" class=\"data row17 col1\" >False</td>\n",
       "    </tr>\n",
       "    <tr>\n",
       "      <th id=\"T_99dcb_level0_row18\" class=\"row_heading level0 row18\" >18</th>\n",
       "      <td id=\"T_99dcb_row18_col0\" class=\"data row18 col0\" >Log Experiment</td>\n",
       "      <td id=\"T_99dcb_row18_col1\" class=\"data row18 col1\" >False</td>\n",
       "    </tr>\n",
       "    <tr>\n",
       "      <th id=\"T_99dcb_level0_row19\" class=\"row_heading level0 row19\" >19</th>\n",
       "      <td id=\"T_99dcb_row19_col0\" class=\"data row19 col0\" >Experiment Name</td>\n",
       "      <td id=\"T_99dcb_row19_col1\" class=\"data row19 col1\" >reg-default-name</td>\n",
       "    </tr>\n",
       "    <tr>\n",
       "      <th id=\"T_99dcb_level0_row20\" class=\"row_heading level0 row20\" >20</th>\n",
       "      <td id=\"T_99dcb_row20_col0\" class=\"data row20 col0\" >USI</td>\n",
       "      <td id=\"T_99dcb_row20_col1\" class=\"data row20 col1\" >9efd</td>\n",
       "    </tr>\n",
       "  </tbody>\n",
       "</table>\n"
      ],
      "text/plain": [
       "<pandas.io.formats.style.Styler at 0x22eabac3a00>"
      ]
     },
     "metadata": {},
     "output_type": "display_data"
    },
    {
     "data": {
      "text/html": [],
      "text/plain": [
       "<IPython.core.display.HTML object>"
      ]
     },
     "metadata": {},
     "output_type": "display_data"
    },
    {
     "data": {
      "text/html": [
       "<style type=\"text/css\">\n",
       "#T_93880_row10_col0, #T_93880_row10_col1, #T_93880_row10_col2, #T_93880_row10_col3, #T_93880_row10_col4, #T_93880_row10_col5 {\n",
       "  background: yellow;\n",
       "}\n",
       "</style>\n",
       "<table id=\"T_93880\">\n",
       "  <thead>\n",
       "    <tr>\n",
       "      <th class=\"blank level0\" >&nbsp;</th>\n",
       "      <th id=\"T_93880_level0_col0\" class=\"col_heading level0 col0\" >MAE</th>\n",
       "      <th id=\"T_93880_level0_col1\" class=\"col_heading level0 col1\" >MSE</th>\n",
       "      <th id=\"T_93880_level0_col2\" class=\"col_heading level0 col2\" >RMSE</th>\n",
       "      <th id=\"T_93880_level0_col3\" class=\"col_heading level0 col3\" >R2</th>\n",
       "      <th id=\"T_93880_level0_col4\" class=\"col_heading level0 col4\" >RMSLE</th>\n",
       "      <th id=\"T_93880_level0_col5\" class=\"col_heading level0 col5\" >MAPE</th>\n",
       "    </tr>\n",
       "    <tr>\n",
       "      <th class=\"index_name level0\" >Fold</th>\n",
       "      <th class=\"blank col0\" >&nbsp;</th>\n",
       "      <th class=\"blank col1\" >&nbsp;</th>\n",
       "      <th class=\"blank col2\" >&nbsp;</th>\n",
       "      <th class=\"blank col3\" >&nbsp;</th>\n",
       "      <th class=\"blank col4\" >&nbsp;</th>\n",
       "      <th class=\"blank col5\" >&nbsp;</th>\n",
       "    </tr>\n",
       "  </thead>\n",
       "  <tbody>\n",
       "    <tr>\n",
       "      <th id=\"T_93880_level0_row0\" class=\"row_heading level0 row0\" >0</th>\n",
       "      <td id=\"T_93880_row0_col0\" class=\"data row0 col0\" >0.0632</td>\n",
       "      <td id=\"T_93880_row0_col1\" class=\"data row0 col1\" >0.0052</td>\n",
       "      <td id=\"T_93880_row0_col2\" class=\"data row0 col2\" >0.0720</td>\n",
       "      <td id=\"T_93880_row0_col3\" class=\"data row0 col3\" >-0.1499</td>\n",
       "      <td id=\"T_93880_row0_col4\" class=\"data row0 col4\" >0.0644</td>\n",
       "      <td id=\"T_93880_row0_col5\" class=\"data row0 col5\" >1.2725</td>\n",
       "    </tr>\n",
       "    <tr>\n",
       "      <th id=\"T_93880_level0_row1\" class=\"row_heading level0 row1\" >1</th>\n",
       "      <td id=\"T_93880_row1_col0\" class=\"data row1 col0\" >0.0646</td>\n",
       "      <td id=\"T_93880_row1_col1\" class=\"data row1 col1\" >0.0056</td>\n",
       "      <td id=\"T_93880_row1_col2\" class=\"data row1 col2\" >0.0750</td>\n",
       "      <td id=\"T_93880_row1_col3\" class=\"data row1 col3\" >-0.1720</td>\n",
       "      <td id=\"T_93880_row1_col4\" class=\"data row1 col4\" >0.0677</td>\n",
       "      <td id=\"T_93880_row1_col5\" class=\"data row1 col5\" >1.8911</td>\n",
       "    </tr>\n",
       "    <tr>\n",
       "      <th id=\"T_93880_level0_row2\" class=\"row_heading level0 row2\" >2</th>\n",
       "      <td id=\"T_93880_row2_col0\" class=\"data row2 col0\" >0.0668</td>\n",
       "      <td id=\"T_93880_row2_col1\" class=\"data row2 col1\" >0.0061</td>\n",
       "      <td id=\"T_93880_row2_col2\" class=\"data row2 col2\" >0.0784</td>\n",
       "      <td id=\"T_93880_row2_col3\" class=\"data row2 col3\" >-0.1199</td>\n",
       "      <td id=\"T_93880_row2_col4\" class=\"data row2 col4\" >0.0705</td>\n",
       "      <td id=\"T_93880_row2_col5\" class=\"data row2 col5\" >1.9920</td>\n",
       "    </tr>\n",
       "    <tr>\n",
       "      <th id=\"T_93880_level0_row3\" class=\"row_heading level0 row3\" >3</th>\n",
       "      <td id=\"T_93880_row3_col0\" class=\"data row3 col0\" >0.1048</td>\n",
       "      <td id=\"T_93880_row3_col1\" class=\"data row3 col1\" >0.0258</td>\n",
       "      <td id=\"T_93880_row3_col2\" class=\"data row3 col2\" >0.1607</td>\n",
       "      <td id=\"T_93880_row3_col3\" class=\"data row3 col3\" >-0.0214</td>\n",
       "      <td id=\"T_93880_row3_col4\" class=\"data row3 col4\" >0.1250</td>\n",
       "      <td id=\"T_93880_row3_col5\" class=\"data row3 col5\" >2.3738</td>\n",
       "    </tr>\n",
       "    <tr>\n",
       "      <th id=\"T_93880_level0_row4\" class=\"row_heading level0 row4\" >4</th>\n",
       "      <td id=\"T_93880_row4_col0\" class=\"data row4 col0\" >0.0861</td>\n",
       "      <td id=\"T_93880_row4_col1\" class=\"data row4 col1\" >0.0107</td>\n",
       "      <td id=\"T_93880_row4_col2\" class=\"data row4 col2\" >0.1035</td>\n",
       "      <td id=\"T_93880_row4_col3\" class=\"data row4 col3\" >-0.0214</td>\n",
       "      <td id=\"T_93880_row4_col4\" class=\"data row4 col4\" >0.0889</td>\n",
       "      <td id=\"T_93880_row4_col5\" class=\"data row4 col5\" >1.8771</td>\n",
       "    </tr>\n",
       "    <tr>\n",
       "      <th id=\"T_93880_level0_row5\" class=\"row_heading level0 row5\" >5</th>\n",
       "      <td id=\"T_93880_row5_col0\" class=\"data row5 col0\" >0.0548</td>\n",
       "      <td id=\"T_93880_row5_col1\" class=\"data row5 col1\" >0.0042</td>\n",
       "      <td id=\"T_93880_row5_col2\" class=\"data row5 col2\" >0.0650</td>\n",
       "      <td id=\"T_93880_row5_col3\" class=\"data row5 col3\" >-0.0887</td>\n",
       "      <td id=\"T_93880_row5_col4\" class=\"data row5 col4\" >0.0596</td>\n",
       "      <td id=\"T_93880_row5_col5\" class=\"data row5 col5\" >2.4184</td>\n",
       "    </tr>\n",
       "    <tr>\n",
       "      <th id=\"T_93880_level0_row6\" class=\"row_heading level0 row6\" >6</th>\n",
       "      <td id=\"T_93880_row6_col0\" class=\"data row6 col0\" >0.0864</td>\n",
       "      <td id=\"T_93880_row6_col1\" class=\"data row6 col1\" >0.0158</td>\n",
       "      <td id=\"T_93880_row6_col2\" class=\"data row6 col2\" >0.1258</td>\n",
       "      <td id=\"T_93880_row6_col3\" class=\"data row6 col3\" >-0.0057</td>\n",
       "      <td id=\"T_93880_row6_col4\" class=\"data row6 col4\" >0.1034</td>\n",
       "      <td id=\"T_93880_row6_col5\" class=\"data row6 col5\" >1.8999</td>\n",
       "    </tr>\n",
       "    <tr>\n",
       "      <th id=\"T_93880_level0_row7\" class=\"row_heading level0 row7\" >7</th>\n",
       "      <td id=\"T_93880_row7_col0\" class=\"data row7 col0\" >0.1012</td>\n",
       "      <td id=\"T_93880_row7_col1\" class=\"data row7 col1\" >0.0175</td>\n",
       "      <td id=\"T_93880_row7_col2\" class=\"data row7 col2\" >0.1322</td>\n",
       "      <td id=\"T_93880_row7_col3\" class=\"data row7 col3\" >-0.0011</td>\n",
       "      <td id=\"T_93880_row7_col4\" class=\"data row7 col4\" >0.1099</td>\n",
       "      <td id=\"T_93880_row7_col5\" class=\"data row7 col5\" >2.9130</td>\n",
       "    </tr>\n",
       "    <tr>\n",
       "      <th id=\"T_93880_level0_row8\" class=\"row_heading level0 row8\" >8</th>\n",
       "      <td id=\"T_93880_row8_col0\" class=\"data row8 col0\" >0.1053</td>\n",
       "      <td id=\"T_93880_row8_col1\" class=\"data row8 col1\" >0.0307</td>\n",
       "      <td id=\"T_93880_row8_col2\" class=\"data row8 col2\" >0.1753</td>\n",
       "      <td id=\"T_93880_row8_col3\" class=\"data row8 col3\" >-0.0512</td>\n",
       "      <td id=\"T_93880_row8_col4\" class=\"data row8 col4\" >0.1322</td>\n",
       "      <td id=\"T_93880_row8_col5\" class=\"data row8 col5\" >1.7180</td>\n",
       "    </tr>\n",
       "    <tr>\n",
       "      <th id=\"T_93880_level0_row9\" class=\"row_heading level0 row9\" >9</th>\n",
       "      <td id=\"T_93880_row9_col0\" class=\"data row9 col0\" >0.1045</td>\n",
       "      <td id=\"T_93880_row9_col1\" class=\"data row9 col1\" >0.0250</td>\n",
       "      <td id=\"T_93880_row9_col2\" class=\"data row9 col2\" >0.1580</td>\n",
       "      <td id=\"T_93880_row9_col3\" class=\"data row9 col3\" >-0.0668</td>\n",
       "      <td id=\"T_93880_row9_col4\" class=\"data row9 col4\" >0.1264</td>\n",
       "      <td id=\"T_93880_row9_col5\" class=\"data row9 col5\" >1.1792</td>\n",
       "    </tr>\n",
       "    <tr>\n",
       "      <th id=\"T_93880_level0_row10\" class=\"row_heading level0 row10\" >Mean</th>\n",
       "      <td id=\"T_93880_row10_col0\" class=\"data row10 col0\" >0.0838</td>\n",
       "      <td id=\"T_93880_row10_col1\" class=\"data row10 col1\" >0.0147</td>\n",
       "      <td id=\"T_93880_row10_col2\" class=\"data row10 col2\" >0.1146</td>\n",
       "      <td id=\"T_93880_row10_col3\" class=\"data row10 col3\" >-0.0698</td>\n",
       "      <td id=\"T_93880_row10_col4\" class=\"data row10 col4\" >0.0948</td>\n",
       "      <td id=\"T_93880_row10_col5\" class=\"data row10 col5\" >1.9535</td>\n",
       "    </tr>\n",
       "    <tr>\n",
       "      <th id=\"T_93880_level0_row11\" class=\"row_heading level0 row11\" >Std</th>\n",
       "      <td id=\"T_93880_row11_col0\" class=\"data row11 col0\" >0.0189</td>\n",
       "      <td id=\"T_93880_row11_col1\" class=\"data row11 col1\" >0.0093</td>\n",
       "      <td id=\"T_93880_row11_col2\" class=\"data row11 col2\" >0.0392</td>\n",
       "      <td id=\"T_93880_row11_col3\" class=\"data row11 col3\" >0.0580</td>\n",
       "      <td id=\"T_93880_row11_col4\" class=\"data row11 col4\" >0.0267</td>\n",
       "      <td id=\"T_93880_row11_col5\" class=\"data row11 col5\" >0.4946</td>\n",
       "    </tr>\n",
       "  </tbody>\n",
       "</table>\n"
      ],
      "text/plain": [
       "<pandas.io.formats.style.Styler at 0x22eab2de530>"
      ]
     },
     "metadata": {},
     "output_type": "display_data"
    },
    {
     "data": {
      "text/html": [],
      "text/plain": [
       "<IPython.core.display.HTML object>"
      ]
     },
     "metadata": {},
     "output_type": "display_data"
    },
    {
     "data": {
      "text/html": [],
      "text/plain": [
       "<IPython.core.display.HTML object>"
      ]
     },
     "metadata": {},
     "output_type": "display_data"
    },
    {
     "data": {
      "image/png": "[encoded data removed]",
      "text/plain": [
       "<Figure size 800x550 with 2 Axes>"
      ]
     },
     "metadata": {},
     "output_type": "display_data"
    }
   ],
   "source": [
    "import pandas as pd\n",
    "from pycaret.regression import *\n",
    "reg1 = setup(data=df_Top_n_CTR, target='CTR')\n",
    "\n",
    "# Create a regression model, using Linear Regression ('lr') in this example\n",
    "lr = create_model('lr')\n",
    "\n",
    "# Plot model performance, for regression 'auc' is not applicable, use 'residuals' or other relevant plots\n",
    "plot_model(lr, plot='residuals')"
   ]
  },
  {
   "cell_type": "code",
   "execution_count": null,
   "metadata": {},
   "outputs": [
    {
     "data": {
      "text/html": [
       "<div>\n",
       "<style scoped>\n",
       "    .dataframe tbody tr th:only-of-type {\n",
       "        vertical-align: middle;\n",
       "    }\n",
       "\n",
       "    .dataframe tbody tr th {\n",
       "        vertical-align: top;\n",
       "    }\n",
       "\n",
       "    .dataframe thead th {\n",
       "        text-align: right;\n",
       "    }\n",
       "</style>\n",
       "<table border=\"1\" class=\"dataframe\">\n",
       "  <thead>\n",
       "    <tr style=\"text-align: right;\">\n",
       "      <th></th>\n",
       "      <th>Top queries</th>\n",
       "      <th>CTR</th>\n",
       "    </tr>\n",
       "  </thead>\n",
       "  <tbody>\n",
       "    <tr>\n",
       "      <th>0</th>\n",
       "      <td>what is a grey man</td>\n",
       "      <td>0.0961</td>\n",
       "    </tr>\n",
       "    <tr>\n",
       "      <th>1</th>\n",
       "      <td>rifle range bag</td>\n",
       "      <td>0.0927</td>\n",
       "    </tr>\n",
       "    <tr>\n",
       "      <th>2</th>\n",
       "      <td>concealed carry joggers</td>\n",
       "      <td>0.0905</td>\n",
       "    </tr>\n",
       "    <tr>\n",
       "      <th>3</th>\n",
       "      <td>gray man theory</td>\n",
       "      <td>0.0842</td>\n",
       "    </tr>\n",
       "    <tr>\n",
       "      <th>4</th>\n",
       "      <td>concealed carry leggings</td>\n",
       "      <td>0.0819</td>\n",
       "    </tr>\n",
       "    <tr>\n",
       "      <th>...</th>\n",
       "      <td>...</td>\n",
       "      <td>...</td>\n",
       "    </tr>\n",
       "    <tr>\n",
       "      <th>210</th>\n",
       "      <td>tactical flashlight</td>\n",
       "      <td>0.0091</td>\n",
       "    </tr>\n",
       "    <tr>\n",
       "      <th>211</th>\n",
       "      <td>karambit knife</td>\n",
       "      <td>0.0078</td>\n",
       "    </tr>\n",
       "    <tr>\n",
       "      <th>212</th>\n",
       "      <td>weight vest</td>\n",
       "      <td>0.0074</td>\n",
       "    </tr>\n",
       "    <tr>\n",
       "      <th>213</th>\n",
       "      <td>tactical pen</td>\n",
       "      <td>0.0067</td>\n",
       "    </tr>\n",
       "    <tr>\n",
       "      <th>214</th>\n",
       "      <td>tactical</td>\n",
       "      <td>0.0064</td>\n",
       "    </tr>\n",
       "  </tbody>\n",
       "</table>\n",
       "<p>215 rows × 2 columns</p>\n",
       "</div>"
      ],
      "text/plain": [
       "                  Top queries     CTR\n",
       "0          what is a grey man  0.0961\n",
       "1             rifle range bag  0.0927\n",
       "2     concealed carry joggers  0.0905\n",
       "3             gray man theory  0.0842\n",
       "4    concealed carry leggings  0.0819\n",
       "..                        ...     ...\n",
       "210       tactical flashlight  0.0091\n",
       "211            karambit knife  0.0078\n",
       "212               weight vest  0.0074\n",
       "213              tactical pen  0.0067\n",
       "214                  tactical  0.0064\n",
       "\n",
       "[215 rows x 2 columns]"
      ]
     },
     "execution_count": 23,
     "metadata": {},
     "output_type": "execute_result"
    }
   ],
   "source": [
    "file_path1 = './no511.csv'\n",
    "df_no_511 = pd.read_csv(file_path1)\n",
    "df_no_511"
   ]
  },
  {
   "cell_type": "code",
   "execution_count": null,
   "metadata": {},
   "outputs": [
    {
     "data": {
      "text/html": [
       "<div>\n",
       "<style scoped>\n",
       "    .dataframe tbody tr th:only-of-type {\n",
       "        vertical-align: middle;\n",
       "    }\n",
       "\n",
       "    .dataframe tbody tr th {\n",
       "        vertical-align: top;\n",
       "    }\n",
       "\n",
       "    .dataframe thead th {\n",
       "        text-align: right;\n",
       "    }\n",
       "</style>\n",
       "<table border=\"1\" class=\"dataframe\">\n",
       "  <thead>\n",
       "    <tr style=\"text-align: right;\">\n",
       "      <th></th>\n",
       "      <th>Top pages</th>\n",
       "      <th>Clicks</th>\n",
       "      <th>Impressions</th>\n",
       "      <th>CTR</th>\n",
       "      <th>Position</th>\n",
       "    </tr>\n",
       "  </thead>\n",
       "  <tbody>\n",
       "    <tr>\n",
       "      <th>94</th>\n",
       "      <td>https://www.511tactical.com/mens/shop-all.html</td>\n",
       "      <td>1161</td>\n",
       "      <td>737510</td>\n",
       "      <td>0.16%</td>\n",
       "      <td>1.56</td>\n",
       "    </tr>\n",
       "    <tr>\n",
       "      <th>31</th>\n",
       "      <td>https://www.511tactical.com/sale/mens.html</td>\n",
       "      <td>3627</td>\n",
       "      <td>1292652</td>\n",
       "      <td>0.28%</td>\n",
       "      <td>1.71</td>\n",
       "    </tr>\n",
       "    <tr>\n",
       "      <th>623</th>\n",
       "      <td>https://www.511tactical.com/de-de/outlet.html</td>\n",
       "      <td>196</td>\n",
       "      <td>40594</td>\n",
       "      <td>0.48%</td>\n",
       "      <td>1.84</td>\n",
       "    </tr>\n",
       "    <tr>\n",
       "      <th>267</th>\n",
       "      <td>https://www.511tactical.com/v-xi-sigurd-shirt....</td>\n",
       "      <td>496</td>\n",
       "      <td>2732</td>\n",
       "      <td>18.16%</td>\n",
       "      <td>2.12</td>\n",
       "    </tr>\n",
       "    <tr>\n",
       "      <th>25</th>\n",
       "      <td>https://www.511tactical.com/womens.html</td>\n",
       "      <td>3861</td>\n",
       "      <td>1540322</td>\n",
       "      <td>0.25%</td>\n",
       "      <td>2.27</td>\n",
       "    </tr>\n",
       "    <tr>\n",
       "      <th>...</th>\n",
       "      <td>...</td>\n",
       "      <td>...</td>\n",
       "      <td>...</td>\n",
       "      <td>...</td>\n",
       "      <td>...</td>\n",
       "    </tr>\n",
       "    <tr>\n",
       "      <th>396</th>\n",
       "      <td>https://www.511tactical.com/mens/mens-pants/me...</td>\n",
       "      <td>343</td>\n",
       "      <td>36557</td>\n",
       "      <td>0.94%</td>\n",
       "      <td>62.00</td>\n",
       "    </tr>\n",
       "    <tr>\n",
       "      <th>180</th>\n",
       "      <td>https://www.511tactical.com/mens/mens-shirts/b...</td>\n",
       "      <td>726</td>\n",
       "      <td>158246</td>\n",
       "      <td>0.46%</td>\n",
       "      <td>63.69</td>\n",
       "    </tr>\n",
       "    <tr>\n",
       "      <th>453</th>\n",
       "      <td>https://www.511tactical.com/mens/mens-outerwea...</td>\n",
       "      <td>299</td>\n",
       "      <td>29155</td>\n",
       "      <td>1.03%</td>\n",
       "      <td>65.03</td>\n",
       "    </tr>\n",
       "    <tr>\n",
       "      <th>892</th>\n",
       "      <td>https://www.511tactical.com/fr-utility-stretch...</td>\n",
       "      <td>118</td>\n",
       "      <td>4697</td>\n",
       "      <td>2.51%</td>\n",
       "      <td>65.44</td>\n",
       "    </tr>\n",
       "    <tr>\n",
       "      <th>226</th>\n",
       "      <td>https://www.511tactical.com/accessories/slings...</td>\n",
       "      <td>588</td>\n",
       "      <td>90495</td>\n",
       "      <td>0.65%</td>\n",
       "      <td>71.97</td>\n",
       "    </tr>\n",
       "  </tbody>\n",
       "</table>\n",
       "<p>1000 rows × 5 columns</p>\n",
       "</div>"
      ],
      "text/plain": [
       "                                             Top pages  Clicks  Impressions  \\\n",
       "94      https://www.511tactical.com/mens/shop-all.html    1161       737510   \n",
       "31          https://www.511tactical.com/sale/mens.html    3627      1292652   \n",
       "623      https://www.511tactical.com/de-de/outlet.html     196        40594   \n",
       "267  https://www.511tactical.com/v-xi-sigurd-shirt....     496         2732   \n",
       "25             https://www.511tactical.com/womens.html    3861      1540322   \n",
       "..                                                 ...     ...          ...   \n",
       "396  https://www.511tactical.com/mens/mens-pants/me...     343        36557   \n",
       "180  https://www.511tactical.com/mens/mens-shirts/b...     726       158246   \n",
       "453  https://www.511tactical.com/mens/mens-outerwea...     299        29155   \n",
       "892  https://www.511tactical.com/fr-utility-stretch...     118         4697   \n",
       "226  https://www.511tactical.com/accessories/slings...     588        90495   \n",
       "\n",
       "        CTR  Position  \n",
       "94    0.16%      1.56  \n",
       "31    0.28%      1.71  \n",
       "623   0.48%      1.84  \n",
       "267  18.16%      2.12  \n",
       "25    0.25%      2.27  \n",
       "..      ...       ...  \n",
       "396   0.94%     62.00  \n",
       "180   0.46%     63.69  \n",
       "453   1.03%     65.03  \n",
       "892   2.51%     65.44  \n",
       "226   0.65%     71.97  \n",
       "\n",
       "[1000 rows x 5 columns]"
      ]
     },
     "execution_count": 24,
     "metadata": {},
     "output_type": "execute_result"
    }
   ],
   "source": [
    "file_path2 = './dont use Pages.csv'\n",
    "df_pages = pd.read_csv(file_path2)\n",
    "df_pages = df_pages.sort_values('Position', ascending=True)\n",
    "df_pages"
   ]
  },
  {
   "cell_type": "code",
   "execution_count": null,
   "metadata": {},
   "outputs": [
    {
     "data": {
      "application/vnd.plotly.v1+json": {
       "config": {
        "plotlyServerURL": "https://plot.ly"
       },
       "data": [
        {
         "customdata": [
          [
           "https://www.511tactical.com/mens/shop-all.html"
          ],
          [
           "https://www.511tactical.com/sale/mens.html"
          ],
          [
           "https://www.511tactical.com/de-de/outlet.html"
          ],
          [
           "https://www.511tactical.com/v-xi-sigurd-shirt.html"
          ],
          [
           "https://www.511tactical.com/womens.html"
          ],
          [
           "https://www.511tactical.com/au-en/mens.html"
          ],
          [
           "https://www.511tactical.com/it-en/"
          ],
          [
           "https://www.511tactical.com/es-en/outlet.html"
          ],
          [
           "https://www.511tactical.com/v-xi-sigurd-long-sleeve-shirt.html"
          ],
          [
           "https://www.511tactical.com/au-en"
          ],
          [
           "https://www.511tactical.com/se-en"
          ],
          [
           "https://www.511tactical.com/it-en/wyldcat-pant.html"
          ],
          [
           "https://www.511tactical.com/de-de/cams-3-0.html"
          ],
          [
           "https://www.511tactical.com/eu-en/home-pagebuilder-europe"
          ],
          [
           "https://www.511tactical.com/de-de/mens.html"
          ],
          [
           "https://www.511tactical.com/de-de"
          ],
          [
           "https://www.511tactical.com/de-de/bags-packs.html"
          ],
          [
           "https://www.511tactical.com/mens.html"
          ],
          [
           "https://www.511tactical.com/de-en"
          ],
          [
           "https://www.511tactical.com/blog/ghost-recon-breakpoint---the-gear/"
          ],
          [
           "https://www.511tactical.com/ridgeline-pant.html"
          ],
          [
           "https://www.511tactical.com/?SID=df9698e2187ef520fb0a518b6f95cc73"
          ],
          [
           "https://www.511tactical.com/eu-en/"
          ],
          [
           "https://www.511tactical.com/convoy-stuff-sack-mike.html"
          ],
          [
           "https://www.511tactical.com/se-en/ampc-pack.html"
          ],
          [
           "https://www.511tactical.com/au-en/rush-tier-rifle-sleeve.html"
          ],
          [
           "https://www.511tactical.com/de-de/bags-packs/backpacks-bags.html"
          ],
          [
           "https://www.511tactical.com/se-en/contact"
          ],
          [
           "https://www.511tactical.com/eu-en/511-flannel-shirt.html"
          ],
          [
           "https://www.511tactical.com/it-en/return-policy"
          ],
          [
           "https://www.511tactical.com/preston-jacket.html"
          ],
          [
           "https://www.511tactical.com/se-en/large-drop-pouch.html"
          ],
          [
           "https://www.511tactical.com/de-de/accessories/hats.html"
          ],
          [
           "https://www.511tactical.com/company-info/about-511"
          ],
          [
           "https://www.511tactical.com/utm_source=googlelocal&utm_medium=search&utm_campaign=list"
          ],
          [
           "https://www.511tactical.com/west-palm-beach-33409"
          ],
          [
           "https://www.511tactical.com/mission-ready-chukka.html"
          ],
          [
           "https://www.511tactical.com/footwear/at-series-footwear.html"
          ],
          [
           "https://www.511tactical.com/au-en/rush72-2-0-backpack.html"
          ],
          [
           "https://www.511tactical.com/se-en/customer-service/return-policy"
          ],
          [
           "https://www.511tactical.com/flex-tac-174-tdu-174-ripstop-pant.html"
          ],
          [
           "https://www.511tactical.com/au-en/rush24-2-0-backpack.html"
          ],
          [
           "https://www.511tactical.com/canada-collection.html"
          ],
          [
           "https://www.511tactical.com/club-ruck-tee.html"
          ],
          [
           "https://www.511tactical.com/au-en/sale.html"
          ],
          [
           "https://www.511tactical.com/es-en/zero-g-plate.html"
          ],
          [
           "https://www.511tactical.com/ultimategeargiveaway"
          ],
          [
           "https://www.511tactical.com/v-xi-xtu-pant.html"
          ],
          [
           "https://www.511tactical.com/?utm_source=googlelocal&utm_medium=search&utm_campaign=list"
          ],
          [
           "https://www.511tactical.com/eu-en/ampc-pack.html"
          ],
          [
           "https://www.511tactical.com/de-de/511-hamburg-store"
          ],
          [
           "https://www.511tactical.com/se-en/accessories/hats.html"
          ],
          [
           "https://www.511tactical.com/eu-en/stryke-pant.html"
          ],
          [
           "https://www.511tactical.com/de-de/lv10-sling-pack-2-0.html"
          ],
          [
           "https://www.511tactical.com/se-en/outlet.html"
          ],
          [
           "https://www.511tactical.com/cloudstryke-pack-18l.html"
          ],
          [
           "https://www.511tactical.com/de-de/defender-flex-slim-jean.html"
          ],
          [
           "https://www.511tactical.com/de-en/customer-service/warranty"
          ],
          [
           "https://www.511tactical.com/laredo-tx-78045"
          ],
          [
           "https://www.511tactical.com/it-en/operator-axe.html"
          ],
          [
           "https://www.511tactical.com/Nashville-TN-37215"
          ],
          [
           "https://www.511tactical.com/havoc30-training"
          ],
          [
           "https://www.511tactical.com/clovis-ca-93612"
          ],
          [
           "https://www.511tactical.com/de-de/rush24-2-0-backpack.html"
          ],
          [
           "https://www.511tactical.com/skyweight-waterproof-side-zip-boots-3.html"
          ],
          [
           "https://www.511tactical.com/tyler-tx-75703"
          ],
          [
           "https://www.511tactical.com/au-en/stryke-pant.html"
          ],
          [
           "https://www.511tactical.com/eu-en/outlet.html"
          ],
          [
           "https://www.511tactical.com/icarus-dp-knife.html"
          ],
          [
           "https://www.511tactical.com/eu-en/lv8-sling-pack.html"
          ],
          [
           "https://www.511tactical.com/de-de/mens/mens-pants.html"
          ],
          [
           "https://www.511tactical.com/fall2018-geo7-camo"
          ],
          [
           "https://www.511tactical.com/lv18-backpack-2-0.html"
          ],
          [
           "https://www.511tactical.com/defender-flex-pant-2-0.html"
          ],
          [
           "https://www.511tactical.com/se-en/apex-pant.html"
          ],
          [
           "https://www.511tactical.com/au-en/bags-packs.html"
          ],
          [
           "https://www.511tactical.com/skyweight-on-the-go-pouch.html"
          ],
          [
           "https://www.511tactical.com/se-en/footwear/boots/safety-boots.html"
          ],
          [
           "https://www.511tactical.com/all-hazards-nitro-backpack.html"
          ],
          [
           "https://www.511tactical.com/de-de/soms-3-0.html"
          ],
          [
           "https://www.511tactical.com/abr.html"
          ],
          [
           "https://www.511tactical.com/quantum-tdu-pants.html"
          ],
          [
           "https://www.511tactical.com/meridian-id-83646"
          ],
          [
           "https://www.511tactical.com/defender-flex-regular-jean-97.html"
          ],
          [
           "https://www.511tactical.com/egor-pouch-lima.html"
          ],
          [
           "https://www.511tactical.com/community/new-products-for-2024/"
          ],
          [
           "https://www.511tactical.com/eu-en/apex-pant.html"
          ],
          [
           "https://www.511tactical.com/cold-weather-rapid-ops-shirt.html"
          ],
          [
           "https://www.511tactical.com/de-en/"
          ],
          [
           "https://www.511tactical.com/plate-carrier-extender.html"
          ],
          [
           "https://www.511tactical.com/eu-en/amp12.html"
          ],
          [
           "https://www.511tactical.com/ryker-dp-mini.html"
          ],
          [
           "https://www.511tactical.com/convoy-pkg-cube-mike.html"
          ],
          [
           "https://www.511tactical.com/skyweight-sling-pack.html"
          ],
          [
           "https://www.511tactical.com/de-de/tac-tec-plate-carrier.html"
          ],
          [
           "https://www.511tactical.com/es-en/potm"
          ],
          [
           "https://www.511tactical.com/au-en/vxi-collection"
          ],
          [
           "https://www.511tactical.com/downergrove-il-60515"
          ],
          [
           "https://www.511tactical.com/mcallen-tx-78503"
          ],
          [
           "https://www.511tactical.com/4-banger-bag.html"
          ],
          [
           "https://www.511tactical.com/speed-4-0-8-arid-boot.html"
          ],
          [
           "https://www.511tactical.com/springfield-va-22150"
          ],
          [
           "https://www.511tactical.com/au-en/rush12-2-0-backpack.html"
          ],
          [
           "https://www.511tactical.com/au-en/amp12.html"
          ],
          [
           "https://www.511tactical.com/footwear/boots/tactical-boots.html"
          ],
          [
           "https://www.511tactical.com/abrsweepstakes"
          ],
          [
           "https://www.511tactical.com/oklahomacity-ok-73134"
          ],
          [
           "https://www.511tactical.com/au-en/mens/mens-outerwear.html"
          ],
          [
           "https://www.511tactical.com/de-de/amp24.html"
          ],
          [
           "https://www.511tactical.com/shotevents"
          ],
          [
           "https://www.511tactical.com/au-en/lv6-waist-pack-2-0.html"
          ],
          [
           "https://www.511tactical.com/sale-1"
          ],
          [
           "https://www.511tactical.com/amp24.html"
          ],
          [
           "https://www.511tactical.com/de-en/mens/mens-outerwear.html"
          ],
          [
           "https://www.511tactical.com/eu-en/recon-trainer.html"
          ],
          [
           "https://www.511tactical.com/baybrook-tx-77598"
          ],
          [
           "https://www.511tactical.com/arlington-tx-76017"
          ],
          [
           "https://www.511tactical.com/free-concealed-carry-hoodie"
          ],
          [
           "https://www.511tactical.com/commerce-ca-90040"
          ],
          [
           "https://www.511tactical.com/de-de/mens/mens-shirts/mens-t-shirts.html"
          ],
          [
           "https://www.511tactical.com/rapid-origin-pack.html"
          ],
          [
           "https://www.511tactical.com/2-banger-bag-5.html"
          ],
          [
           "https://www.511tactical.com/braddock-dp-full.html"
          ],
          [
           "https://www.511tactical.com/double-pistol-bungeecover.html"
          ],
          [
           "https://www.511tactical.com/aggressor-parka.html"
          ],
          [
           "https://www.511tactical.com/eu-en/kilt"
          ],
          [
           "https://www.511tactical.com/made-in-the-usa-tee.html"
          ],
          [
           "https://www.511tactical.com/it-en/kilt"
          ],
          [
           "https://www.511tactical.com/bags-packs.html"
          ],
          [
           "https://www.511tactical.com/el-paso-tx-79915"
          ],
          [
           "https://www.511tactical.com/saugus-ma-01906"
          ],
          [
           "https://www.511tactical.com/simi-valley-ca-93065"
          ],
          [
           "https://www.511tactical.com/mens-b-class-taclite-pdu-cargo-pant.html"
          ],
          [
           "https://www.511tactical.com/bags-packs/featured/skyweight-collection.html"
          ],
          [
           "https://www.511tactical.com/de-de/maverick-battle-belt.html"
          ],
          [
           "https://www.511tactical.com/bakersfield-ca-93304"
          ],
          [
           "https://www.511tactical.com/bastion-jacket.html"
          ],
          [
           "https://www.511tactical.com/eu-en/amp24.html"
          ],
          [
           "https://www.511tactical.com/au-en/mens/mens-pants.html"
          ],
          [
           "https://www.511tactical.com/de-de/rush12-2-0-backpack.html"
          ],
          [
           "https://www.511tactical.com/au-en/thumbdrive-holster-19-23.html"
          ],
          [
           "https://www.511tactical.com/de-de/footwear.html"
          ],
          [
           "https://www.511tactical.com/de-en/amp24.html"
          ],
          [
           "https://www.511tactical.com/mens/footwear.html"
          ],
          [
           "https://www.511tactical.com/eu-en/customer/account/login/"
          ],
          [
           "https://www.511tactical.com/eu-en/public-safety/uniform-systems.html"
          ],
          [
           "https://www.511tactical.com/sb-keepers.html"
          ],
          [
           "https://www.511tactical.com/se-en/amp24.html"
          ],
          [
           "https://www.511tactical.com/au-en/store-locator"
          ],
          [
           "https://www.511tactical.com/amp10.html"
          ],
          [
           "https://www.511tactical.com/5-11-mcclane-mid.html"
          ],
          [
           "https://www.511tactical.com/stryke-shorts.html"
          ],
          [
           "https://www.511tactical.com/public-safety/nypd-5-11-stryke-pant.html"
          ],
          [
           "https://www.511tactical.com/de-de/public-safety/first-responders/bottoms.html"
          ],
          [
           "https://www.511tactical.com/de-de/breaching"
          ],
          [
           "https://www.511tactical.com/knoxville-tn-37923"
          ],
          [
           "https://www.511tactical.com/tampa-fl-33618"
          ],
          [
           "https://www.511tactical.com/se-en/amp72.html"
          ],
          [
           "https://www.511tactical.com/it-en/speed-3-sidezip-boot.html"
          ],
          [
           "https://www.511tactical.com/brentwood-ca-94513"
          ],
          [
           "https://www.511tactical.com/vxi-collection"
          ],
          [
           "https://www.511tactical.com/lv18.html"
          ],
          [
           "https://www.511tactical.com/frisco-tx-75034"
          ],
          [
           "https://www.511tactical.com/mission-ready-3-0.html"
          ],
          [
           "https://www.511tactical.com/norris-sneaker-39.html"
          ],
          [
           "https://www.511tactical.com/responder-parka-2-0.html"
          ],
          [
           "https://www.511tactical.com/ultimate-gear-giveaway"
          ],
          [
           "https://www.511tactical.com/au-en/mens/mens-pants/mens-shorts.html"
          ],
          [
           "https://www.511tactical.com/outpost-chrono.html"
          ],
          [
           "https://www.511tactical.com/au-en/footwear.html"
          ],
          [
           "https://www.511tactical.com/signature-duty-jacket.html"
          ],
          [
           "https://www.511tactical.com/5-in-1-jacket.html"
          ],
          [
           "https://www.511tactical.com/range-qualifier-bag.html"
          ],
          [
           "https://www.511tactical.com/taclite-4-0-glove.html"
          ],
          [
           "https://www.511tactical.com/chandler-az-85286"
          ],
          [
           "https://www.511tactical.com/goal-pt-r-jogger.html"
          ],
          [
           "https://www.511tactical.com/se-en/zero-g-plate.html"
          ],
          [
           "https://www.511tactical.com/5-in-1-jacket-2-0.html"
          ],
          [
           "https://www.511tactical.com/overwatch-briefcase.html"
          ],
          [
           "https://www.511tactical.com/light-marker-2.html"
          ],
          [
           "https://www.511tactical.com/bastion-pant.html"
          ],
          [
           "https://www.511tactical.com/community/senior-leadership-announcement/"
          ],
          [
           "https://www.511tactical.com/bail-out-bag.html"
          ],
          [
           "https://www.511tactical.com/stryke-tdu-pants.html"
          ],
          [
           "https://www.511tactical.com/taclite-tdu-pants.html"
          ],
          [
           "https://www.511tactical.com/de-en/rush-delivery-mike.html"
          ],
          [
           "https://www.511tactical.com/eu-en/rush72-2-0-backpack.html"
          ],
          [
           "https://www.511tactical.com/de-de/stryke-pant.html"
          ],
          [
           "https://www.511tactical.com/se-en/amp12.html"
          ],
          [
           "https://www.511tactical.com/manteca-ca-95336"
          ],
          [
           "https://www.511tactical.com/trainer-belt-1-12-wide.html"
          ],
          [
           "https://www.511tactical.com/es-en/amp12.html"
          ],
          [
           "https://www.511tactical.com/san-antonio-tx-78232"
          ],
          [
           "https://www.511tactical.com/vlad-rescue-pen.html"
          ],
          [
           "https://www.511tactical.com/2-banger-bag.html"
          ],
          [
           "https://www.511tactical.com/maverick-assaulters-belt.html"
          ],
          [
           "https://www.511tactical.com/rapid-duffel-sierra.html"
          ],
          [
           "https://www.511tactical.com/mexico-dealers"
          ],
          [
           "https://www.511tactical.com/footwear/tactical-shoes.html"
          ],
          [
           "https://www.511tactical.com/push-pack.html"
          ],
          [
           "https://www.511tactical.com/au-en/overwatch-messenger.html"
          ],
          [
           "https://www.511tactical.com/sale.html"
          ],
          [
           "https://www.511tactical.com/ss-pdu-rapid-shirt.html"
          ],
          [
           "https://www.511tactical.com/es-en/rush-delivery-lima.html"
          ],
          [
           "https://www.511tactical.com/alta-belt.html"
          ],
          [
           "https://www.511tactical.com/eu-en/mens/mens-pants.html"
          ],
          [
           "https://www.511tactical.com/de-de/rush72-2-0-backpack.html"
          ],
          [
           "https://www.511tactical.com/footwear/norris-sneaker-collection.html"
          ],
          [
           "https://www.511tactical.com/rush100.html"
          ],
          [
           "https://www.511tactical.com/community/brief-history/"
          ],
          [
           "https://www.511tactical.com/eu-en/rush12-2-0-backpack.html"
          ],
          [
           "https://www.511tactical.com/covrt18-2-0.html"
          ],
          [
           "https://www.511tactical.com/high-abrasion-2-0-glove.html"
          ],
          [
           "https://www.511tactical.com/braxton-jacket.html"
          ],
          [
           "https://www.511tactical.com/rush-lbd-lima.html"
          ],
          [
           "https://www.511tactical.com/eu-en/fast-tac-12-backpack.html"
          ],
          [
           "https://www.511tactical.com/newark-de-19702"
          ],
          [
           "https://www.511tactical.com/511-at-mid-boot-black.html"
          ],
          [
           "https://www.511tactical.com/se-en/speed-3-coyote-rapiddry-boot.html"
          ],
          [
           "https://www.511tactical.com/flex-tacmed-pouch.html"
          ],
          [
           "https://www.511tactical.com/5-11-bristol-parka.html"
          ],
          [
           "https://www.511tactical.com/dart-pack.html"
          ],
          [
           "https://locator.511tactical.com/"
          ],
          [
           "https://www.511tactical.com/honolulu-hi-96817"
          ],
          [
           "https://www.511tactical.com/au-en/amp24.html"
          ],
          [
           "https://www.511tactical.com/all-missions-rig.html"
          ],
          [
           "https://www.511tactical.com/au-en/apex-pant.html"
          ],
          [
           "https://www.511tactical.com/de-de/skyweight-utility-chest-pack.html"
          ],
          [
           "https://www.511tactical.com/response-jacket.html"
          ],
          [
           "https://www.511tactical.com/eu-en/united-arab-emirates-flag-patch.html"
          ],
          [
           "https://www.511tactical.com/overwatch-messenger.html"
          ],
          [
           "https://www.511tactical.com/5-11-a-t-6-non-zip.html"
          ],
          [
           "https://www.511tactical.com/carson-ca-90746"
          ],
          [
           "https://www.511tactical.com/indianapolis-in-46250"
          ],
          [
           "https://www.511tactical.com/operator-belt-1-34-wide.html"
          ],
          [
           "https://www.511tactical.com/thornton-co-80023"
          ],
          [
           "https://www.511tactical.com/hexgrid-9x9-gear-set.html"
          ],
          [
           "https://www.511tactical.com/de-de/mens/mens-outerwear.html"
          ],
          [
           "https://www.511tactical.com/rush-lbd-xray.html"
          ],
          [
           "https://www.511tactical.com/de-de/rush-packs.html"
          ],
          [
           "https://www.511tactical.com/mens/mens-shirts/mens-tdu-shirts.html"
          ],
          [
           "https://www.511tactical.com/tualatin-or-97062"
          ],
          [
           "https://www.511tactical.com/san-diego-ca-92108"
          ],
          [
           "https://www.511tactical.com/se-en/response-xr-charger-kit.html"
          ],
          [
           "https://www.511tactical.com/fbop"
          ],
          [
           "https://www.511tactical.com/columbus-oh-43219"
          ],
          [
           "https://www.511tactical.com/jacksonville-fl-32246"
          ],
          [
           "https://www.511tactical.com/costa-mesa-ca-92626"
          ],
          [
           "https://www.511tactical.com/atac-2-0-6-sidezip-boot.html"
          ],
          [
           "https://www.511tactical.com/5-11-valiant-duty-jacket.html"
          ],
          [
           "https://www.511tactical.com/fairfax-va-22033"
          ],
          [
           "https://www.511tactical.com/water-repellent-job-shirt-2-0.html"
          ],
          [
           "https://www.511tactical.com/de-de/accessories/gear/tactical-patches.html"
          ],
          [
           "https://www.511tactical.com/mens/bags-packs/backpacks.html"
          ],
          [
           "https://www.511tactical.com/brokos-vtac-belt.html"
          ],
          [
           "https://www.511tactical.com/au-en/5-11-boonie-hat.html"
          ],
          [
           "https://www.511tactical.com/third-party-website-resale-policy"
          ],
          [
           "https://www.511tactical.com/reno-nv-89511"
          ],
          [
           "https://www.511tactical.com/stryke-shirt-long-sleeve.html"
          ],
          [
           "https://www.511tactical.com/elas-tac-belt.html"
          ],
          [
           "https://www.511tactical.com/3-in-1-parka-2-0.html"
          ],
          [
           "https://www.511tactical.com/coalition-pant.html"
          ],
          [
           "https://www.511tactical.com/5-11-a-t-8-arid.html"
          ],
          [
           "https://www.511tactical.com/lv8-sling-pack.html"
          ],
          [
           "https://www.511tactical.com/upland-ca-91786"
          ],
          [
           "https://www.511tactical.com/geo7"
          ],
          [
           "https://www.511tactical.com/atac-boots.html"
          ],
          [
           "https://www.511tactical.com/double-duty-jacket.html"
          ],
          [
           "https://www.511tactical.com/digital-gift-card.html"
          ],
          [
           "https://www.511tactical.com/salt-lake-city-ut-84115"
          ],
          [
           "https://www.511tactical.com/skyweight-36l-pack.html"
          ],
          [
           "https://www.511tactical.com/soms-3-0.html"
          ],
          [
           "https://www.511tactical.com/wingman-patrol-bag.html"
          ],
          [
           "https://www.511tactical.com/rapid-sling-pack.html"
          ],
          [
           "https://www.511tactical.com/katy-tx-77449"
          ],
          [
           "https://www.511tactical.com/kennesaw-ga-30144"
          ],
          [
           "https://www.511tactical.com/covert-flannel-shirt-2.html"
          ],
          [
           "https://www.511tactical.com/rockville-md-20852"
          ],
          [
           "https://www.511tactical.com/se-en/lv6-waist-pack-2-0.html"
          ],
          [
           "https://www.511tactical.com/skyweight-collection"
          ],
          [
           "https://www.511tactical.com/511-tactical-shirt-long-sleeve.html"
          ],
          [
           "https://www.511tactical.com/mens-pdu-class-b-twill-cargo-pant.html"
          ],
          [
           "https://www.511tactical.com/thewoodlands-tx-77385"
          ],
          [
           "https://www.511tactical.com/paramus-nj-07652"
          ],
          [
           "https://www.511tactical.com/all-missions-packs"
          ],
          [
           "https://www.511tactical.com/cams-3-0.html"
          ],
          [
           "https://www.511tactical.com/defender-flex-urban-pant.html"
          ],
          [
           "https://www.511tactical.com/pouch-bungee-kit.html"
          ],
          [
           "https://www.511tactical.com/thank-you"
          ],
          [
           "https://www.511tactical.com/acadia-down-jacket.html"
          ],
          [
           "https://www.511tactical.com/west-palm-beach-fl-33409"
          ],
          [
           "https://www.511tactical.com/sacramento-ca-95841"
          ],
          [
           "https://www.511tactical.com/daily-deploy-48-pack.html"
          ],
          [
           "https://www.511tactical.com/mens/mens-pants/mens-tactical-pants.html"
          ],
          [
           "https://www.511tactical.com/lv10-utility-med-sling-pack.html"
          ],
          [
           "https://www.511tactical.com/richfield-mn-55423"
          ],
          [
           "https://www.511tactical.com/tulsa-ok-74133"
          ],
          [
           "https://www.511tactical.com/fort-worth-tx-76177"
          ],
          [
           "https://www.511tactical.com/lv-covert-carry-pack.html"
          ],
          [
           "https://www.511tactical.com/blog/tactical-watches-you-can-depend-on/"
          ],
          [
           "https://www.511tactical.com/flag-bearer-cap.html"
          ],
          [
           "https://www.511tactical.com/st-louis-mo-63301"
          ],
          [
           "https://www.511tactical.com/reviews"
          ],
          [
           "https://www.511tactical.com/shella-pant.html"
          ],
          [
           "https://www.511tactical.com/tdu-shirt-long-sleeve-ripstop.html"
          ],
          [
           "https://www.511tactical.com/ryker-dp-full.html"
          ],
          [
           "https://www.511tactical.com/responder-hi-vis-parka-2-0.html"
          ],
          [
           "https://www.511tactical.com/au-en/rush-packs.html"
          ],
          [
           "https://www.511tactical.com/schaumburg-il-60173"
          ],
          [
           "https://www.511tactical.com/pittsburgh-pa-15237"
          ],
          [
           "https://www.511tactical.com/de-en/speed-3-coyote-rapiddry-boot.html"
          ],
          [
           "https://www.511tactical.com/daily-deploy-push-pack.html"
          ],
          [
           "https://www.511tactical.com/austin-tx-78745"
          ],
          [
           "https://www.511tactical.com/all-hazards-prime-backpack.html"
          ],
          [
           "https://www.511tactical.com/elk-grove-ca-95832"
          ],
          [
           "https://www.511tactical.com/norris-sneaker-35.html"
          ],
          [
           "https://www.511tactical.com/au-en/accessories/apparel/headwear.html"
          ],
          [
           "https://www.511tactical.com/blog/tactec-plate-carrier-tactical-vest-how-to-adjust-w-andy-stumpf/"
          ],
          [
           "https://www.511tactical.com/reacher.html"
          ],
          [
           "https://www.511tactical.com/rush-moab-6.html"
          ],
          [
           "https://www.511tactical.com/lv6.html"
          ],
          [
           "https://www.511tactical.com/company-3-boot.html"
          ],
          [
           "https://www.511tactical.com/se-en/locations"
          ],
          [
           "https://www.511tactical.com/rapid-l2.html"
          ],
          [
           "https://www.511tactical.com/tac-dry-rain-shell-2-0.html"
          ],
          [
           "https://www.511tactical.com/alamo-ranch-tx-78253"
          ],
          [
           "https://www.511tactical.com/highlands-ranch-co-80126"
          ],
          [
           "https://www.511tactical.com/maverick-battle-belt-multicam.html"
          ],
          [
           "https://www.511tactical.com/virginia-beach-va-23452"
          ],
          [
           "https://www.511tactical.com/company-info/corporate"
          ],
          [
           "https://www.511tactical.com/footwear/tactical-shoes/dress-shoes.html"
          ],
          [
           "https://www.511tactical.com/au-en/accessories/gear/patches.html"
          ],
          [
           "https://www.511tactical.com/accessories.html"
          ],
          [
           "https://www.511tactical.com/mp5-bungeecover-double.html"
          ],
          [
           "https://www.511tactical.com/giftcards/balance/check"
          ],
          [
           "https://www.511tactical.com/atac-2-0-6-boot.html"
          ],
          [
           "https://www.511tactical.com/giftguide"
          ],
          [
           "https://www.511tactical.com/lv-m4-shorty.html"
          ],
          [
           "https://www.511tactical.com/de-en/locations"
          ],
          [
           "https://www.511tactical.com/au-en/rush100.html"
          ],
          [
           "https://www.511tactical.com/fenton-mo-63026"
          ],
          [
           "https://www.511tactical.com/flex-admin-pouch.html"
          ],
          [
           "https://www.511tactical.com/eu-en/locations"
          ],
          [
           "https://www.511tactical.com/defender-flex-collection-all.html"
          ],
          [
           "https://www.511tactical.com/albuquerque-nm-87110"
          ],
          [
           "https://www.511tactical.com/rapid-quad-zip-pack.html"
          ],
          [
           "https://www.511tactical.com/atac-2-0-8-storm-boot.html"
          ],
          [
           "https://www.511tactical.com/range-ready-trainer-bag.html"
          ],
          [
           "https://www.511tactical.com/se-en/take-care-of-your-gear"
          ],
          [
           "https://www.511tactical.com/spokane-wa-99212"
          ],
          [
           "https://www.511tactical.com/stryke-pdu-cargo-pants-b-class.html"
          ],
          [
           "https://www.511tactical.com/oceanside-ca-92056"
          ],
          [
           "https://www.511tactical.com/houston-tx-77057"
          ],
          [
           "https://www.511tactical.com/tactical-fleece-2-0.html"
          ],
          [
           "https://www.511tactical.com/fresno-ca-93722"
          ],
          [
           "https://www.511tactical.com/community/plate-carrier-vs-chest-rig-whats-the-difference/"
          ],
          [
           "https://www.511tactical.com/braddock-dp-mini.html"
          ],
          [
           "https://www.511tactical.com/defender-flex-straight-jean.html"
          ],
          [
           "https://www.511tactical.com/de-en/rush24-2-0-backpack.html"
          ],
          [
           "https://www.511tactical.com/eu-en/tac-tec-plate-carrier.html"
          ],
          [
           "https://www.511tactical.com/eu-en/rush-delivery-xray.html"
          ],
          [
           "https://www.511tactical.com/de-en/take-care-of-your-gear"
          ],
          [
           "https://www.511tactical.com/eu-en/quantum-tems-pant.html"
          ],
          [
           "https://www.511tactical.com/rush72-2-0-mc-backpack.html"
          ],
          [
           "https://www.511tactical.com/womens/womens-outerwear.html"
          ],
          [
           "https://www.511tactical.com/chameleon-softshell-jacket.html"
          ],
          [
           "https://www.511tactical.com/au-en/bags-packs/pouches.html"
          ],
          [
           "https://www.511tactical.com/511-tactical-pants-mens-cotton.html"
          ],
          [
           "https://www.511tactical.com/lv6-waist-pack-2-0.html"
          ],
          [
           "https://www.511tactical.com/meridian-pant.html"
          ],
          [
           "https://www.511tactical.com/de-de/accessories/training-equipment/training-vests.html"
          ],
          [
           "https://www.511tactical.com/tac-ready-sling-pack.html"
          ],
          [
           "https://www.511tactical.com/watch-jacket.html"
          ],
          [
           "https://www.511tactical.com/5-11-a-t-8-waterproof-boot.html"
          ],
          [
           "https://www.511tactical.com/pt-r-dopp-kit.html"
          ],
          [
           "https://www.511tactical.com/riverside-ca-92503"
          ],
          [
           "https://www.511tactical.com/community/5-11-announces-the-return-of-abr-academy-classes-for-2023-in-collaboration-with-uscca/"
          ],
          [
           "https://www.511tactical.com/las-vegas-nv-89103"
          ],
          [
           "https://www.511tactical.com/eu-en/rush-delivery-lima.html"
          ],
          [
           "https://www.511tactical.com/new.html"
          ],
          [
           "https://www.511tactical.com/molle-packable-sling-pack.html"
          ],
          [
           "https://www.511tactical.com/rush"
          ],
          [
           "https://www.511tactical.com/doug-marcaida-talon-fixed-raid.html"
          ],
          [
           "http://www.511tactical.com/"
          ],
          [
           "https://www.511tactical.com/job-shirt-1-4-zip-2-0.html"
          ],
          [
           "https://www.511tactical.com/evo-2-0-8-sz.html"
          ],
          [
           "https://www.511tactical.com/carle-place-ny-11514"
          ],
          [
           "https://www.511tactical.com/rope-k-glove.html"
          ],
          [
           "https://www.511tactical.com/rush12-2-0-mc-backpack.html"
          ],
          [
           "https://www.511tactical.com/rapid-pl-1aa.html"
          ],
          [
           "https://www.511tactical.com/taclite-ems-pant.html"
          ],
          [
           "https://www.511tactical.com/detroit-mi-48315"
          ],
          [
           "https://www.511tactical.com/cincinnati-oh-45236"
          ],
          [
           "https://www.511tactical.com/atac-2-0-8-boot.html"
          ],
          [
           "https://www.511tactical.com/mens-ls-pdu-rapid-shirt.html"
          ],
          [
           "https://www.511tactical.com/basic-patrol-bag.html"
          ],
          [
           "https://www.511tactical.com/community/event_type/sweepstakes/"
          ],
          [
           "https://www.511tactical.com/rush-moab-10.html"
          ],
          [
           "https://www.511tactical.com/salem-or-97301"
          ],
          [
           "https://www.511tactical.com/se-en/outlet/mens.html"
          ],
          [
           "https://www.511tactical.com/xprt-3-waterproof-6-boot.html"
          ],
          [
           "https://www.511tactical.com/giftguide-him"
          ],
          [
           "https://www.511tactical.com/au-en/mens/mens-shirts.html"
          ],
          [
           "https://www.511tactical.com/womens-apex-pant.html"
          ],
          [
           "https://www.511tactical.com/de-de/tactec-trainer-weight-vest.html"
          ],
          [
           "https://www.511tactical.com/sugar-land-tx-77479"
          ],
          [
           "https://www.511tactical.com/humble-tx-77338"
          ],
          [
           "https://www.511tactical.com/rush72-2-0-backpack.html"
          ],
          [
           "https://www.511tactical.com/au-en/accessories/apparel/belts.html"
          ],
          [
           "https://www.511tactical.com/fast-tac-8-boot.html"
          ],
          [
           "https://www.511tactical.com/first-responder-high-vis-jacket.html"
          ],
          [
           "https://www.511tactical.com/tactec-trainer-weight-vest-2.html"
          ],
          [
           "https://www.511tactical.com/au-en/maverick-battle-belt.html"
          ],
          [
           "https://www.511tactical.com/lv10-sling-pack-2-0.html"
          ],
          [
           "https://www.511tactical.com/convoy-dopp-kit.html"
          ],
          [
           "https://www.511tactical.com/side-trip-briefcase.html"
          ],
          [
           "https://www.511tactical.com/operator-als-backpack.html"
          ],
          [
           "https://www.511tactical.com/4-in-1-patrol-jacket-2-0.html"
          ],
          [
           "https://www.511tactical.com/orlando-fl-32828"
          ],
          [
           "https://www.511tactical.com/independence-mo-64057"
          ],
          [
           "https://www.511tactical.com/norris-low.html"
          ],
          [
           "https://www.511tactical.com/burlington-nc-27215"
          ],
          [
           "https://www.511tactical.com/tac-tec-plate-carrier-s-2.html"
          ],
          [
           "https://www.511tactical.com/company-3-ctt-boot.html"
          ],
          [
           "https://www.511tactical.com/au-en/patrol-ready.html"
          ],
          [
           "https://www.511tactical.com/qr-plate-carrier.html"
          ],
          [
           "https://www.511tactical.com/community/5-11-tactical-announces-new-products-for-2023/"
          ],
          [
           "https://www.511tactical.com/rush-lbd-mike.html"
          ],
          [
           "https://www.511tactical.com/"
          ],
          [
           "https://www.511tactical.com/lv-m4.html"
          ],
          [
           "https://www.511tactical.com/stryke-pdu.html"
          ],
          [
           "https://www.511tactical.com/harker-heights-tx-76548"
          ],
          [
           "https://www.511tactical.com/abr-plate-carrier.html"
          ],
          [
           "https://www.511tactical.com/division-digital.html"
          ],
          [
           "https://www.511tactical.com/lubbock-tx-79407"
          ],
          [
           "https://www.511tactical.com/28-single-rifle-case.html"
          ],
          [
           "https://www.511tactical.com/2023-advent-calendar.html"
          ],
          [
           "https://www.511tactical.com/511-at-8-side-zip-boot.html"
          ],
          [
           "https://www.511tactical.com/inga-overalls.html"
          ],
          [
           "https://www.511tactical.com/tucson-az-85705"
          ],
          [
           "https://www.511tactical.com/colorado-springs-co-80919"
          ],
          [
           "https://www.511tactical.com/511-stryke-shirt-short-sleeve.html"
          ],
          [
           "https://www.511tactical.com/miami-fl-33178"
          ],
          [
           "https://www.511tactical.com/stryke-pdu-pants-a-class.html"
          ],
          [
           "https://www.511tactical.com/sierra-softshell.html"
          ],
          [
           "https://www.511tactical.com/public-safety/law-enforcement/accessories/le-knives.html"
          ],
          [
           "https://www.511tactical.com/alpharetta-ga-30022"
          ],
          [
           "https://www.511tactical.com/kissimmee-fl-34741"
          ],
          [
           "https://www.511tactical.com/bags-packs/bags.html"
          ],
          [
           "https://www.511tactical.com/atac-2-0-6-desert-side-zip-boot.html"
          ],
          [
           "https://www.511tactical.com/rush-moab-8.html"
          ],
          [
           "https://www.511tactical.com/admin-gear-set.html"
          ],
          [
           "https://www.511tactical.com/charlotte-nc-28273"
          ],
          [
           "https://www.511tactical.com/light-bar-1.html"
          ],
          [
           "https://www.511tactical.com/emergency-ready-bag.html"
          ],
          [
           "https://www.511tactical.com/mission-briefs-collection.html"
          ],
          [
           "https://www.511tactical.com/how-does-molle-work"
          ],
          [
           "https://www.511tactical.com/au-en/tac-tec-plate-carrier.html"
          ],
          [
           "https://www.511tactical.com/sale-2"
          ],
          [
           "https://www.511tactical.com/chameleon-softshell-jacket-2-0.html"
          ],
          [
           "https://www.511tactical.com/covert-box-messenger-ws.html"
          ],
          [
           "https://www.511tactical.com/womens-stryke-ems-pant.html"
          ],
          [
           "https://www.511tactical.com/9-sock-3-pack.html"
          ],
          [
           "https://www.511tactical.com/internal-kneepad-2-0.html"
          ],
          [
           "https://www.511tactical.com/legion-scarf.html"
          ],
          [
           "https://www.511tactical.com/se-en/bags-packs/backpacks-bags/slingpacks.html"
          ],
          [
           "https://www.511tactical.com/bravo-pant-2-0.html"
          ],
          [
           "https://www.511tactical.com/speed-3-0-waterproof-boot.html"
          ],
          [
           "https://www.511tactical.com/pathfinder.html"
          ],
          [
           "https://www.511tactical.com/multicam-tdu-pant.html"
          ],
          [
           "https://www.511tactical.com/cloudstryke"
          ],
          [
           "https://www.511tactical.com/womens-ems-pant.html"
          ],
          [
           "https://www.511tactical.com/taclite-pro-long-sleeve-shirt.html"
          ],
          [
           "https://www.511tactical.com/se-en/rush-delivery-lima.html"
          ],
          [
           "https://www.511tactical.com/helios-polo.html"
          ],
          [
           "https://www.511tactical.com/mens-ems-pant.html"
          ],
          [
           "https://www.511tactical.com/how-to-pack-a-range-bag"
          ],
          [
           "https://www.511tactical.com/technology"
          ],
          [
           "https://www.511tactical.com/au-en/how-does-molle-work"
          ],
          [
           "https://www.511tactical.com/ss-utility-polo.html"
          ],
          [
           "https://www.511tactical.com/au-en/range-ready-bag.html"
          ],
          [
           "https://www.511tactical.com/holster-shirt.html"
          ],
          [
           "https://www.511tactical.com/public-safety/fire-ems/fire-ems-uniforms/ems-pants.html"
          ],
          [
           "https://www.511tactical.com/utility-job-shirt.html"
          ],
          [
           "https://www.511tactical.com/plano-tx-75075"
          ],
          [
           "https://www.511tactical.com/prime-plate-carrier.html"
          ],
          [
           "https://www.511tactical.com/bags-packs/pouches-and-attachments/flex-pouches.html"
          ],
          [
           "https://www.511tactical.com/defender-flex-slim-pant-2-0.html"
          ],
          [
           "https://www.511tactical.com/stratos-1-4-zip.html"
          ],
          [
           "https://www.511tactical.com/urban-fast-tac.html"
          ],
          [
           "https://www.511tactical.com/xprt-tactical-pant.html"
          ],
          [
           "https://www.511tactical.com/2-banger-gear-set.html"
          ],
          [
           "https://www.511tactical.com/flex-tac-tdu-rapid-long-sleeve-shirt.html"
          ],
          [
           "https://www.511tactical.com/response-xr1.html"
          ],
          [
           "https://www.511tactical.com/double-duty-tdu-belt-1-5.html"
          ],
          [
           "https://www.511tactical.com/lv-family.html"
          ],
          [
           "https://www.511tactical.com/mens/footwear/shoes.html"
          ],
          [
           "https://www.511tactical.com/511pants"
          ],
          [
           "https://www.511tactical.com/wm-stryke-pant.html"
          ],
          [
           "https://www.511tactical.com/mens/mens-pants.html"
          ],
          [
           "https://www.511tactical.com/tdu-pants-ripstop.html"
          ],
          [
           "https://www.511tactical.com/flex-tac-collection.html"
          ],
          [
           "https://www.511tactical.com/sb-gas-mace-pouch.html"
          ],
          [
           "https://www.511tactical.com/drop-down-utility-pouch.html"
          ],
          [
           "https://www.511tactical.com/sabre-2-jacket.html"
          ],
          [
           "https://www.511tactical.com/eu-en/speed-3-coyote-sidezip-boot.html"
          ],
          [
           "https://www.511tactical.com/covert-vest.html"
          ],
          [
           "https://www.511tactical.com/xprt-collection.html"
          ],
          [
           "https://www.511tactical.com/a-t-a-c-reg-2-0-6-shield-boot.html"
          ],
          [
           "https://www.511tactical.com/eu-en/accessories/apparel/belts.html"
          ],
          [
           "https://www.511tactical.com/birmingham-al-35244"
          ],
          [
           "https://www.511tactical.com/bags-packs/bags/range-bags.html"
          ],
          [
           "https://www.511tactical.com/taclite-pro-vest.html"
          ],
          [
           "https://www.511tactical.com/how-to-choose-tactical-boots"
          ],
          [
           "https://www.511tactical.com/sales-rep-listing"
          ],
          [
           "https://www.511tactical.com/de-de/accessories/apparel/belts.html"
          ],
          [
           "https://www.511tactical.com/trauma-shears.html"
          ],
          [
           "https://www.511tactical.com/5-11-a-t-6-sz.html"
          ],
          [
           "https://www.511tactical.com/au-en/footwear/boots.html"
          ],
          [
           "https://www.511tactical.com/se-en/customer-service/size-charts-metric"
          ],
          [
           "https://www.511tactical.com/traverse-pant-2-0.html"
          ],
          [
           "https://www.511tactical.com/footwear.html"
          ],
          [
           "https://www.511tactical.com/v-xi-xtu-rapid-long-sleeve-shirt.html"
          ],
          [
           "https://www.511tactical.com/huntsville-al-35801"
          ],
          [
           "https://www.511tactical.com/memphis-tn-38133"
          ],
          [
           "https://www.511tactical.com/daily-deploy-24-pack.html"
          ],
          [
           "https://www.511tactical.com/511-at-8-non-zip-boot.html"
          ],
          [
           "https://www.511tactical.com/footwear/tactical-shoes/sneakers.html"
          ],
          [
           "https://www.511tactical.com/amp"
          ],
          [
           "https://www.511tactical.com/66-pouch.html"
          ],
          [
           "https://www.511tactical.com/eu-en/bags-packs/backpacks-bags/slingpacks.html"
          ],
          [
           "https://www.511tactical.com/nashville-tn-37215"
          ],
          [
           "https://www.511tactical.com/duty-rain-pant.html"
          ],
          [
           "https://www.511tactical.com/511-at-mid-boot.html"
          ],
          [
           "https://www.511tactical.com/company-info/careers"
          ],
          [
           "https://www.511tactical.com/atac-2-8-shield-boot.html"
          ],
          [
           "https://www.511tactical.com/flex-shotgun-bandolier.html"
          ],
          [
           "https://www.511tactical.com/caldus-insulated-glove.html"
          ],
          [
           "https://www.511tactical.com/radar-packable-jacket.html"
          ],
          [
           "https://www.511tactical.com/faq"
          ],
          [
           "https://www.511tactical.com/sierra-bravo-duty-belt-plus-2-25.html"
          ],
          [
           "https://www.511tactical.com/es-en/gearbattle-apex-vs-stryke"
          ],
          [
           "https://www.511tactical.com/spire-pant.html"
          ],
          [
           "https://www.511tactical.com/quest-pant.html"
          ],
          [
           "https://www.511tactical.com/eu-en/accessories/apparel/gloves.html"
          ],
          [
           "https://www.511tactical.com/molle-packable-backpack.html"
          ],
          [
           "https://www.511tactical.com/doug-marcaida-talon-folder.html"
          ],
          [
           "https://www.511tactical.com/public-safety/fire-ems/fire-ems-uniforms/fire-ems-jackets.html"
          ],
          [
           "https://www.511tactical.com/patrol-ready.html"
          ],
          [
           "https://www.511tactical.com/hard-times-glove.html"
          ],
          [
           "https://www.511tactical.com/phoenix-az-85016"
          ],
          [
           "https://www.511tactical.com/vtac-lbe-tactical-vest.html"
          ],
          [
           "https://www.511tactical.com/au-en/bags-packs/backpacks-bags/luggage.html"
          ],
          [
           "https://www.511tactical.com/community/reacher-season-2/"
          ],
          [
           "https://www.511tactical.com/community/what-is-a-gray-man/"
          ],
          [
           "https://www.511tactical.com/rapid-ops-shirt.html"
          ],
          [
           "https://www.511tactical.com/richmond-va-23225"
          ],
          [
           "https://www.511tactical.com/stratos-full-zip.html"
          ],
          [
           "https://www.511tactical.com/oklahoma-city-ok-73134"
          ],
          [
           "https://www.511tactical.com/business-ready-benefits-of-casual-tactical-wear"
          ],
          [
           "https://www.511tactical.com/daytona-beach-fl-32117"
          ],
          [
           "https://www.511tactical.com/5-11-a-t-mid-waterproof-boot.html"
          ],
          [
           "https://www.511tactical.com/se-en/tactec-plate-carrier"
          ],
          [
           "https://www.511tactical.com/it-en/select-carry-sling-pack.html"
          ],
          [
           "https://www.511tactical.com/become-a-dealer"
          ],
          [
           "https://www.511tactical.com/holiday-gift-guide/gifts-for-everyday-carry.html"
          ],
          [
           "https://www.511tactical.com/6-boot-vs-8-boot-which-boot-is-best-for-your-job"
          ],
          [
           "https://www.511tactical.com/mens/mens-outerwear/mens-concealed-carry-jackets.html"
          ],
          [
           "https://www.511tactical.com/knee-pad-ready-pants.html"
          ],
          [
           "https://www.511tactical.com/how-to-clean-a-plate-carrier"
          ],
          [
           "https://www.511tactical.com/norris-sneaker.html"
          ],
          [
           "https://www.511tactical.com/blog/top-workout-exercises-for-police-officers/"
          ],
          [
           "https://www.511tactical.com/tdu-belt-15-plastic-buckle.html"
          ],
          [
           "https://www.511tactical.com/le-emt-multitool-2-0.html"
          ],
          [
           "https://www.511tactical.com/benchmade-bailout-tanto-reg.html"
          ],
          [
           "https://www.511tactical.com/511-tactical-pant-womens.html"
          ],
          [
           "https://www.511tactical.com/womens-icon-pant.html"
          ],
          [
           "https://www.511tactical.com/de-de/apex-pant.html"
          ],
          [
           "https://www.511tactical.com/de-de/store-locator"
          ],
          [
           "https://www.511tactical.com/short-pump-va-23060"
          ],
          [
           "https://www.511tactical.com/capital-pant.html"
          ],
          [
           "https://www.511tactical.com/defender-flex-range-pant.html"
          ],
          [
           "https://www.511tactical.com/mens-pdu-short-sleeve-twill-class-b-shirt.html"
          ],
          [
           "https://www.511tactical.com/mens/bags-packs.html"
          ],
          [
           "https://www.511tactical.com/public-safety.html"
          ],
          [
           "https://www.511tactical.com/backpacks"
          ],
          [
           "https://www.511tactical.com/skyweight-survival-chest-pack.html"
          ],
          [
           "https://www.511tactical.com/eu-en/customer-service/size-charts-metric"
          ],
          [
           "https://www.511tactical.com/competition-shooting-2-0-glove.html"
          ],
          [
           "https://www.511tactical.com/atac-2-0-8-desert-boot.html"
          ],
          [
           "https://www.511tactical.com/multicam-reg-flex-double-pistol-mag-pouch-2-0.html"
          ],
          [
           "https://www.511tactical.com/eu-en/select-carry-sling-pack.html"
          ],
          [
           "https://www.511tactical.com/public-safety/law-enforcement/uniforms/le-class-a-uniforms.html"
          ],
          [
           "https://www.511tactical.com/mens-pdu-long-sleeve-twill-class-a-shirt.html"
          ],
          [
           "https://www.511tactical.com/next-level-uniform"
          ],
          [
           "https://www.511tactical.com/fast-tac-reg-vest.html"
          ],
          [
           "https://www.511tactical.com/h2o-carrier.html"
          ],
          [
           "https://www.511tactical.com/de-de/mission-ready-3-0.html"
          ],
          [
           "https://www.511tactical.com/esc-rescue-knife.html"
          ],
          [
           "https://www.511tactical.com/eu-en/bags-packs/pouches.html"
          ],
          [
           "https://www.511tactical.com/5-11-a-t-8-hd.html"
          ],
          [
           "https://www.511tactical.com/mens-tactical-shirts.html"
          ],
          [
           "https://www.511tactical.com/edc-pl-2aaa.html"
          ],
          [
           "https://www.511tactical.com/professional-polo-short-sleeve.html"
          ],
          [
           "https://www.511tactical.com/edge-chino-slim.html"
          ],
          [
           "https://www.511tactical.com/blog/what-is-multicam-camo/"
          ],
          [
           "https://www.511tactical.com/tactec-plate-carrier-mc.html"
          ],
          [
           "https://www.511tactical.com/511-tactical-vest.html"
          ],
          [
           "https://www.511tactical.com/de-de/lv6-waist-pack-2-0.html"
          ],
          [
           "https://www.511tactical.com/customer-service/help-center"
          ],
          [
           "https://www.511tactical.com/overland-park-ks-66213"
          ],
          [
           "https://www.511tactical.com/exos-rain-shell.html"
          ],
          [
           "https://www.511tactical.com/3-in-1-reversible-high-vis-parka.html"
          ],
          [
           "https://www.511tactical.com/taclite-ems-pant-womens.html"
          ],
          [
           "https://www.511tactical.com/covrt-small-insert.html"
          ],
          [
           "https://www.511tactical.com/arms-full-zip-jacket.html"
          ],
          [
           "https://www.511tactical.com/footwear/sa.html"
          ],
          [
           "https://www.511tactical.com/rush-belt-kit.html"
          ],
          [
           "https://www.511tactical.com/de-de/customer-service/size-charts"
          ],
          [
           "https://www.511tactical.com/evo-8-waterproof-side-zip.html"
          ],
          [
           "https://www.511tactical.com/fort-bliss-tx-79906"
          ],
          [
           "https://www.511tactical.com/abr/cold.html"
          ],
          [
           "https://www.511tactical.com/commando-kilt.html"
          ],
          [
           "https://www.511tactical.com/rush24-2-0-backpack.html"
          ],
          [
           "https://www.511tactical.com/halo-neck-gaiter.html"
          ],
          [
           "https://www.511tactical.com/select-carry-pistol-pouch.html"
          ],
          [
           "https://www.511tactical.com/bags-packs/sa.html"
          ],
          [
           "https://www.511tactical.com/range-ready-bag.html"
          ],
          [
           "https://www.511tactical.com/how-to-wash-tactical-pants"
          ],
          [
           "https://www.511tactical.com/public-safety/fire-ems/fire-ems-boots.html"
          ],
          [
           "https://www.511tactical.com/rush12-2-0-backpack.html"
          ],
          [
           "https://www.511tactical.com/catalog-request-success"
          ],
          [
           "https://www.511tactical.com/duty-rain-shell.html"
          ],
          [
           "https://www.511tactical.com/field-watch-2-0.html"
          ],
          [
           "https://www.511tactical.com/taclite-pro-short-sleeve-shirt.html"
          ],
          [
           "https://www.511tactical.com/5-11-valiant-softshell-jacket.html"
          ],
          [
           "https://www.511tactical.com/all-missions-system.html"
          ],
          [
           "https://www.511tactical.com/stryke-ems-pant.html"
          ],
          [
           "https://www.511tactical.com/watch-cap.html"
          ],
          [
           "https://www.511tactical.com/benchmade-bugout-reg.html"
          ],
          [
           "https://www.511tactical.com/accessories/every-day-carry/wallets.html"
          ],
          [
           "https://www.511tactical.com/skyweight-hip-belt.html"
          ],
          [
           "https://www.511tactical.com/flex-drop-pouch-2-0.html"
          ],
          [
           "https://www.511tactical.com/mens/mens-shirts/mens-concealed-carry-shirts.html"
          ],
          [
           "https://www.511tactical.com/rush-tier-system"
          ],
          [
           "https://www.511tactical.com/public-safety/law-enforcement/le-boots.html"
          ],
          [
           "https://www.511tactical.com/esc-rescue-tool.html"
          ],
          [
           "https://www.511tactical.com/blaze-wrap.html"
          ],
          [
           "https://www.511tactical.com/steel-jacket-multitool-wallet-2-0.html"
          ],
          [
           "https://www.511tactical.com/all-missions-system/gear-sets.html"
          ],
          [
           "https://www.511tactical.com/de-de/bags-packs/pouches.html"
          ],
          [
           "https://www.511tactical.com/how-to-assemble-a-molle-pack-with-attachments"
          ],
          [
           "https://www.511tactical.com/waterproof-rapid-ops-shirt.html"
          ],
          [
           "https://www.511tactical.com/peacemaker-tomahawk.html"
          ],
          [
           "https://www.511tactical.com/public-safety/plate-carriers.html"
          ],
          [
           "https://www.511tactical.com/apex-waterproof-8-boot.html"
          ],
          [
           "https://www.511tactical.com/lexington-ky-40509"
          ],
          [
           "https://www.511tactical.com/skyweight-utility-chest-pack.html"
          ],
          [
           "https://www.511tactical.com/eldo-rt-pack.html"
          ],
          [
           "https://www.511tactical.com/de-de/rush-moab-10.html"
          ],
          [
           "https://www.511tactical.com/public-safety/law-enforcement/uniforms/le-class-b-uniforms.html"
          ],
          [
           "https://www.511tactical.com/eu-en/kubaton-tactical-pen.html"
          ],
          [
           "https://www.511tactical.com/farcry5.html"
          ],
          [
           "https://www.511tactical.com/au-en/hrt-titanium-watch.html"
          ],
          [
           "https://www.511tactical.com/tacdry-rain-shell.html"
          ],
          [
           "https://www.511tactical.com/load-up-22-carry-on.html"
          ],
          [
           "https://www.511tactical.com/mystery-aliens-s2-pack.html"
          ],
          [
           "https://www.511tactical.com/community/introduction-to-tactical-backpacks/"
          ],
          [
           "https://www.511tactical.com/defender-flex-evolve-jean-straight.html"
          ],
          [
           "https://www.511tactical.com/govx"
          ],
          [
           "https://www.511tactical.com/concealed-carry.html"
          ],
          [
           "https://www.511tactical.com/womens-atac-2-0-8-side-zip-boot.html"
          ],
          [
           "https://www.511tactical.com/customer-service/contact"
          ],
          [
           "https://www.511tactical.com/trackorder"
          ],
          [
           "https://www.511tactical.com/taclite-pro-pant-womens.html"
          ],
          [
           "https://www.511tactical.com/speed-4-0-8-sz-boot.html"
          ],
          [
           "https://www.511tactical.com/maverick-battle-belt.html"
          ],
          [
           "https://www.511tactical.com/flex-loop-panel.html"
          ],
          [
           "https://www.511tactical.com/public-safety/fire-ems/fire-ems-uniforms/station-pants.html"
          ],
          [
           "https://www.511tactical.com/public-safety/law-enforcement/law-enforcement-bags.html"
          ],
          [
           "https://www.511tactical.com/rush-packs.html"
          ],
          [
           "https://www.511tactical.com/sierra-bravo-collection.html"
          ],
          [
           "https://www.511tactical.com/how-to-break-in-your-tactical-boots"
          ],
          [
           "https://www.511tactical.com/leather-casual-belt-15.html"
          ],
          [
           "https://www.511tactical.com/maverick-edc-1-5-belt.html"
          ],
          [
           "https://www.511tactical.com/womens/womens-pants/womens-tactical-pants.html"
          ],
          [
           "https://www.511tactical.com/au-en/blog/plate-carrier-vs-chest-rig-whats-the-difference"
          ],
          [
           "https://www.511tactical.com/flex-medium-gp-pouch.html"
          ],
          [
           "https://www.511tactical.com/amp72.html"
          ],
          [
           "https://www.511tactical.com/stryke-pant.html"
          ],
          [
           "https://www.511tactical.com/what-are-tactical-boots-used-for"
          ],
          [
           "https://www.511tactical.com/multicam-tdu-rapid-assault-shirt.html"
          ],
          [
           "https://www.511tactical.com/5-11-foley-low.html"
          ],
          [
           "https://www.511tactical.com/stryke-tdu-mc-pant.html"
          ],
          [
           "https://www.511tactical.com/benchmade-adamas-reg.html"
          ],
          [
           "https://www.511tactical.com/community/introduction-to-tactical-pants/"
          ],
          [
           "https://www.511tactical.com/rapid-assault-shirt.html"
          ],
          [
           "https://www.511tactical.com/edc-items-you-should-always-have-on-your-ems-pants"
          ],
          [
           "https://www.511tactical.com/cfx-3-4-wallet.html"
          ],
          [
           "https://www.511tactical.com/columbia-sc-29212"
          ],
          [
           "https://www.511tactical.com/de-en/customer-service/size-charts-metric"
          ],
          [
           "https://www.511tactical.com/defender-flex-slim-jean.html"
          ],
          [
           "https://www.511tactical.com/competition-shooting-glove.html"
          ],
          [
           "https://www.511tactical.com/customer-service/return-policy"
          ],
          [
           "https://www.511tactical.com/au-en/all-mission-plate-carrier.html"
          ],
          [
           "https://www.511tactical.com/kubaton-tactical-pen.html"
          ],
          [
           "https://www.511tactical.com/speed-4-0-8-ar-670-1-boot.html"
          ],
          [
           "https://www.511tactical.com/shooting-range-dress-code-what-to-wear"
          ],
          [
           "https://www.511tactical.com/bags-packs/gun-ammunition-storage/ammo-storage.html"
          ],
          [
           "https://www.511tactical.com/arc-leather-belt-1-12-wide.html"
          ],
          [
           "https://www.511tactical.com/vr-hexgrid-seat.html"
          ],
          [
           "https://www.511tactical.com/at-series"
          ],
          [
           "https://www.511tactical.com/accessories/load-bearing-equipment/weight-vest-plates.html"
          ],
          [
           "https://www.511tactical.com/small-kit-tool-bag.html"
          ],
          [
           "https://www.511tactical.com/mens-pdu-class-a-twill-pant.html"
          ],
          [
           "https://www.511tactical.com/36-single-rifle-case.html"
          ],
          [
           "https://www.511tactical.com/watch-services"
          ],
          [
           "https://www.511tactical.com/au-en/tactec-trainer-weight-vest.html"
          ],
          [
           "https://www.511tactical.com/tac-tec-plate-carrier.html"
          ],
          [
           "https://www.511tactical.com/double-duty-tdu-belt-1-75.html"
          ],
          [
           "https://www.511tactical.com/types-of-holsters-for-different-uses"
          ],
          [
           "https://www.511tactical.com/eu-en/accessories/gear/tactical-patches.html"
          ],
          [
           "https://www.511tactical.com/life"
          ],
          [
           "https://www.511tactical.com/sierra-bravo-duty-belt-kit.html"
          ],
          [
           "https://www.511tactical.com/eu-en/blog/2-point-vtac-rifle-sling-how-to-install-and-use/"
          ],
          [
           "https://www.511tactical.com/flex-gas-mask-pouch.html"
          ],
          [
           "https://www.511tactical.com/se-en/bags-packs/accessories/keychains.html"
          ],
          [
           "https://www.511tactical.com/bags-packs/luggage.html"
          ],
          [
           "https://www.511tactical.com/company-pants-2-0.html"
          ],
          [
           "https://www.511tactical.com/de-en/tactec-plate-carrier"
          ],
          [
           "https://www.511tactical.com/how-to-wear-tactical-pants-with-boots"
          ],
          [
           "https://www.511tactical.com/fast-tac-cargo.html"
          ],
          [
           "https://www.511tactical.com/womens/footwear.html"
          ],
          [
           "https://www.511tactical.com/5-11-a-t-8-waterproof-side-zip-boot.html"
          ],
          [
           "https://www.511tactical.com/defender-flex-light-slim-pant.html"
          ],
          [
           "https://www.511tactical.com/tactec-chest-rig.html"
          ],
          [
           "https://www.511tactical.com/flex-shotgun-ammo-pouch.html"
          ],
          [
           "https://www.511tactical.com/gwp-apron.html"
          ],
          [
           "https://www.511tactical.com/mens-tdu-pants.html"
          ],
          [
           "https://www.511tactical.com/public-safety/law-enforcement/uniforms/le-uniform-jackets.html"
          ],
          [
           "https://www.511tactical.com/how-should-a-plate-carrier-fit"
          ],
          [
           "https://www.511tactical.com/ranger-2-0-shoe.html"
          ],
          [
           "https://www.511tactical.com/big-horn.html"
          ],
          [
           "https://www.511tactical.com/sale/footwear.html"
          ],
          [
           "https://www.511tactical.com/tactec-holster-2.html"
          ],
          [
           "https://www.511tactical.com/rapid-waist-pack.html"
          ],
          [
           "https://www.511tactical.com/concealed-carry-collection.html"
          ],
          [
           "https://www.511tactical.com/icon-pant.html"
          ],
          [
           "https://www.511tactical.com/flex-double-pistol-mag-cover-pouch.html"
          ],
          [
           "https://www.511tactical.com/how-to-clean-hi-vis-jackets"
          ],
          [
           "https://www.511tactical.com/performance-polo-long-sleeve.html"
          ],
          [
           "https://www.511tactical.com/how-to-use-knee-pad-inserts-with-tactical-pants"
          ],
          [
           "https://www.511tactical.com/public-safety/law-enforcement.html"
          ],
          [
           "https://www.511tactical.com/union-6-wp-boot.html"
          ],
          [
           "https://www.511tactical.com/response-hl-xr1.html"
          ],
          [
           "https://www.511tactical.com/large-kit-tool-bag.html"
          ],
          [
           "https://www.511tactical.com/dressing-for-ccw-how-to-choose-tactical-jeans-that-fit-your-iwb-holster"
          ],
          [
           "https://www.511tactical.com/range-bags.html"
          ],
          [
           "https://www.511tactical.com/de-de/amp12.html"
          ],
          [
           "https://www.511tactical.com/commando-kilt-multicam.html"
          ],
          [
           "https://www.511tactical.com/motorcycle-breeches.html"
          ],
          [
           "https://www.511tactical.com/custom-name-tape-6x1.html"
          ],
          [
           "https://www.511tactical.com/36-inch-double-rifle-case.html"
          ],
          [
           "https://www.511tactical.com/flex-radio-2-0-pouch.html"
          ],
          [
           "https://www.511tactical.com/multicam.html"
          ],
          [
           "https://www.511tactical.com/mens-pants-and-shorts"
          ],
          [
           "https://www.511tactical.com/42-single-rifle-case.html"
          ],
          [
           "https://www.511tactical.com/how-to-clean-your-tactical-shoes"
          ],
          [
           "https://www.511tactical.com/rush-24-2-0-woodland-backpack.html"
          ],
          [
           "https://www.511tactical.com/tactec-side-plate-panel.html"
          ],
          [
           "https://www.511tactical.com/ridge-pant.html"
          ],
          [
           "https://www.511tactical.com/flex-single-pistol-mag-pouch-2-0.html"
          ],
          [
           "https://www.511tactical.com/xprt-waterproof-jacket.html"
          ],
          [
           "https://www.511tactical.com/fast-tac-6-inch-boot.html"
          ],
          [
           "https://www.511tactical.com/packable-jacket.html"
          ],
          [
           "https://www.511tactical.com/how-to-shine-tactical-boots"
          ],
          [
           "https://www.511tactical.com/accessories/every-day-carry/face-masks.html"
          ],
          [
           "https://www.511tactical.com/apex-pant.html"
          ],
          [
           "https://www.511tactical.com/setting-up-your-ifak-pouch-placement-and-contents"
          ],
          [
           "https://www.511tactical.com/packable-operator-jacket.html"
          ],
          [
           "https://www.511tactical.com/accessories/every-day-carry.html"
          ],
          [
           "https://www.511tactical.com/customer-service/warranty"
          ],
          [
           "https://www.511tactical.com/why-use-a-tactical-belt"
          ],
          [
           "https://www.511tactical.com/flex-med-pouch.html"
          ],
          [
           "https://www.511tactical.com/flex-cuff-pouch.html"
          ],
          [
           "https://www.511tactical.com/covert-khaki-pants.html"
          ],
          [
           "https://www.511tactical.com/blog/how-to-set-up-a-police-duty-belt/"
          ],
          [
           "https://www.511tactical.com/flex-tourniquet-pouch.html"
          ],
          [
           "https://www.511tactical.com/evo-2-0-8-ar-670-1-boot.html"
          ],
          [
           "https://www.511tactical.com/de-de/womens/womens-pants.html"
          ],
          [
           "https://www.511tactical.com/nevada-softshell-jacket.html"
          ],
          [
           "https://www.511tactical.com/metairie-la-70003"
          ],
          [
           "https://www.511tactical.com/5-11-boonie-hat.html"
          ],
          [
           "https://www.511tactical.com/de-de/accessories/apparel/gloves.html"
          ],
          [
           "https://www.511tactical.com/exo-k-external-knee-pad.html"
          ],
          [
           "https://www.511tactical.com/cable-hiker-tactical-boot.html"
          ],
          [
           "https://www.511tactical.com/es-en/blog/the-best-cargo-pants-for-work/"
          ],
          [
           "https://www.511tactical.com/blog/the-ultimate-guide-to-trucker-hats/"
          ],
          [
           "https://www.511tactical.com/bags-packs/backpacks.html"
          ],
          [
           "https://www.511tactical.com/6-inch-boots.html"
          ],
          [
           "https://www.511tactical.com/it-en/blog/what-is-a-gray-man/"
          ],
          [
           "https://www.511tactical.com/blog/ultimate-sandbag-workout/"
          ],
          [
           "https://www.511tactical.com/go-bag-checklist-for-national-preparedness-month"
          ],
          [
           "https://www.511tactical.com/511-tactical-shirt-short-sleeve-cotton.html"
          ],
          [
           "https://www.511tactical.com/footwear/boots.html"
          ],
          [
           "https://www.511tactical.com/taclite-8-coyote-boot.html"
          ],
          [
           "https://www.511tactical.com/how-to-lace-tactical-boots"
          ],
          [
           "https://www.511tactical.com/molle-packable-poncho.html"
          ],
          [
           "https://www.511tactical.com/maverick-battle-belt-d-ring.html"
          ],
          [
           "https://www.511tactical.com/public-safety/law-enforcement/uniforms.html"
          ],
          [
           "https://www.511tactical.com/belts-and-accessories"
          ],
          [
           "https://www.511tactical.com/de-de/rush100.html"
          ],
          [
           "https://www.511tactical.com/mens/mens-pants/mens-jeans.html"
          ],
          [
           "https://www.511tactical.com/performance-short-sleeve-polo.html"
          ],
          [
           "https://www.511tactical.com/public-safety/fire-ems/fire-ems-uniforms.html"
          ],
          [
           "https://www.511tactical.com/5-11-multicam-boonie-hat.html"
          ],
          [
           "https://www.511tactical.com/tactical-belt-guide-for-edc"
          ],
          [
           "https://www.511tactical.com/42-double-rifle-case.html"
          ],
          [
           "https://www.511tactical.com/public-safety/military.html"
          ],
          [
           "https://www.511tactical.com/best-tactical-pants-for-everyday-wear"
          ],
          [
           "https://www.511tactical.com/single-pistol-case.html"
          ],
          [
           "https://www.511tactical.com/accessories/every-day-carry/watches.html"
          ],
          [
           "https://www.511tactical.com/wts-wide-3-liters-hydration-system.html"
          ],
          [
           "https://www.511tactical.com/au-en/mens/mens-pants/cargo-pants.html"
          ],
          [
           "https://www.511tactical.com/patch-compatible.html"
          ],
          [
           "https://www.511tactical.com/exo-k-gel-kneepad.html"
          ],
          [
           "https://www.511tactical.com/tdu-belt-175-plastic-buckle.html"
          ],
          [
           "https://www.511tactical.com/trail-pant.html"
          ],
          [
           "https://www.511tactical.com/tourniquet-holder.html"
          ],
          [
           "https://www.511tactical.com/community/2-point-vtac-rifle-sling-how-to-install-use/"
          ],
          [
           "https://www.511tactical.com/helmet-shove-it-gear-set.html"
          ],
          [
           "https://www.511tactical.com/blog/what-is-a-concealed-carry-shirt/"
          ],
          [
           "https://www.511tactical.com/store-locator"
          ],
          [
           "https://www.511tactical.com/the-best-tactical-jackets-for-every-season"
          ],
          [
           "https://www.511tactical.com/bags-packs/gun-ammunition-storage/soft-cases.html"
          ],
          [
           "https://www.511tactical.com/covert.html"
          ],
          [
           "https://www.511tactical.com/thermal-insulator-jacket.html"
          ],
          [
           "https://www.511tactical.com/breaching"
          ],
          [
           "https://www.511tactical.com/k9s-for-warriors"
          ],
          [
           "https://www.511tactical.com/66-med-pouch.html"
          ],
          [
           "https://www.511tactical.com/radio-pouch.html"
          ],
          [
           "https://www.511tactical.com/holiday-gift-guides/stocking-stuffers.html"
          ],
          [
           "https://www.511tactical.com/range-ready.html"
          ],
          [
           "https://www.511tactical.com/public-safety/law-enforcement/uniforms/le-uniform-pants.html"
          ],
          [
           "https://www.511tactical.com/patrol-rain-pant.html"
          ],
          [
           "https://www.511tactical.com/cold-weather-basics.html"
          ],
          [
           "https://www.511tactical.com/k9-collection"
          ],
          [
           "https://www.511tactical.com/rifle-bags"
          ],
          [
           "https://www.511tactical.com/vtac-2-point-padded-sling.html"
          ],
          [
           "https://www.511tactical.com/cfgames-2017/gym-bags.html"
          ],
          [
           "https://www.511tactical.com/weight-vest-plate-v2-8-75-lb.html"
          ],
          [
           "https://www.511tactical.com/how-to-properly-pack-a-tactical-backpack"
          ],
          [
           "https://www.511tactical.com/always-be-ready-how-to-choose-a-basic-edc-backpack"
          ],
          [
           "https://www.511tactical.com/edge-chino.html"
          ],
          [
           "https://www.511tactical.com/accessories/tactical-patches.html"
          ],
          [
           "https://www.511tactical.com/seth-shirt-jacket.html"
          ],
          [
           "https://www.511tactical.com/footwear/boots/womens-boots.html"
          ],
          [
           "https://www.511tactical.com/freedom-flex-short-sleeve-shirt.html"
          ],
          [
           "https://www.511tactical.com/community/how-to-choose-a-concealed-carry-backpack/"
          ],
          [
           "https://www.511tactical.com/pc-convertible-hydration-carrier.html"
          ],
          [
           "https://www.511tactical.com/flex-triple-ar-mag-cover-pouch.html"
          ],
          [
           "https://www.511tactical.com/flex-double-pistol-mag-pouch-2-0.html"
          ],
          [
           "https://www.511tactical.com/pt-r-gym-backpack-1.html"
          ],
          [
           "https://www.511tactical.com/tactec-weight-plate-sandbag.html"
          ],
          [
           "https://www.511tactical.com/how-to-choose-a-concealed-carry-jacket"
          ]
         ],
         "hovertemplate": "Position=%{x}<br>CTR=%{y}<br>Top pages=%{customdata[0]}<extra></extra>",
         "legendgroup": "",
         "marker": {
          "color": "#636efa",
          "symbol": "circle"
         },
         "mode": "markers",
         "name": "",
         "orientation": "h",
         "showlegend": false,
         "textposition": "top center",
         "type": "scatter",
         "x": [
          1.56,
          1.71,
          1.84,
          2.12,
          2.27,
          2.52,
          2.53,
          2.63,
          2.91,
          2.97,
          2.99,
          3.17,
          3.2,
          3.21,
          3.3,
          3.36,
          3.43,
          3.44,
          3.79,
          3.81,
          3.84,
          3.9,
          3.92,
          3.98,
          4,
          4.1,
          4.13,
          4.15,
          4.16,
          4.24,
          4.28,
          4.28,
          4.28,
          4.29,
          4.39,
          4.41,
          4.44,
          4.47,
          4.48,
          4.5,
          4.5,
          4.51,
          4.51,
          4.54,
          4.6,
          4.6,
          4.61,
          4.63,
          4.68,
          4.69,
          4.72,
          4.76,
          4.79,
          4.8,
          4.81,
          4.82,
          4.85,
          4.86,
          4.87,
          4.87,
          4.88,
          4.95,
          4.95,
          4.99,
          5.01,
          5.01,
          5.01,
          5.02,
          5.04,
          5.05,
          5.07,
          5.09,
          5.18,
          5.2,
          5.25,
          5.25,
          5.33,
          5.34,
          5.41,
          5.44,
          5.48,
          5.49,
          5.49,
          5.49,
          5.5,
          5.52,
          5.55,
          5.56,
          5.59,
          5.59,
          5.62,
          5.71,
          5.74,
          5.74,
          5.75,
          5.75,
          5.78,
          5.79,
          5.79,
          5.8,
          5.83,
          5.85,
          5.87,
          5.91,
          5.92,
          5.93,
          5.94,
          5.98,
          6,
          6.06,
          6.07,
          6.08,
          6.09,
          6.12,
          6.13,
          6.16,
          6.16,
          6.17,
          6.18,
          6.19,
          6.2,
          6.21,
          6.23,
          6.24,
          6.25,
          6.28,
          6.28,
          6.28,
          6.28,
          6.35,
          6.35,
          6.35,
          6.41,
          6.41,
          6.43,
          6.44,
          6.46,
          6.47,
          6.47,
          6.48,
          6.48,
          6.49,
          6.49,
          6.5,
          6.51,
          6.52,
          6.52,
          6.52,
          6.53,
          6.56,
          6.57,
          6.57,
          6.57,
          6.59,
          6.6,
          6.6,
          6.63,
          6.65,
          6.65,
          6.65,
          6.66,
          6.67,
          6.69,
          6.71,
          6.71,
          6.72,
          6.73,
          6.73,
          6.74,
          6.76,
          6.76,
          6.8,
          6.81,
          6.81,
          6.81,
          6.81,
          6.84,
          6.85,
          6.85,
          6.85,
          6.86,
          6.87,
          6.87,
          6.88,
          6.89,
          6.89,
          6.89,
          6.89,
          6.9,
          6.96,
          6.98,
          6.99,
          7,
          7,
          7,
          7.01,
          7.01,
          7.01,
          7.04,
          7.07,
          7.07,
          7.07,
          7.07,
          7.07,
          7.09,
          7.11,
          7.11,
          7.12,
          7.13,
          7.13,
          7.15,
          7.16,
          7.16,
          7.16,
          7.2,
          7.21,
          7.22,
          7.22,
          7.26,
          7.27,
          7.27,
          7.28,
          7.28,
          7.28,
          7.3,
          7.33,
          7.35,
          7.36,
          7.36,
          7.39,
          7.4,
          7.4,
          7.42,
          7.47,
          7.47,
          7.49,
          7.5,
          7.5,
          7.51,
          7.51,
          7.51,
          7.52,
          7.52,
          7.53,
          7.53,
          7.53,
          7.55,
          7.56,
          7.58,
          7.59,
          7.59,
          7.6,
          7.64,
          7.65,
          7.66,
          7.67,
          7.68,
          7.7,
          7.7,
          7.71,
          7.73,
          7.76,
          7.77,
          7.78,
          7.79,
          7.83,
          7.84,
          7.84,
          7.84,
          7.86,
          7.87,
          7.88,
          7.91,
          7.93,
          7.93,
          7.93,
          7.94,
          7.95,
          7.96,
          7.97,
          7.97,
          7.98,
          7.98,
          8,
          8,
          8.04,
          8.05,
          8.06,
          8.09,
          8.1,
          8.11,
          8.12,
          8.12,
          8.12,
          8.14,
          8.18,
          8.19,
          8.2,
          8.21,
          8.22,
          8.23,
          8.23,
          8.24,
          8.24,
          8.24,
          8.27,
          8.31,
          8.31,
          8.31,
          8.32,
          8.33,
          8.33,
          8.34,
          8.36,
          8.37,
          8.37,
          8.38,
          8.38,
          8.39,
          8.43,
          8.43,
          8.44,
          8.45,
          8.45,
          8.46,
          8.46,
          8.47,
          8.49,
          8.5,
          8.5,
          8.52,
          8.53,
          8.54,
          8.55,
          8.56,
          8.57,
          8.58,
          8.59,
          8.6,
          8.6,
          8.61,
          8.62,
          8.63,
          8.64,
          8.68,
          8.7,
          8.7,
          8.73,
          8.74,
          8.76,
          8.76,
          8.78,
          8.78,
          8.78,
          8.8,
          8.81,
          8.82,
          8.82,
          8.84,
          8.85,
          8.87,
          8.88,
          8.88,
          8.88,
          8.92,
          8.93,
          8.93,
          8.95,
          8.96,
          8.97,
          8.97,
          9.01,
          9.02,
          9.03,
          9.04,
          9.05,
          9.06,
          9.06,
          9.07,
          9.08,
          9.1,
          9.11,
          9.11,
          9.12,
          9.12,
          9.15,
          9.16,
          9.18,
          9.2,
          9.21,
          9.22,
          9.22,
          9.23,
          9.23,
          9.24,
          9.25,
          9.26,
          9.26,
          9.3,
          9.31,
          9.33,
          9.35,
          9.35,
          9.36,
          9.37,
          9.37,
          9.39,
          9.4,
          9.44,
          9.44,
          9.47,
          9.49,
          9.52,
          9.52,
          9.59,
          9.6,
          9.61,
          9.62,
          9.62,
          9.67,
          9.67,
          9.7,
          9.75,
          9.8,
          9.81,
          9.82,
          9.83,
          9.83,
          9.83,
          9.86,
          9.88,
          9.88,
          9.91,
          9.92,
          9.92,
          9.93,
          9.95,
          9.97,
          9.97,
          9.98,
          9.98,
          10.01,
          10.04,
          10.06,
          10.07,
          10.07,
          10.09,
          10.09,
          10.1,
          10.1,
          10.12,
          10.12,
          10.12,
          10.14,
          10.14,
          10.17,
          10.18,
          10.18,
          10.19,
          10.2,
          10.21,
          10.24,
          10.24,
          10.25,
          10.3,
          10.31,
          10.32,
          10.33,
          10.35,
          10.36,
          10.37,
          10.38,
          10.4,
          10.4,
          10.41,
          10.42,
          10.42,
          10.45,
          10.45,
          10.46,
          10.5,
          10.51,
          10.52,
          10.52,
          10.52,
          10.53,
          10.53,
          10.53,
          10.54,
          10.6,
          10.63,
          10.63,
          10.65,
          10.67,
          10.67,
          10.67,
          10.67,
          10.69,
          10.69,
          10.7,
          10.73,
          10.74,
          10.74,
          10.77,
          10.79,
          10.8,
          10.81,
          10.83,
          10.84,
          10.84,
          10.86,
          10.87,
          10.88,
          10.89,
          10.91,
          10.92,
          10.94,
          10.98,
          11,
          11.02,
          11.05,
          11.18,
          11.19,
          11.22,
          11.22,
          11.22,
          11.23,
          11.24,
          11.25,
          11.26,
          11.26,
          11.27,
          11.32,
          11.35,
          11.4,
          11.4,
          11.4,
          11.41,
          11.41,
          11.43,
          11.48,
          11.48,
          11.55,
          11.55,
          11.56,
          11.56,
          11.59,
          11.6,
          11.63,
          11.64,
          11.65,
          11.67,
          11.67,
          11.68,
          11.74,
          11.79,
          11.91,
          11.94,
          11.95,
          11.95,
          11.96,
          11.97,
          12.02,
          12.03,
          12.09,
          12.09,
          12.13,
          12.13,
          12.15,
          12.17,
          12.2,
          12.21,
          12.22,
          12.25,
          12.28,
          12.39,
          12.41,
          12.41,
          12.47,
          12.49,
          12.54,
          12.56,
          12.57,
          12.62,
          12.62,
          12.63,
          12.65,
          12.65,
          12.71,
          12.72,
          12.74,
          12.74,
          12.77,
          12.77,
          12.8,
          12.83,
          12.83,
          12.84,
          12.88,
          12.94,
          12.95,
          12.98,
          13.1,
          13.11,
          13.14,
          13.15,
          13.15,
          13.17,
          13.23,
          13.27,
          13.27,
          13.28,
          13.32,
          13.39,
          13.41,
          13.41,
          13.41,
          13.42,
          13.45,
          13.49,
          13.5,
          13.5,
          13.5,
          13.59,
          13.62,
          13.63,
          13.66,
          13.7,
          13.72,
          13.72,
          13.73,
          13.78,
          13.84,
          13.85,
          14,
          14.01,
          14.02,
          14.07,
          14.08,
          14.1,
          14.1,
          14.11,
          14.12,
          14.12,
          14.15,
          14.22,
          14.31,
          14.33,
          14.36,
          14.46,
          14.52,
          14.53,
          14.54,
          14.6,
          14.61,
          14.61,
          14.64,
          14.64,
          14.67,
          14.69,
          14.7,
          14.74,
          14.74,
          14.9,
          14.93,
          14.97,
          15.06,
          15.06,
          15.07,
          15.07,
          15.1,
          15.16,
          15.17,
          15.18,
          15.23,
          15.25,
          15.27,
          15.31,
          15.36,
          15.36,
          15.5,
          15.53,
          15.55,
          15.57,
          15.61,
          15.62,
          15.64,
          15.67,
          15.7,
          15.75,
          15.76,
          15.79,
          15.83,
          15.86,
          15.88,
          15.89,
          15.97,
          16.04,
          16.06,
          16.11,
          16.19,
          16.2,
          16.21,
          16.22,
          16.32,
          16.32,
          16.34,
          16.34,
          16.39,
          16.41,
          16.49,
          16.5,
          16.51,
          16.53,
          16.54,
          16.58,
          16.6,
          16.6,
          16.61,
          16.64,
          16.67,
          16.73,
          16.82,
          16.83,
          16.84,
          16.88,
          16.92,
          16.93,
          16.97,
          16.97,
          17.09,
          17.27,
          17.29,
          17.31,
          17.31,
          17.45,
          17.47,
          17.58,
          17.6,
          17.67,
          17.68,
          17.84,
          17.86,
          17.97,
          17.98,
          18,
          18.06,
          18.09,
          18.14,
          18.15,
          18.17,
          18.24,
          18.28,
          18.28,
          18.42,
          18.44,
          18.59,
          18.62,
          18.63,
          18.77,
          18.77,
          18.82,
          18.9,
          18.93,
          19.03,
          19.03,
          19.04,
          19.09,
          19.12,
          19.17,
          19.22,
          19.28,
          19.31,
          19.34,
          19.4,
          19.56,
          19.72,
          19.78,
          19.79,
          19.8,
          19.8,
          19.82,
          19.87,
          19.89,
          19.91,
          19.96,
          20.06,
          20.08,
          20.15,
          20.19,
          20.23,
          20.25,
          20.31,
          20.4,
          20.41,
          20.42,
          20.48,
          20.54,
          20.63,
          20.64,
          20.64,
          20.65,
          20.82,
          20.9,
          21.12,
          21.14,
          21.18,
          21.24,
          21.26,
          21.31,
          21.44,
          21.51,
          21.53,
          21.55,
          21.58,
          21.88,
          22.14,
          22.26,
          22.38,
          22.42,
          22.5,
          22.5,
          22.52,
          22.56,
          22.56,
          22.57,
          22.61,
          22.65,
          22.79,
          22.84,
          22.91,
          22.92,
          22.93,
          22.97,
          23.08,
          23.14,
          23.14,
          23.2,
          23.25,
          23.29,
          23.34,
          23.43,
          23.61,
          23.72,
          23.75,
          23.79,
          23.92,
          23.96,
          23.99,
          24.01,
          24.03,
          24.05,
          24.19,
          24.27,
          24.48,
          24.54,
          24.59,
          24.6,
          24.61,
          24.69,
          24.75,
          24.84,
          24.9,
          24.95,
          24.98
         ],
         "xaxis": "x",
         "y": [
          "0.16%",
          "0.28%",
          "0.48%",
          "18.16%",
          "0.25%",
          "0.71%",
          "2.91%",
          "3.93%",
          "5.11%",
          "3.42%",
          "1.27%",
          "30.2%",
          "12.69%",
          "6.26%",
          "0.42%",
          "7%",
          "1.39%",
          "0.54%",
          "1.62%",
          "0.47%",
          "0.64%",
          "6.87%",
          "0.97%",
          "26.27%",
          "20.72%",
          "25.93%",
          "3.61%",
          "6.55%",
          "10.77%",
          "11.17%",
          "0.85%",
          "8.57%",
          "8.87%",
          "0.15%",
          "7.49%",
          "8.07%",
          "27.98%",
          "0.22%",
          "1.11%",
          "3.5%",
          "0.52%",
          "1.52%",
          "6.12%",
          "9.73%",
          "0.72%",
          "26.88%",
          "1.47%",
          "11.08%",
          "6.93%",
          "21.25%",
          "8.1%",
          "1.71%",
          "0.72%",
          "8.2%",
          "15.89%",
          "16.75%",
          "11.64%",
          "1.7%",
          "6.95%",
          "14.4%",
          "7.43%",
          "19.73%",
          "7.81%",
          "3.07%",
          "20%",
          "5.22%",
          "1.21%",
          "10.71%",
          "2.81%",
          "3.05%",
          "1.79%",
          "5.47%",
          "2.7%",
          "0.79%",
          "1.71%",
          "1.55%",
          "0.69%",
          "5.71%",
          "1.93%",
          "7.24%",
          "6.4%",
          "2.19%",
          "6.07%",
          "0.59%",
          "0.88%",
          "16.11%",
          "2.88%",
          "1.18%",
          "1.82%",
          "3%",
          "10.89%",
          "2.22%",
          "44.54%",
          "1.03%",
          "10.07%",
          "20.16%",
          "3.45%",
          "4.15%",
          "6.38%",
          "2.57%",
          "5.86%",
          "2.84%",
          "2.06%",
          "11.8%",
          "0.2%",
          "1.29%",
          "5.72%",
          "0.74%",
          "19.25%",
          "5.07%",
          "3.12%",
          "5.04%",
          "14.13%",
          "0.62%",
          "7.43%",
          "6.12%",
          "4.44%",
          "8.32%",
          "3.56%",
          "1.61%",
          "15.19%",
          "4.29%",
          "6.38%",
          "2.5%",
          "1.14%",
          "6.92%",
          "1.97%",
          "4.44%",
          "0.75%",
          "7.06%",
          "4.2%",
          "5.77%",
          "1.59%",
          "4.16%",
          "3.07%",
          "8.64%",
          "3.3%",
          "7.17%",
          "0.69%",
          "3.92%",
          "13.4%",
          "3.78%",
          "11.85%",
          "0.68%",
          "18.21%",
          "4.96%",
          "31.65%",
          "6.4%",
          "1.56%",
          "8.63%",
          "1%",
          "3.27%",
          "1.13%",
          "6.52%",
          "12.91%",
          "7.17%",
          "5.31%",
          "7.69%",
          "5.47%",
          "3.46%",
          "19.43%",
          "3.76%",
          "3.86%",
          "4.09%",
          "1.6%",
          "6.87%",
          "27.43%",
          "2.97%",
          "0.68%",
          "0.8%",
          "0.91%",
          "3.51%",
          "0.97%",
          "0.84%",
          "5.64%",
          "9.78%",
          "16.12%",
          "1.78%",
          "2.5%",
          "3.91%",
          "1.59%",
          "8.32%",
          "7.5%",
          "1.16%",
          "0.98%",
          "16.29%",
          "0.72%",
          "5.18%",
          "7.65%",
          "5.88%",
          "2.34%",
          "8.51%",
          "4.37%",
          "3.54%",
          "3.83%",
          "1.38%",
          "2.56%",
          "1.92%",
          "1.75%",
          "3.03%",
          "3.38%",
          "0.96%",
          "10.74%",
          "4.62%",
          "1.12%",
          "0.25%",
          "4.46%",
          "3.32%",
          "2.3%",
          "1.64%",
          "0.77%",
          "6.57%",
          "0.66%",
          "1.7%",
          "2.49%",
          "16.09%",
          "4.22%",
          "2.41%",
          "8.5%",
          "0.88%",
          "0.16%",
          "22.13%",
          "0.74%",
          "7.48%",
          "5.68%",
          "5.36%",
          "1.85%",
          "5.91%",
          "1.38%",
          "13.21%",
          "5.13%",
          "0.13%",
          "2.51%",
          "4.9%",
          "1.39%",
          "3.67%",
          "4.55%",
          "2.8%",
          "2.39%",
          "2.87%",
          "5.17%",
          "3.99%",
          "6.87%",
          "18.89%",
          "34.21%",
          "5.01%",
          "6.48%",
          "2.75%",
          "3.28%",
          "2.86%",
          "3.07%",
          "1.38%",
          "7.1%",
          "0.34%",
          "1.54%",
          "3.57%",
          "6.06%",
          "5.15%",
          "0.29%",
          "1.12%",
          "4.57%",
          "2.36%",
          "0.07%",
          "4.99%",
          "4.14%",
          "6.74%",
          "1.93%",
          "0.71%",
          "2.24%",
          "4.38%",
          "1.6%",
          "4.8%",
          "3.52%",
          "2.14%",
          "3.52%",
          "4.29%",
          "8.2%",
          "3.33%",
          "3.16%",
          "4.42%",
          "0.13%",
          "2.22%",
          "4.19%",
          "4.13%",
          "2.66%",
          "4.19%",
          "1.76%",
          "6.07%",
          "18.71%",
          "2.76%",
          "3.43%",
          "4.89%",
          "9.64%",
          "1.23%",
          "1.06%",
          "4.63%",
          "4.57%",
          "3.18%",
          "2.77%",
          "0.88%",
          "1.62%",
          "5.32%",
          "3%",
          "2.37%",
          "7.7%",
          "4.16%",
          "6.31%",
          "1.36%",
          "3.73%",
          "4.15%",
          "4.19%",
          "3.34%",
          "5.65%",
          "1.99%",
          "4.08%",
          "2.52%",
          "1.88%",
          "4.98%",
          "15.71%",
          "5.66%",
          "6.07%",
          "5.38%",
          "0.46%",
          "3.42%",
          "1.79%",
          "3.89%",
          "4.16%",
          "1.79%",
          "6.64%",
          "8.05%",
          "11.55%",
          "2.16%",
          "0.12%",
          "4.14%",
          "10.77%",
          "2.04%",
          "3.08%",
          "4.98%",
          "0.57%",
          "1.99%",
          "4.09%",
          "1.63%",
          "0.73%",
          "6.64%",
          "6.72%",
          "17.12%",
          "4.04%",
          "1.28%",
          "17.94%",
          "3.91%",
          "1.72%",
          "4.76%",
          "3.21%",
          "3.19%",
          "5.4%",
          "2.94%",
          "12.2%",
          "3.27%",
          "1.15%",
          "0.75%",
          "10.2%",
          "10.85%",
          "12.6%",
          "1%",
          "0.9%",
          "4.55%",
          "1.29%",
          "0.31%",
          "13.22%",
          "0.83%",
          "8.2%",
          "2.05%",
          "0.37%",
          "0.58%",
          "12.75%",
          "3.59%",
          "26.55%",
          "5.12%",
          "8.03%",
          "0.19%",
          "1.2%",
          "0.83%",
          "1.28%",
          "0.7%",
          "6.06%",
          "5.47%",
          "3.55%",
          "2.06%",
          "0.98%",
          "2.28%",
          "1.94%",
          "4.4%",
          "4.7%",
          "4.24%",
          "9.7%",
          "2.27%",
          "26.29%",
          "2.43%",
          "4.14%",
          "2.92%",
          "8.44%",
          "3.84%",
          "1.23%",
          "2.01%",
          "6.24%",
          "3.46%",
          "4%",
          "4.76%",
          "1.59%",
          "3.49%",
          "3.18%",
          "1.56%",
          "1.74%",
          "3.9%",
          "13.07%",
          "13.39%",
          "19.01%",
          "1.89%",
          "3.86%",
          "6.09%",
          "2.86%",
          "2.67%",
          "0.53%",
          "3.26%",
          "13.28%",
          "1.37%",
          "6.44%",
          "2.08%",
          "11.43%",
          "1.69%",
          "5.25%",
          "6.8%",
          "1.6%",
          "1.55%",
          "7.2%",
          "3.65%",
          "1.93%",
          "0.73%",
          "12.62%",
          "6.13%",
          "5.76%",
          "5.52%",
          "4.37%",
          "2.54%",
          "8.77%",
          "2.92%",
          "3.23%",
          "2.7%",
          "1.14%",
          "2.48%",
          "5.4%",
          "7.01%",
          "4.47%",
          "5.58%",
          "0.96%",
          "7.25%",
          "4.01%",
          "2.01%",
          "2.46%",
          "3.67%",
          "20.95%",
          "1.15%",
          "5.2%",
          "8.46%",
          "3.8%",
          "2.39%",
          "4.59%",
          "3.03%",
          "2.42%",
          "2.09%",
          "11.26%",
          "0.95%",
          "7.82%",
          "6.94%",
          "14.05%",
          "1.64%",
          "7.89%",
          "10.27%",
          "4.64%",
          "2.67%",
          "3.14%",
          "2.03%",
          "1.52%",
          "2.26%",
          "1.67%",
          "0.92%",
          "4.74%",
          "1.58%",
          "4.87%",
          "2.14%",
          "7.79%",
          "7.78%",
          "5.14%",
          "3.6%",
          "1.54%",
          "6.05%",
          "1.21%",
          "0.55%",
          "1.86%",
          "1.14%",
          "2.23%",
          "6.31%",
          "21.42%",
          "1.27%",
          "8.59%",
          "5.9%",
          "12.43%",
          "6.46%",
          "5.49%",
          "1.31%",
          "3.95%",
          "3.73%",
          "7.59%",
          "0.81%",
          "13.51%",
          "4.89%",
          "0.82%",
          "1.64%",
          "0.87%",
          "2.69%",
          "19.63%",
          "0.8%",
          "6.04%",
          "3.26%",
          "5.67%",
          "4.7%",
          "1.7%",
          "6.16%",
          "11.47%",
          "2.74%",
          "1.75%",
          "2.7%",
          "2.81%",
          "1.53%",
          "32.25%",
          "2.33%",
          "1.08%",
          "4.08%",
          "1.37%",
          "3.01%",
          "1.39%",
          "11.07%",
          "1.41%",
          "4%",
          "2.84%",
          "0.4%",
          "8.38%",
          "3.64%",
          "5.94%",
          "1.1%",
          "2.91%",
          "1.3%",
          "2.48%",
          "4.31%",
          "4.19%",
          "6.82%",
          "2.63%",
          "3.99%",
          "2.78%",
          "4.24%",
          "6.25%",
          "2.08%",
          "2.79%",
          "10.83%",
          "22.56%",
          "4.18%",
          "4.64%",
          "3.73%",
          "3.16%",
          "8.99%",
          "7.28%",
          "1.71%",
          "1.93%",
          "2.55%",
          "1.09%",
          "0.23%",
          "2.07%",
          "9.96%",
          "5.23%",
          "3.4%",
          "10.47%",
          "3.72%",
          "2.18%",
          "0.39%",
          "1.11%",
          "0.98%",
          "2.95%",
          "4.24%",
          "1.96%",
          "1.07%",
          "1.1%",
          "8.81%",
          "1.55%",
          "2.13%",
          "2.43%",
          "0.57%",
          "3.29%",
          "9.59%",
          "1.71%",
          "3.92%",
          "7.13%",
          "1.37%",
          "2.97%",
          "1.58%",
          "0.48%",
          "2.35%",
          "0.64%",
          "1.86%",
          "7.77%",
          "3.04%",
          "1.28%",
          "1.39%",
          "3.86%",
          "1.79%",
          "8.01%",
          "1.32%",
          "0.47%",
          "8.11%",
          "18.17%",
          "2.42%",
          "3.89%",
          "6.69%",
          "6.77%",
          "3.5%",
          "6.28%",
          "7.03%",
          "1.21%",
          "1.92%",
          "9.58%",
          "2.02%",
          "3.18%",
          "16.75%",
          "3.19%",
          "2.1%",
          "6.21%",
          "4.95%",
          "4.11%",
          "2.64%",
          "1.63%",
          "0.62%",
          "4.9%",
          "3.04%",
          "7.67%",
          "3.73%",
          "7.77%",
          "1.32%",
          "5.08%",
          "7.43%",
          "1.93%",
          "8.17%",
          "2.95%",
          "1.56%",
          "1.37%",
          "4.27%",
          "1.24%",
          "10.27%",
          "4.74%",
          "4.33%",
          "3.74%",
          "8.75%",
          "1.24%",
          "4.56%",
          "6.76%",
          "12.26%",
          "5.68%",
          "3.62%",
          "2.39%",
          "2.04%",
          "1.09%",
          "3.85%",
          "16.47%",
          "1.07%",
          "5.08%",
          "29.73%",
          "0.86%",
          "5.08%",
          "2.84%",
          "2.96%",
          "5.15%",
          "3.16%",
          "2.45%",
          "1.44%",
          "5.63%",
          "1.43%",
          "1.26%",
          "1.08%",
          "1.79%",
          "5.55%",
          "16.4%",
          "1.93%",
          "1.23%",
          "2.84%",
          "17.35%",
          "1.63%",
          "0.87%",
          "2.77%",
          "10.17%",
          "4.21%",
          "0.93%",
          "3.04%",
          "2.79%",
          "2.17%",
          "1.61%",
          "17.34%",
          "7.53%",
          "2.48%",
          "1.23%",
          "7.41%",
          "2.47%",
          "2.51%",
          "2.99%",
          "3.06%",
          "2.32%",
          "0.95%",
          "4.52%",
          "1.77%",
          "6.84%",
          "1.22%",
          "3.39%",
          "2.64%",
          "1.83%",
          "1.94%",
          "6.53%",
          "2.55%",
          "2.41%",
          "2.19%",
          "12.16%",
          "2.66%",
          "3.16%",
          "2.67%",
          "2.41%",
          "1.4%",
          "1.35%",
          "2.91%",
          "2.84%",
          "2.91%",
          "3.2%",
          "19.91%",
          "3.78%",
          "2.29%",
          "2.16%",
          "4.78%",
          "8.8%",
          "0.5%",
          "1.64%",
          "4.35%",
          "5.76%",
          "4.62%",
          "2.54%",
          "2.98%",
          "1.31%",
          "3.78%",
          "1.12%",
          "3.63%",
          "6.2%",
          "1.33%",
          "7.11%",
          "1.25%",
          "14.36%",
          "3.59%",
          "4.9%",
          "2.08%",
          "2.66%",
          "4.21%",
          "3.05%",
          "1.89%",
          "2.37%",
          "1.73%",
          "2.89%",
          "2.47%",
          "1.78%",
          "2.5%",
          "2.97%",
          "2%",
          "2.53%",
          "3.38%",
          "1.33%",
          "3%",
          "7.7%",
          "4.79%",
          "2.43%",
          "16.22%",
          "2.85%",
          "3.11%",
          "2.99%",
          "5.77%",
          "0.97%",
          "2.17%",
          "1.72%",
          "3.89%",
          "1.59%",
          "3.61%",
          "1.8%",
          "5.96%",
          "4%",
          "2.64%",
          "0.71%",
          "0.3%",
          "1.61%",
          "2.22%",
          "1.44%",
          "0.83%",
          "4.28%",
          "1.76%",
          "3.14%",
          "5.39%",
          "2.07%",
          "2.19%",
          "1.67%",
          "1.95%",
          "1.16%",
          "4.56%",
          "5.47%",
          "3.01%",
          "0.82%",
          "1.31%",
          "0.89%",
          "4.26%",
          "2.9%",
          "3.92%",
          "2.71%",
          "5.09%",
          "5.7%",
          "0.74%",
          "2.99%",
          "1.72%",
          "2.93%",
          "2.34%",
          "1.76%",
          "1.11%",
          "10.48%",
          "1.75%",
          "0.97%",
          "3.96%",
          "2.26%",
          "4.3%",
          "1.87%",
          "11.37%",
          "4.11%",
          "2.13%",
          "2.63%",
          "1.46%",
          "3.76%",
          "1.47%",
          "0.56%",
          "6.97%",
          "3.66%",
          "2.17%",
          "3.51%",
          "2.46%",
          "2.97%",
          "5.14%",
          "0.85%",
          "4.92%",
          "0.75%",
          "3.72%",
          "1.01%",
          "6.33%",
          "1.52%",
          "2.09%",
          "1.77%",
          "4.31%",
          "0.86%",
          "10.07%",
          "1.78%"
         ],
         "yaxis": "y"
        }
       ],
       "layout": {
        "legend": {
         "tracegroupgap": 0
        },
        "showlegend": false,
        "template": {
         "data": {
          "bar": [
           {
            "error_x": {
             "color": "#2a3f5f"
            },
            "error_y": {
             "color": "#2a3f5f"
            },
            "marker": {
             "line": {
              "color": "#E5ECF6",
              "width": 0.5
             },
             "pattern": {
              "fillmode": "overlay",
              "size": 10,
              "solidity": 0.2
             }
            },
            "type": "bar"
           }
          ],
          "barpolar": [
           {
            "marker": {
             "line": {
              "color": "#E5ECF6",
              "width": 0.5
             },
             "pattern": {
              "fillmode": "overlay",
              "size": 10,
              "solidity": 0.2
             }
            },
            "type": "barpolar"
           }
          ],
          "carpet": [
           {
            "aaxis": {
             "endlinecolor": "#2a3f5f",
             "gridcolor": "white",
             "linecolor": "white",
             "minorgridcolor": "white",
             "startlinecolor": "#2a3f5f"
            },
            "baxis": {
             "endlinecolor": "#2a3f5f",
             "gridcolor": "white",
             "linecolor": "white",
             "minorgridcolor": "white",
             "startlinecolor": "#2a3f5f"
            },
            "type": "carpet"
           }
          ],
          "choropleth": [
           {
            "colorbar": {
             "outlinewidth": 0,
             "ticks": ""
            },
            "type": "choropleth"
           }
          ],
          "contour": [
           {
            "colorbar": {
             "outlinewidth": 0,
             "ticks": ""
            },
            "colorscale": [
             [
              0,
              "#0d0887"
             ],
             [
              0.1111111111111111,
              "#46039f"
             ],
             [
              0.2222222222222222,
              "#7201a8"
             ],
             [
              0.3333333333333333,
              "#9c179e"
             ],
             [
              0.4444444444444444,
              "#bd3786"
             ],
             [
              0.5555555555555556,
              "#d8576b"
             ],
             [
              0.6666666666666666,
              "#ed7953"
             ],
             [
              0.7777777777777778,
              "#fb9f3a"
             ],
             [
              0.8888888888888888,
              "#fdca26"
             ],
             [
              1,
              "#f0f921"
             ]
            ],
            "type": "contour"
           }
          ],
          "contourcarpet": [
           {
            "colorbar": {
             "outlinewidth": 0,
             "ticks": ""
            },
            "type": "contourcarpet"
           }
          ],
          "heatmap": [
           {
            "colorbar": {
             "outlinewidth": 0,
             "ticks": ""
            },
            "colorscale": [
             [
              0,
              "#0d0887"
             ],
             [
              0.1111111111111111,
              "#46039f"
             ],
             [
              0.2222222222222222,
              "#7201a8"
             ],
             [
              0.3333333333333333,
              "#9c179e"
             ],
             [
              0.4444444444444444,
              "#bd3786"
             ],
             [
              0.5555555555555556,
              "#d8576b"
             ],
             [
              0.6666666666666666,
              "#ed7953"
             ],
             [
              0.7777777777777778,
              "#fb9f3a"
             ],
             [
              0.8888888888888888,
              "#fdca26"
             ],
             [
              1,
              "#f0f921"
             ]
            ],
            "type": "heatmap"
           }
          ],
          "heatmapgl": [
           {
            "colorbar": {
             "outlinewidth": 0,
             "ticks": ""
            },
            "colorscale": [
             [
              0,
              "#0d0887"
             ],
             [
              0.1111111111111111,
              "#46039f"
             ],
             [
              0.2222222222222222,
              "#7201a8"
             ],
             [
              0.3333333333333333,
              "#9c179e"
             ],
             [
              0.4444444444444444,
              "#bd3786"
             ],
             [
              0.5555555555555556,
              "#d8576b"
             ],
             [
              0.6666666666666666,
              "#ed7953"
             ],
             [
              0.7777777777777778,
              "#fb9f3a"
             ],
             [
              0.8888888888888888,
              "#fdca26"
             ],
             [
              1,
              "#f0f921"
             ]
            ],
            "type": "heatmapgl"
           }
          ],
          "histogram": [
           {
            "marker": {
             "pattern": {
              "fillmode": "overlay",
              "size": 10,
              "solidity": 0.2
             }
            },
            "type": "histogram"
           }
          ],
          "histogram2d": [
           {
            "colorbar": {
             "outlinewidth": 0,
             "ticks": ""
            },
            "colorscale": [
             [
              0,
              "#0d0887"
             ],
             [
              0.1111111111111111,
              "#46039f"
             ],
             [
              0.2222222222222222,
              "#7201a8"
             ],
             [
              0.3333333333333333,
              "#9c179e"
             ],
             [
              0.4444444444444444,
              "#bd3786"
             ],
             [
              0.5555555555555556,
              "#d8576b"
             ],
             [
              0.6666666666666666,
              "#ed7953"
             ],
             [
              0.7777777777777778,
              "#fb9f3a"
             ],
             [
              0.8888888888888888,
              "#fdca26"
             ],
             [
              1,
              "#f0f921"
             ]
            ],
            "type": "histogram2d"
           }
          ],
          "histogram2dcontour": [
           {
            "colorbar": {
             "outlinewidth": 0,
             "ticks": ""
            },
            "colorscale": [
             [
              0,
              "#0d0887"
             ],
             [
              0.1111111111111111,
              "#46039f"
             ],
             [
              0.2222222222222222,
              "#7201a8"
             ],
             [
              0.3333333333333333,
              "#9c179e"
             ],
             [
              0.4444444444444444,
              "#bd3786"
             ],
             [
              0.5555555555555556,
              "#d8576b"
             ],
             [
              0.6666666666666666,
              "#ed7953"
             ],
             [
              0.7777777777777778,
              "#fb9f3a"
             ],
             [
              0.8888888888888888,
              "#fdca26"
             ],
             [
              1,
              "#f0f921"
             ]
            ],
            "type": "histogram2dcontour"
           }
          ],
          "mesh3d": [
           {
            "colorbar": {
             "outlinewidth": 0,
             "ticks": ""
            },
            "type": "mesh3d"
           }
          ],
          "parcoords": [
           {
            "line": {
             "colorbar": {
              "outlinewidth": 0,
              "ticks": ""
             }
            },
            "type": "parcoords"
           }
          ],
          "pie": [
           {
            "automargin": true,
            "type": "pie"
           }
          ],
          "scatter": [
           {
            "fillpattern": {
             "fillmode": "overlay",
             "size": 10,
             "solidity": 0.2
            },
            "type": "scatter"
           }
          ],
          "scatter3d": [
           {
            "line": {
             "colorbar": {
              "outlinewidth": 0,
              "ticks": ""
             }
            },
            "marker": {
             "colorbar": {
              "outlinewidth": 0,
              "ticks": ""
             }
            },
            "type": "scatter3d"
           }
          ],
          "scattercarpet": [
           {
            "marker": {
             "colorbar": {
              "outlinewidth": 0,
              "ticks": ""
             }
            },
            "type": "scattercarpet"
           }
          ],
          "scattergeo": [
           {
            "marker": {
             "colorbar": {
              "outlinewidth": 0,
              "ticks": ""
             }
            },
            "type": "scattergeo"
           }
          ],
          "scattergl": [
           {
            "marker": {
             "colorbar": {
              "outlinewidth": 0,
              "ticks": ""
             }
            },
            "type": "scattergl"
           }
          ],
          "scattermapbox": [
           {
            "marker": {
             "colorbar": {
              "outlinewidth": 0,
              "ticks": ""
             }
            },
            "type": "scattermapbox"
           }
          ],
          "scatterpolar": [
           {
            "marker": {
             "colorbar": {
              "outlinewidth": 0,
              "ticks": ""
             }
            },
            "type": "scatterpolar"
           }
          ],
          "scatterpolargl": [
           {
            "marker": {
             "colorbar": {
              "outlinewidth": 0,
              "ticks": ""
             }
            },
            "type": "scatterpolargl"
           }
          ],
          "scatterternary": [
           {
            "marker": {
             "colorbar": {
              "outlinewidth": 0,
              "ticks": ""
             }
            },
            "type": "scatterternary"
           }
          ],
          "surface": [
           {
            "colorbar": {
             "outlinewidth": 0,
             "ticks": ""
            },
            "colorscale": [
             [
              0,
              "#0d0887"
             ],
             [
              0.1111111111111111,
              "#46039f"
             ],
             [
              0.2222222222222222,
              "#7201a8"
             ],
             [
              0.3333333333333333,
              "#9c179e"
             ],
             [
              0.4444444444444444,
              "#bd3786"
             ],
             [
              0.5555555555555556,
              "#d8576b"
             ],
             [
              0.6666666666666666,
              "#ed7953"
             ],
             [
              0.7777777777777778,
              "#fb9f3a"
             ],
             [
              0.8888888888888888,
              "#fdca26"
             ],
             [
              1,
              "#f0f921"
             ]
            ],
            "type": "surface"
           }
          ],
          "table": [
           {
            "cells": {
             "fill": {
              "color": "#EBF0F8"
             },
             "line": {
              "color": "white"
             }
            },
            "header": {
             "fill": {
              "color": "#C8D4E3"
             },
             "line": {
              "color": "white"
             }
            },
            "type": "table"
           }
          ]
         },
         "layout": {
          "annotationdefaults": {
           "arrowcolor": "#2a3f5f",
           "arrowhead": 0,
           "arrowwidth": 1
          },
          "autotypenumbers": "strict",
          "coloraxis": {
           "colorbar": {
            "outlinewidth": 0,
            "ticks": ""
           }
          },
          "colorscale": {
           "diverging": [
            [
             0,
             "#8e0152"
            ],
            [
             0.1,
             "#c51b7d"
            ],
            [
             0.2,
             "#de77ae"
            ],
            [
             0.3,
             "#f1b6da"
            ],
            [
             0.4,
             "#fde0ef"
            ],
            [
             0.5,
             "#f7f7f7"
            ],
            [
             0.6,
             "#e6f5d0"
            ],
            [
             0.7,
             "#b8e186"
            ],
            [
             0.8,
             "#7fbc41"
            ],
            [
             0.9,
             "#4d9221"
            ],
            [
             1,
             "#276419"
            ]
           ],
           "sequential": [
            [
             0,
             "#0d0887"
            ],
            [
             0.1111111111111111,
             "#46039f"
            ],
            [
             0.2222222222222222,
             "#7201a8"
            ],
            [
             0.3333333333333333,
             "#9c179e"
            ],
            [
             0.4444444444444444,
             "#bd3786"
            ],
            [
             0.5555555555555556,
             "#d8576b"
            ],
            [
             0.6666666666666666,
             "#ed7953"
            ],
            [
             0.7777777777777778,
             "#fb9f3a"
            ],
            [
             0.8888888888888888,
             "#fdca26"
            ],
            [
             1,
             "#f0f921"
            ]
           ],
           "sequentialminus": [
            [
             0,
             "#0d0887"
            ],
            [
             0.1111111111111111,
             "#46039f"
            ],
            [
             0.2222222222222222,
             "#7201a8"
            ],
            [
             0.3333333333333333,
             "#9c179e"
            ],
            [
             0.4444444444444444,
             "#bd3786"
            ],
            [
             0.5555555555555556,
             "#d8576b"
            ],
            [
             0.6666666666666666,
             "#ed7953"
            ],
            [
             0.7777777777777778,
             "#fb9f3a"
            ],
            [
             0.8888888888888888,
             "#fdca26"
            ],
            [
             1,
             "#f0f921"
            ]
           ]
          },
          "colorway": [
           "#636efa",
           "#EF553B",
           "#00cc96",
           "#ab63fa",
           "#FFA15A",
           "#19d3f3",
           "#FF6692",
           "#B6E880",
           "#FF97FF",
           "#FECB52"
          ],
          "font": {
           "color": "#2a3f5f"
          },
          "geo": {
           "bgcolor": "white",
           "lakecolor": "white",
           "landcolor": "#E5ECF6",
           "showlakes": true,
           "showland": true,
           "subunitcolor": "white"
          },
          "hoverlabel": {
           "align": "left"
          },
          "hovermode": "closest",
          "mapbox": {
           "style": "light"
          },
          "paper_bgcolor": "white",
          "plot_bgcolor": "#E5ECF6",
          "polar": {
           "angularaxis": {
            "gridcolor": "white",
            "linecolor": "white",
            "ticks": ""
           },
           "bgcolor": "#E5ECF6",
           "radialaxis": {
            "gridcolor": "white",
            "linecolor": "white",
            "ticks": ""
           }
          },
          "scene": {
           "xaxis": {
            "backgroundcolor": "#E5ECF6",
            "gridcolor": "white",
            "gridwidth": 2,
            "linecolor": "white",
            "showbackground": true,
            "ticks": "",
            "zerolinecolor": "white"
           },
           "yaxis": {
            "backgroundcolor": "#E5ECF6",
            "gridcolor": "white",
            "gridwidth": 2,
            "linecolor": "white",
            "showbackground": true,
            "ticks": "",
            "zerolinecolor": "white"
           },
           "zaxis": {
            "backgroundcolor": "#E5ECF6",
            "gridcolor": "white",
            "gridwidth": 2,
            "linecolor": "white",
            "showbackground": true,
            "ticks": "",
            "zerolinecolor": "white"
           }
          },
          "shapedefaults": {
           "line": {
            "color": "#2a3f5f"
           }
          },
          "ternary": {
           "aaxis": {
            "gridcolor": "white",
            "linecolor": "white",
            "ticks": ""
           },
           "baxis": {
            "gridcolor": "white",
            "linecolor": "white",
            "ticks": ""
           },
           "bgcolor": "#E5ECF6",
           "caxis": {
            "gridcolor": "white",
            "linecolor": "white",
            "ticks": ""
           }
          },
          "title": {
           "x": 0.05
          },
          "xaxis": {
           "automargin": true,
           "gridcolor": "white",
           "linecolor": "white",
           "ticks": "",
           "title": {
            "standoff": 15
           },
           "zerolinecolor": "white",
           "zerolinewidth": 2
          },
          "yaxis": {
           "automargin": true,
           "gridcolor": "white",
           "linecolor": "white",
           "ticks": "",
           "title": {
            "standoff": 15
           },
           "zerolinecolor": "white",
           "zerolinewidth": 2
          }
         }
        },
        "title": {
         "text": "CTR vs Position for range 0-25"
        },
        "xaxis": {
         "anchor": "y",
         "domain": [
          0,
          1
         ],
         "title": {
          "text": "Position"
         }
        },
        "yaxis": {
         "anchor": "x",
         "domain": [
          0,
          1
         ],
         "title": {
          "text": "CTR"
         }
        }
       }
      }
     },
     "metadata": {},
     "output_type": "display_data"
    },
    {
     "data": {
      "application/vnd.jupyter.widget-view+json": {
       "model_id": "3fd470ef38ac4626b84e982177bef0fe",
       "version_major": 2,
       "version_minor": 0
      },
      "text/plain": [
       "interactive(children=(Dropdown(description='Position Range', options=('0-25', '25-50', '50-75', '75-100'), val…"
      ]
     },
     "metadata": {},
     "output_type": "display_data"
    },
    {
     "data": {
      "application/vnd.plotly.v1+json": {
       "config": {
        "plotlyServerURL": "https://plot.ly"
       },
       "data": [
        {
         "customdata": [
          [
           "https://www.511tactical.com/types-of-holsters-for-concealed-carry"
          ],
          [
           "https://www.511tactical.com/mens/mens-training.html"
          ],
          [
           "https://www.511tactical.com/mens/mens-shirts/button-ups.html"
          ],
          [
           "https://www.511tactical.com/womens/womens-shorts.html"
          ],
          [
           "https://www.511tactical.com/accessories/slings-holsters.html"
          ],
          [
           "https://www.511tactical.com/womens/womens-shirts.html"
          ],
          [
           "https://www.511tactical.com/professional-polo-long-sleeve.html"
          ],
          [
           "https://www.511tactical.com/mens/mens-pants/mens-chino-pants.html"
          ],
          [
           "https://www.511tactical.com/womens/plus-size-clothing/pants.html"
          ],
          [
           "https://www.511tactical.com/mens/mens-outerwear/base-layers.html"
          ],
          [
           "https://www.511tactical.com/footwear/boots/work-boots.html"
          ],
          [
           "https://www.511tactical.com/mens/mens-shorts.html"
          ],
          [
           "https://www.511tactical.com/work-pants.html"
          ],
          [
           "https://www.511tactical.com/mens/mens-shirts/mens-polo-shirts.html"
          ],
          [
           "https://www.511tactical.com/fr-utility-stretch-shirt.html"
          ],
          [
           "https://www.511tactical.com/mens/mens-outerwear/mens-high-visibility-jackets.html"
          ]
         ],
         "hovertemplate": "Position=%{x}<br>CTR=%{y}<br>Top pages=%{customdata[0]}<extra></extra>",
         "legendgroup": "",
         "marker": {
          "color": "#636efa",
          "symbol": "circle"
         },
         "mode": "markers",
         "name": "",
         "orientation": "h",
         "showlegend": false,
         "textposition": "top center",
         "type": "scatter",
         "x": [
          59.72,
          54.7,
          63.69,
          59.83,
          71.97,
          51.77,
          54.49,
          62,
          53.97,
          65.03,
          51.47,
          50.04,
          50.37,
          52.95,
          65.44,
          51.33
         ],
         "xaxis": "x",
         "y": [
          "0.34%",
          "0.38%",
          "0.46%",
          "0.54%",
          "0.65%",
          "0.76%",
          "0.89%",
          "0.94%",
          "1.03%",
          "1.03%",
          "1.03%",
          "1.06%",
          "1.06%",
          "2.19%",
          "2.51%",
          "2.8%"
         ],
         "yaxis": "y"
        }
       ],
       "layout": {
        "legend": {
         "tracegroupgap": 0
        },
        "showlegend": false,
        "template": {
         "data": {
          "bar": [
           {
            "error_x": {
             "color": "#2a3f5f"
            },
            "error_y": {
             "color": "#2a3f5f"
            },
            "marker": {
             "line": {
              "color": "#E5ECF6",
              "width": 0.5
             },
             "pattern": {
              "fillmode": "overlay",
              "size": 10,
              "solidity": 0.2
             }
            },
            "type": "bar"
           }
          ],
          "barpolar": [
           {
            "marker": {
             "line": {
              "color": "#E5ECF6",
              "width": 0.5
             },
             "pattern": {
              "fillmode": "overlay",
              "size": 10,
              "solidity": 0.2
             }
            },
            "type": "barpolar"
           }
          ],
          "carpet": [
           {
            "aaxis": {
             "endlinecolor": "#2a3f5f",
             "gridcolor": "white",
             "linecolor": "white",
             "minorgridcolor": "white",
             "startlinecolor": "#2a3f5f"
            },
            "baxis": {
             "endlinecolor": "#2a3f5f",
             "gridcolor": "white",
             "linecolor": "white",
             "minorgridcolor": "white",
             "startlinecolor": "#2a3f5f"
            },
            "type": "carpet"
           }
          ],
          "choropleth": [
           {
            "colorbar": {
             "outlinewidth": 0,
             "ticks": ""
            },
            "type": "choropleth"
           }
          ],
          "contour": [
           {
            "colorbar": {
             "outlinewidth": 0,
             "ticks": ""
            },
            "colorscale": [
             [
              0,
              "#0d0887"
             ],
             [
              0.1111111111111111,
              "#46039f"
             ],
             [
              0.2222222222222222,
              "#7201a8"
             ],
             [
              0.3333333333333333,
              "#9c179e"
             ],
             [
              0.4444444444444444,
              "#bd3786"
             ],
             [
              0.5555555555555556,
              "#d8576b"
             ],
             [
              0.6666666666666666,
              "#ed7953"
             ],
             [
              0.7777777777777778,
              "#fb9f3a"
             ],
             [
              0.8888888888888888,
              "#fdca26"
             ],
             [
              1,
              "#f0f921"
             ]
            ],
            "type": "contour"
           }
          ],
          "contourcarpet": [
           {
            "colorbar": {
             "outlinewidth": 0,
             "ticks": ""
            },
            "type": "contourcarpet"
           }
          ],
          "heatmap": [
           {
            "colorbar": {
             "outlinewidth": 0,
             "ticks": ""
            },
            "colorscale": [
             [
              0,
              "#0d0887"
             ],
             [
              0.1111111111111111,
              "#46039f"
             ],
             [
              0.2222222222222222,
              "#7201a8"
             ],
             [
              0.3333333333333333,
              "#9c179e"
             ],
             [
              0.4444444444444444,
              "#bd3786"
             ],
             [
              0.5555555555555556,
              "#d8576b"
             ],
             [
              0.6666666666666666,
              "#ed7953"
             ],
             [
              0.7777777777777778,
              "#fb9f3a"
             ],
             [
              0.8888888888888888,
              "#fdca26"
             ],
             [
              1,
              "#f0f921"
             ]
            ],
            "type": "heatmap"
           }
          ],
          "heatmapgl": [
           {
            "colorbar": {
             "outlinewidth": 0,
             "ticks": ""
            },
            "colorscale": [
             [
              0,
              "#0d0887"
             ],
             [
              0.1111111111111111,
              "#46039f"
             ],
             [
              0.2222222222222222,
              "#7201a8"
             ],
             [
              0.3333333333333333,
              "#9c179e"
             ],
             [
              0.4444444444444444,
              "#bd3786"
             ],
             [
              0.5555555555555556,
              "#d8576b"
             ],
             [
              0.6666666666666666,
              "#ed7953"
             ],
             [
              0.7777777777777778,
              "#fb9f3a"
             ],
             [
              0.8888888888888888,
              "#fdca26"
             ],
             [
              1,
              "#f0f921"
             ]
            ],
            "type": "heatmapgl"
           }
          ],
          "histogram": [
           {
            "marker": {
             "pattern": {
              "fillmode": "overlay",
              "size": 10,
              "solidity": 0.2
             }
            },
            "type": "histogram"
           }
          ],
          "histogram2d": [
           {
            "colorbar": {
             "outlinewidth": 0,
             "ticks": ""
            },
            "colorscale": [
             [
              0,
              "#0d0887"
             ],
             [
              0.1111111111111111,
              "#46039f"
             ],
             [
              0.2222222222222222,
              "#7201a8"
             ],
             [
              0.3333333333333333,
              "#9c179e"
             ],
             [
              0.4444444444444444,
              "#bd3786"
             ],
             [
              0.5555555555555556,
              "#d8576b"
             ],
             [
              0.6666666666666666,
              "#ed7953"
             ],
             [
              0.7777777777777778,
              "#fb9f3a"
             ],
             [
              0.8888888888888888,
              "#fdca26"
             ],
             [
              1,
              "#f0f921"
             ]
            ],
            "type": "histogram2d"
           }
          ],
          "histogram2dcontour": [
           {
            "colorbar": {
             "outlinewidth": 0,
             "ticks": ""
            },
            "colorscale": [
             [
              0,
              "#0d0887"
             ],
             [
              0.1111111111111111,
              "#46039f"
             ],
             [
              0.2222222222222222,
              "#7201a8"
             ],
             [
              0.3333333333333333,
              "#9c179e"
             ],
             [
              0.4444444444444444,
              "#bd3786"
             ],
             [
              0.5555555555555556,
              "#d8576b"
             ],
             [
              0.6666666666666666,
              "#ed7953"
             ],
             [
              0.7777777777777778,
              "#fb9f3a"
             ],
             [
              0.8888888888888888,
              "#fdca26"
             ],
             [
              1,
              "#f0f921"
             ]
            ],
            "type": "histogram2dcontour"
           }
          ],
          "mesh3d": [
           {
            "colorbar": {
             "outlinewidth": 0,
             "ticks": ""
            },
            "type": "mesh3d"
           }
          ],
          "parcoords": [
           {
            "line": {
             "colorbar": {
              "outlinewidth": 0,
              "ticks": ""
             }
            },
            "type": "parcoords"
           }
          ],
          "pie": [
           {
            "automargin": true,
            "type": "pie"
           }
          ],
          "scatter": [
           {
            "fillpattern": {
             "fillmode": "overlay",
             "size": 10,
             "solidity": 0.2
            },
            "type": "scatter"
           }
          ],
          "scatter3d": [
           {
            "line": {
             "colorbar": {
              "outlinewidth": 0,
              "ticks": ""
             }
            },
            "marker": {
             "colorbar": {
              "outlinewidth": 0,
              "ticks": ""
             }
            },
            "type": "scatter3d"
           }
          ],
          "scattercarpet": [
           {
            "marker": {
             "colorbar": {
              "outlinewidth": 0,
              "ticks": ""
             }
            },
            "type": "scattercarpet"
           }
          ],
          "scattergeo": [
           {
            "marker": {
             "colorbar": {
              "outlinewidth": 0,
              "ticks": ""
             }
            },
            "type": "scattergeo"
           }
          ],
          "scattergl": [
           {
            "marker": {
             "colorbar": {
              "outlinewidth": 0,
              "ticks": ""
             }
            },
            "type": "scattergl"
           }
          ],
          "scattermapbox": [
           {
            "marker": {
             "colorbar": {
              "outlinewidth": 0,
              "ticks": ""
             }
            },
            "type": "scattermapbox"
           }
          ],
          "scatterpolar": [
           {
            "marker": {
             "colorbar": {
              "outlinewidth": 0,
              "ticks": ""
             }
            },
            "type": "scatterpolar"
           }
          ],
          "scatterpolargl": [
           {
            "marker": {
             "colorbar": {
              "outlinewidth": 0,
              "ticks": ""
             }
            },
            "type": "scatterpolargl"
           }
          ],
          "scatterternary": [
           {
            "marker": {
             "colorbar": {
              "outlinewidth": 0,
              "ticks": ""
             }
            },
            "type": "scatterternary"
           }
          ],
          "surface": [
           {
            "colorbar": {
             "outlinewidth": 0,
             "ticks": ""
            },
            "colorscale": [
             [
              0,
              "#0d0887"
             ],
             [
              0.1111111111111111,
              "#46039f"
             ],
             [
              0.2222222222222222,
              "#7201a8"
             ],
             [
              0.3333333333333333,
              "#9c179e"
             ],
             [
              0.4444444444444444,
              "#bd3786"
             ],
             [
              0.5555555555555556,
              "#d8576b"
             ],
             [
              0.6666666666666666,
              "#ed7953"
             ],
             [
              0.7777777777777778,
              "#fb9f3a"
             ],
             [
              0.8888888888888888,
              "#fdca26"
             ],
             [
              1,
              "#f0f921"
             ]
            ],
            "type": "surface"
           }
          ],
          "table": [
           {
            "cells": {
             "fill": {
              "color": "#EBF0F8"
             },
             "line": {
              "color": "white"
             }
            },
            "header": {
             "fill": {
              "color": "#C8D4E3"
             },
             "line": {
              "color": "white"
             }
            },
            "type": "table"
           }
          ]
         },
         "layout": {
          "annotationdefaults": {
           "arrowcolor": "#2a3f5f",
           "arrowhead": 0,
           "arrowwidth": 1
          },
          "autotypenumbers": "strict",
          "coloraxis": {
           "colorbar": {
            "outlinewidth": 0,
            "ticks": ""
           }
          },
          "colorscale": {
           "diverging": [
            [
             0,
             "#8e0152"
            ],
            [
             0.1,
             "#c51b7d"
            ],
            [
             0.2,
             "#de77ae"
            ],
            [
             0.3,
             "#f1b6da"
            ],
            [
             0.4,
             "#fde0ef"
            ],
            [
             0.5,
             "#f7f7f7"
            ],
            [
             0.6,
             "#e6f5d0"
            ],
            [
             0.7,
             "#b8e186"
            ],
            [
             0.8,
             "#7fbc41"
            ],
            [
             0.9,
             "#4d9221"
            ],
            [
             1,
             "#276419"
            ]
           ],
           "sequential": [
            [
             0,
             "#0d0887"
            ],
            [
             0.1111111111111111,
             "#46039f"
            ],
            [
             0.2222222222222222,
             "#7201a8"
            ],
            [
             0.3333333333333333,
             "#9c179e"
            ],
            [
             0.4444444444444444,
             "#bd3786"
            ],
            [
             0.5555555555555556,
             "#d8576b"
            ],
            [
             0.6666666666666666,
             "#ed7953"
            ],
            [
             0.7777777777777778,
             "#fb9f3a"
            ],
            [
             0.8888888888888888,
             "#fdca26"
            ],
            [
             1,
             "#f0f921"
            ]
           ],
           "sequentialminus": [
            [
             0,
             "#0d0887"
            ],
            [
             0.1111111111111111,
             "#46039f"
            ],
            [
             0.2222222222222222,
             "#7201a8"
            ],
            [
             0.3333333333333333,
             "#9c179e"
            ],
            [
             0.4444444444444444,
             "#bd3786"
            ],
            [
             0.5555555555555556,
             "#d8576b"
            ],
            [
             0.6666666666666666,
             "#ed7953"
            ],
            [
             0.7777777777777778,
             "#fb9f3a"
            ],
            [
             0.8888888888888888,
             "#fdca26"
            ],
            [
             1,
             "#f0f921"
            ]
           ]
          },
          "colorway": [
           "#636efa",
           "#EF553B",
           "#00cc96",
           "#ab63fa",
           "#FFA15A",
           "#19d3f3",
           "#FF6692",
           "#B6E880",
           "#FF97FF",
           "#FECB52"
          ],
          "font": {
           "color": "#2a3f5f"
          },
          "geo": {
           "bgcolor": "white",
           "lakecolor": "white",
           "landcolor": "#E5ECF6",
           "showlakes": true,
           "showland": true,
           "subunitcolor": "white"
          },
          "hoverlabel": {
           "align": "left"
          },
          "hovermode": "closest",
          "mapbox": {
           "style": "light"
          },
          "paper_bgcolor": "white",
          "plot_bgcolor": "#E5ECF6",
          "polar": {
           "angularaxis": {
            "gridcolor": "white",
            "linecolor": "white",
            "ticks": ""
           },
           "bgcolor": "#E5ECF6",
           "radialaxis": {
            "gridcolor": "white",
            "linecolor": "white",
            "ticks": ""
           }
          },
          "scene": {
           "xaxis": {
            "backgroundcolor": "#E5ECF6",
            "gridcolor": "white",
            "gridwidth": 2,
            "linecolor": "white",
            "showbackground": true,
            "ticks": "",
            "zerolinecolor": "white"
           },
           "yaxis": {
            "backgroundcolor": "#E5ECF6",
            "gridcolor": "white",
            "gridwidth": 2,
            "linecolor": "white",
            "showbackground": true,
            "ticks": "",
            "zerolinecolor": "white"
           },
           "zaxis": {
            "backgroundcolor": "#E5ECF6",
            "gridcolor": "white",
            "gridwidth": 2,
            "linecolor": "white",
            "showbackground": true,
            "ticks": "",
            "zerolinecolor": "white"
           }
          },
          "shapedefaults": {
           "line": {
            "color": "#2a3f5f"
           }
          },
          "ternary": {
           "aaxis": {
            "gridcolor": "white",
            "linecolor": "white",
            "ticks": ""
           },
           "baxis": {
            "gridcolor": "white",
            "linecolor": "white",
            "ticks": ""
           },
           "bgcolor": "#E5ECF6",
           "caxis": {
            "gridcolor": "white",
            "linecolor": "white",
            "ticks": ""
           }
          },
          "title": {
           "x": 0.05
          },
          "xaxis": {
           "automargin": true,
           "gridcolor": "white",
           "linecolor": "white",
           "ticks": "",
           "title": {
            "standoff": 15
           },
           "zerolinecolor": "white",
           "zerolinewidth": 2
          },
          "yaxis": {
           "automargin": true,
           "gridcolor": "white",
           "linecolor": "white",
           "ticks": "",
           "title": {
            "standoff": 15
           },
           "zerolinecolor": "white",
           "zerolinewidth": 2
          }
         }
        },
        "title": {
         "text": "CTR vs Position for range 50-75"
        },
        "xaxis": {
         "anchor": "y",
         "domain": [
          0,
          1
         ],
         "title": {
          "text": "Position"
         }
        },
        "yaxis": {
         "anchor": "x",
         "domain": [
          0,
          1
         ],
         "title": {
          "text": "CTR"
         }
        }
       }
      }
     },
     "metadata": {},
     "output_type": "display_data"
    },
    {
     "data": {
      "text/plain": [
       "<function __main__.plot_position_range(range_selection)>"
      ]
     },
     "execution_count": 25,
     "metadata": {},
     "output_type": "execute_result"
    }
   ],
   "source": [
    "import pandas as pd\n",
    "import matplotlib.pyplot as plt\n",
    "from ipywidgets import interact, Dropdown\n",
    "import plotly.express as px\n",
    "\n",
    "# Assuming df_pages is already defined and available in the environment.\n",
    "\n",
    "# Generate a function to filter the dataframe based on the position range and create an interactive plot.\n",
    "def plot_position_range(range_selection):\n",
    "    if range_selection == '0-25':\n",
    "        df_filtered = df_pages[(df_pages['Position'] >= 0) & (df_pages['Position'] <= 25)]\n",
    "    elif range_selection == '25-50':\n",
    "        df_filtered = df_pages[(df_pages['Position'] > 25) & (df_pages['Position'] <= 50)]\n",
    "    elif range_selection == '50-75':\n",
    "        df_filtered = df_pages[(df_pages['Position'] > 50) & (df_pages['Position'] <= 75)]\n",
    "    else: \n",
    "        df_filtered = df_pages[(df_pages['Position'] > 75) & (df_pages['Position'] <= 100)]\n",
    "\n",
    "    fig = px.scatter(df_filtered, x='Position', y='CTR', hover_data=['Top pages'], title=f'CTR vs Position for range {range_selection}')\n",
    "    fig.update_traces(textposition='top center')\n",
    "    fig.update_layout(showlegend=False)\n",
    "    fig.show()\n",
    "    filename = f'CTR_vs_Position_{range_selection}.html'\n",
    "    fig.write_html(filename)\n",
    "    print(f'Plot saved as {filename}')\n",
    "# Dropdown widget for the position ranges.\n",
    "dropdown = Dropdown(options=['0-25', '25-50', '50-75', '75-100'], value='0-25', description='Position Range')\n",
    "\n",
    "# The interactive widget.\n",
    "interact(plot_position_range, range_selection=dropdown)\n"
   ]
  }
 ],
 "metadata": {
  "kernelspec": {
   "display_name": "dev",
   "language": "python",
   "name": "python3"
  },
  "language_info": {
   "codemirror_mode": {
    "name": "ipython",
    "version": 3
   },
   "file_extension": ".py",
   "mimetype": "text/x-python",
   "name": "python",
   "nbconvert_exporter": "python",
   "pygments_lexer": "ipython3",
   "version": "3.10.13"
  }
 },
 "nbformat": 4,
 "nbformat_minor": 2
}
